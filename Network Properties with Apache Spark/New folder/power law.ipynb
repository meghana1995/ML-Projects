{
 "cells": [
  {
   "cell_type": "code",
   "execution_count": 1,
   "metadata": {
    "collapsed": true
   },
   "outputs": [],
   "source": [
    "import scipy.stats\n",
    "import pandas as pd\n",
    "import numpy as np\n",
    "import matplotlib.pyplot as plt\n",
    "%matplotlib inline"
   ]
  },
  {
   "cell_type": "code",
   "execution_count": 2,
   "metadata": {},
   "outputs": [
    {
     "name": "stdout",
     "output_type": "stream",
     "text": [
      "9_11_edgelist.txt\tgnm2.csv\r\n",
      "amazon.graph.large.csv\tgnp1.csv\r\n",
      "amazon.graph.small.csv\tgnp2.csv\r\n",
      "articulation.py\t\tpower law.ipynb\r\n",
      "articulations_out.csv\tProjectDescription.NetworkPropertiesSpark.pdf\r\n",
      "centrality_out.csv\tREADME.txt\r\n",
      "centrality.py\t\tstanford_graphs\r\n",
      "dblp.graph.large.csv\tstanford_graphs.zip\r\n",
      "dblp.graph.small.csv\tUntitled.ipynb\r\n",
      "degree.py\t\tyoutube.graph.large.csv\r\n",
      "gnm1.csv\t\tyoutube.graph.small.csv\r\n"
     ]
    }
   ],
   "source": [
    "!ls"
   ]
  },
  {
   "cell_type": "code",
   "execution_count": 3,
   "metadata": {
    "collapsed": true
   },
   "outputs": [],
   "source": [
    "filename = 'youtube.graph.small.csv'\n",
    "df = pd.read_csv(filename)\n",
    "df = df.drop(df.columns[0],axis=1)\n",
    "x = np.array(df[df.columns[0]])\n",
    "y = np.array(df[df.columns[1]])"
   ]
  },
  {
   "cell_type": "code",
   "execution_count": 4,
   "metadata": {},
   "outputs": [
    {
     "data": {
      "text/plain": [
       "Text(0, 0.5, 'count')"
      ]
     },
     "execution_count": 4,
     "metadata": {},
     "output_type": "execute_result"
    },
    {
     "data": {
      "image/png": "[encoded data removed]",
      "text/plain": [
       "<Figure size 360x360 with 1 Axes>"
      ]
     },
     "metadata": {
      "needs_background": "light"
     },
     "output_type": "display_data"
    }
   ],
   "source": [
    "f, ax = plt.subplots(figsize=(5, 5))\n",
    "#ax.set(xscale=\"log\", yscale=\"log\")\n",
    "ax.scatter(x, y)\n",
    "\n",
    "ax.set_title('Distribution')\n",
    "ax.set_xlabel(df.columns[0])\n",
    "ax.set_ylabel(df.columns[1])"
   ]
  },
  {
   "cell_type": "code",
   "execution_count": 5,
   "metadata": {},
   "outputs": [
    {
     "data": {
      "text/plain": [
       "Text(0, 0.5, 'count')"
      ]
     },
     "execution_count": 5,
     "metadata": {},
     "output_type": "execute_result"
    },
    {
     "data": {
      "image/png": "[encoded data removed]",
      "text/plain": [
       "<Figure size 360x360 with 1 Axes>"
      ]
     },
     "metadata": {
      "needs_background": "light"
     },
     "output_type": "display_data"
    }
   ],
   "source": [
    "f, ax = plt.subplots(figsize=(5, 5))\n",
    "ax.set(xscale=\"log\", yscale=\"log\")\n",
    "ax.scatter(x, y)\n",
    "\n",
    "ax.set_title('Log-Log Distribution')\n",
    "ax.set_xlabel(df.columns[0])\n",
    "ax.set_ylabel(df.columns[1])"
   ]
  },
  {
   "cell_type": "code",
   "execution_count": 6,
   "metadata": {},
   "outputs": [
    {
     "name": "stdout",
     "output_type": "stream",
     "text": [
      "Coefficients [-2.60472814  7.63227776]\n",
      "Residuals [2.72996778]\n"
     ]
    },
    {
     "data": {
      "text/plain": [
       "[<matplotlib.lines.Line2D at 0x7f3ac4f3cbe0>,\n",
       " <matplotlib.lines.Line2D at 0x7f3ac4f3cd68>]"
      ]
     },
     "execution_count": 6,
     "metadata": {},
     "output_type": "execute_result"
    },
    {
     "data": {
      "image/png": "[encoded data removed]",
      "text/plain": [
       "<Figure size 432x288 with 1 Axes>"
      ]
     },
     "metadata": {
      "needs_background": "light"
     },
     "output_type": "display_data"
    }
   ],
   "source": [
    "coefficients, residuals, _, _, _ = np.polyfit(np.log(x), np.log(y), 1, full=True)\n",
    "print(\"Coefficients\",coefficients)\n",
    "print(\"Residuals\",residuals)\n",
    "polynomial = np.poly1d(coefficients)\n",
    "xp = np.linspace(0, 4, 100)\n",
    "plt.plot(np.log(x), np.log(y), '.', xp, polynomial(xp), '-')"
   ]
  },
  {
   "cell_type": "code",
   "execution_count": 7,
   "metadata": {},
   "outputs": [
    {
     "name": "stdout",
     "output_type": "stream",
     "text": [
      "p-value:  0.8025036112397085 D:  0.17189536417102352\n"
     ]
    }
   ],
   "source": [
    "params = scipy.stats.powerlaw.fit(np.log(y))\n",
    "#Applying the Kolmogorov-Smirnof one sided test\n",
    "D, p = scipy.stats.kstest(np.log(y), \"powerlaw\", args=params)\n",
    "print(\"p-value: \",str(p),\"D: \",str(D))"
   ]
  },
  {
   "cell_type": "code",
   "execution_count": 8,
   "metadata": {},
   "outputs": [
    {
     "name": "stdout",
     "output_type": "stream",
     "text": [
      "p-value:  0.04647110203268088 D:  0.35235234905353413\n"
     ]
    }
   ],
   "source": [
    "params = scipy.stats.powerlaw.fit(y)\n",
    "#Applying the Kolmogorov-Smirnof one sided test\n",
    "D, p = scipy.stats.kstest(y, \"powerlaw\", args=params)\n",
    "print(\"p-value: \",str(p),\"D: \",str(D))"
   ]
  }
 ],
 "metadata": {
  "kernelspec": {
   "display_name": "Python 3",
   "language": "python",
   "name": "python3"
  },
  "language_info": {
   "codemirror_mode": {
    "name": "ipython",
    "version": 3
   },
   "file_extension": ".py",
   "mimetype": "text/x-python",
   "name": "python",
   "nbconvert_exporter": "python",
   "pygments_lexer": "ipython3",
   "version": "3.5.2"
  }
 },
 "nbformat": 4,
 "nbformat_minor": 2
}
