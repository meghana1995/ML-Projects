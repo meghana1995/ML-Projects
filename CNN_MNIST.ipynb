{
  "nbformat": 4,
  "nbformat_minor": 0,
  "metadata": {
    "colab": {
      "name": "CNN MNIST",
      "provenance": [],
      "collapsed_sections": [],
      "include_colab_link": true
    },
    "kernelspec": {
      "name": "python3",
      "display_name": "Python 3"
    },
    "accelerator": "GPU"
  },
  "cells": [
    {
      "cell_type": "markdown",
      "metadata": {
        "id": "view-in-github",
        "colab_type": "text"
      },
      "source": [
        "<a href=\"https://colab.research.google.com/github/rachit-shah/ADBI-projects/blob/master/CNN_MNIST.ipynb\" target=\"_parent\"><img src=\"https://colab.research.google.com/assets/colab-badge.svg\" alt=\"Open In Colab\"/></a>"
      ]
    },
    {
      "cell_type": "code",
      "metadata": {
        "id": "55emSiBngazt",
        "colab_type": "code",
        "colab": {}
      },
      "source": [
        "from mlxtend.data import loadlocal_mnist\n",
        "import pickle\n",
        "import random\n",
        "from sklearn.model_selection import train_test_split\n",
        "import matplotlib.pyplot as plt\n",
        "import numpy as np\n",
        "import pandas as pd\n",
        "import seaborn as sns\n",
        "\n",
        "from keras.layers import Conv2D, MaxPool2D, Dense, Dropout, Flatten\n",
        "from keras import Model,Sequential\n",
        "import keras\n",
        "from sklearn.model_selection import GridSearchCV\n",
        "from keras.wrappers.scikit_learn import KerasClassifier\n",
        "from sklearn.metrics import confusion_matrix, precision_recall_fscore_support, accuracy_score"
      ],
      "execution_count": 0,
      "outputs": []
    },
    {
      "cell_type": "code",
      "metadata": {
        "id": "UuMvl_qXgiXH",
        "colab_type": "code",
        "colab": {}
      },
      "source": [
        "#Connect to Google Drive on Colab\n",
        "from google.colab import drive\n",
        "drive.mount('/content/drive')"
      ],
      "execution_count": 0,
      "outputs": []
    },
    {
      "cell_type": "code",
      "metadata": {
        "id": "iP2Y35BD6Ejb",
        "colab_type": "code",
        "outputId": "497cdbde-e652-4cc3-a2ec-330d048a2d26",
        "colab": {
          "base_uri": "https://localhost:8080/",
          "height": 798
        }
      },
      "source": [
        "!wget http://yann.lecun.com/exdb/mnist/train-images-idx3-ubyte.gz\n",
        "!wget http://yann.lecun.com/exdb/mnist/train-labels-idx1-ubyte.gz\n",
        "!wget http://yann.lecun.com/exdb/mnist/t10k-images-idx3-ubyte.gz\n",
        "!wget http://yann.lecun.com/exdb/mnist/t10k-labels-idx1-ubyte.gz"
      ],
      "execution_count": 6,
      "outputs": [
        {
          "output_type": "stream",
          "text": [
            "--2019-10-14 18:46:10--  http://yann.lecun.com/exdb/mnist/train-images-idx3-ubyte.gz\n",
            "Resolving yann.lecun.com (yann.lecun.com)... 216.165.22.6\n",
            "Connecting to yann.lecun.com (yann.lecun.com)|216.165.22.6|:80... connected.\n",
            "HTTP request sent, awaiting response... 200 OK\n",
            "Length: 9912422 (9.5M) [application/x-gzip]\n",
            "Saving to: ‘train-images-idx3-ubyte.gz’\n",
            "\n",
            "train-images-idx3-u 100%[===================>]   9.45M  5.06MB/s    in 1.9s    \n",
            "\n",
            "2019-10-14 18:46:13 (5.06 MB/s) - ‘train-images-idx3-ubyte.gz’ saved [9912422/9912422]\n",
            "\n",
            "--2019-10-14 18:46:13--  http://yann.lecun.com/exdb/mnist/train-labels-idx1-ubyte.gz\n",
            "Resolving yann.lecun.com (yann.lecun.com)... 216.165.22.6\n",
            "Connecting to yann.lecun.com (yann.lecun.com)|216.165.22.6|:80... connected.\n",
            "HTTP request sent, awaiting response... 200 OK\n",
            "Length: 28881 (28K) [application/x-gzip]\n",
            "Saving to: ‘train-labels-idx1-ubyte.gz’\n",
            "\n",
            "train-labels-idx1-u 100%[===================>]  28.20K  --.-KB/s    in 0.08s   \n",
            "\n",
            "2019-10-14 18:46:14 (336 KB/s) - ‘train-labels-idx1-ubyte.gz’ saved [28881/28881]\n",
            "\n",
            "--2019-10-14 18:46:14--  http://yann.lecun.com/exdb/mnist/t10k-images-idx3-ubyte.gz\n",
            "Resolving yann.lecun.com (yann.lecun.com)... 216.165.22.6\n",
            "Connecting to yann.lecun.com (yann.lecun.com)|216.165.22.6|:80... connected.\n",
            "HTTP request sent, awaiting response... 200 OK\n",
            "Length: 1648877 (1.6M) [application/x-gzip]\n",
            "Saving to: ‘t10k-images-idx3-ubyte.gz’\n",
            "\n",
            "t10k-images-idx3-ub 100%[===================>]   1.57M   109KB/s    in 14s     \n",
            "\n",
            "2019-10-14 18:46:29 (112 KB/s) - ‘t10k-images-idx3-ubyte.gz’ saved [1648877/1648877]\n",
            "\n",
            "--2019-10-14 18:46:29--  http://yann.lecun.com/exdb/mnist/t10k-labels-idx1-ubyte.gz\n",
            "Resolving yann.lecun.com (yann.lecun.com)... 216.165.22.6\n",
            "Connecting to yann.lecun.com (yann.lecun.com)|216.165.22.6|:80... connected.\n",
            "HTTP request sent, awaiting response... 200 OK\n",
            "Length: 4542 (4.4K) [application/x-gzip]\n",
            "Saving to: ‘t10k-labels-idx1-ubyte.gz’\n",
            "\n",
            "t10k-labels-idx1-ub 100%[===================>]   4.44K  --.-KB/s    in 0s      \n",
            "\n",
            "2019-10-14 18:46:30 (332 MB/s) - ‘t10k-labels-idx1-ubyte.gz’ saved [4542/4542]\n",
            "\n"
          ],
          "name": "stdout"
        }
      ]
    },
    {
      "cell_type": "code",
      "metadata": {
        "id": "zm_2QWrW6GC4",
        "colab_type": "code",
        "colab": {}
      },
      "source": [
        "!gunzip *.gz"
      ],
      "execution_count": 0,
      "outputs": []
    },
    {
      "cell_type": "code",
      "metadata": {
        "id": "croKZX9F-Pn5",
        "colab_type": "code",
        "outputId": "f0105e1a-9674-4b42-c067-ce9fe6a164c1",
        "colab": {
          "base_uri": "https://localhost:8080/",
          "height": 158
        }
      },
      "source": [
        "!ls -l"
      ],
      "execution_count": 8,
      "outputs": [
        {
          "output_type": "stream",
          "text": [
            "total 54796\n",
            "drwx------ 3 root root     4096 Oct 14 18:43 drive\n",
            "-rw------- 1 root root  1142313 Oct 14 18:45 grid.pkl\n",
            "drwxr-xr-x 1 root root     4096 Aug 27 16:17 sample_data\n",
            "-rw-r--r-- 1 root root  7840016 Jul 21  2000 t10k-images-idx3-ubyte\n",
            "-rw-r--r-- 1 root root    10008 Jul 21  2000 t10k-labels-idx1-ubyte\n",
            "-rw-r--r-- 1 root root 47040016 Jul 21  2000 train-images-idx3-ubyte\n",
            "-rw-r--r-- 1 root root    60008 Jul 21  2000 train-labels-idx1-ubyte\n"
          ],
          "name": "stdout"
        }
      ]
    },
    {
      "cell_type": "code",
      "metadata": {
        "id": "LqDMGiEj_9Qb",
        "colab_type": "code",
        "colab": {}
      },
      "source": [
        "X, y = loadlocal_mnist(images_path='train-images-idx3-ubyte', \n",
        "                      labels_path='train-labels-idx1-ubyte')"
      ],
      "execution_count": 0,
      "outputs": []
    },
    {
      "cell_type": "code",
      "metadata": {
        "id": "zRn2bPvNHT4F",
        "colab_type": "code",
        "colab": {}
      },
      "source": [
        "X = X.reshape(len(X),28,28,1)"
      ],
      "execution_count": 0,
      "outputs": []
    },
    {
      "cell_type": "code",
      "metadata": {
        "id": "vTB9vCzokVZM",
        "colab_type": "code",
        "outputId": "c5644352-c99c-4456-c547-2ec7b4e59e05",
        "colab": {
          "base_uri": "https://localhost:8080/",
          "height": 34
        }
      },
      "source": [
        "X = X.astype('float32')\n",
        "X /= 255\n",
        "print('x_train shape:', X.shape)"
      ],
      "execution_count": 12,
      "outputs": [
        {
          "output_type": "stream",
          "text": [
            "x_train shape: (60000, 28, 28, 1)\n"
          ],
          "name": "stdout"
        }
      ]
    },
    {
      "cell_type": "code",
      "metadata": {
        "id": "S5Jr5jwUHhtc",
        "colab_type": "code",
        "outputId": "58871761-79b9-4748-a18f-10ef58a990fc",
        "colab": {
          "base_uri": "https://localhost:8080/",
          "height": 34
        }
      },
      "source": [
        "X.shape"
      ],
      "execution_count": 13,
      "outputs": [
        {
          "output_type": "execute_result",
          "data": {
            "text/plain": [
              "(60000, 28, 28, 1)"
            ]
          },
          "metadata": {
            "tags": []
          },
          "execution_count": 13
        }
      ]
    },
    {
      "cell_type": "code",
      "metadata": {
        "id": "uSQgBnGiAGID",
        "colab_type": "code",
        "colab": {}
      },
      "source": [
        "testX, testY = loadlocal_mnist(images_path='t10k-images-idx3-ubyte', \n",
        "                              labels_path='t10k-labels-idx1-ubyte')\n",
        "testX = testX.reshape(len(testX),28,28,1)"
      ],
      "execution_count": 0,
      "outputs": []
    },
    {
      "cell_type": "markdown",
      "metadata": {
        "id": "Qso7ePUBAXIS",
        "colab_type": "text"
      },
      "source": [
        "#Splitting into train and validation"
      ]
    },
    {
      "cell_type": "code",
      "metadata": {
        "id": "uGYceLvjAwBd",
        "colab_type": "code",
        "colab": {}
      },
      "source": [
        "VAL_SPLIT = 0.2\n",
        "num_classes=10"
      ],
      "execution_count": 0,
      "outputs": []
    },
    {
      "cell_type": "code",
      "metadata": {
        "id": "Yh5HgGg4Bjg4",
        "colab_type": "code",
        "colab": {}
      },
      "source": [
        "trainX, valX, trainY, valY = train_test_split(X,y,test_size=VAL_SPLIT)"
      ],
      "execution_count": 0,
      "outputs": []
    },
    {
      "cell_type": "markdown",
      "metadata": {
        "id": "vApbietbEnqV",
        "colab_type": "text"
      },
      "source": [
        "# Model"
      ]
    },
    {
      "cell_type": "code",
      "metadata": {
        "id": "F7QSBPRPiBwS",
        "colab_type": "code",
        "colab": {}
      },
      "source": [
        "#parameters\n",
        "act=None #activation\n",
        "lr=0.001 #learning rate for adam optimizer\n",
        "epoch=100 #number of epochs to train\n",
        "drop=0.5 #dropout"
      ],
      "execution_count": 0,
      "outputs": []
    },
    {
      "cell_type": "code",
      "metadata": {
        "id": "aviDoNhSEpuz",
        "colab_type": "code",
        "colab": {}
      },
      "source": [
        "def create_model(act=None, lr=0.001, drop=0.5):\n",
        "  model = Sequential()\n",
        "  model.add(Conv2D(filters=32, kernel_size=(3,3), activation=act, input_shape=(28,28,1)))\n",
        "  model.add(MaxPool2D(pool_size=(2,2)))\n",
        "  model.add(Conv2D(filters=64, kernel_size=(3,3), activation=act))\n",
        "  model.add(MaxPool2D(pool_size=(2,2)))\n",
        "  model.add(Conv2D(filters=64, kernel_size=(3,3), activation=act))\n",
        "  model.add(Flatten())\n",
        "  model.add(Dense(units=64,activation=act))\n",
        "  if drop>0:\n",
        "    model.add(Dropout(drop))\n",
        "  model.add(Dense(units=10,activation='softmax'))\n",
        "\n",
        "  opt = keras.optimizers.Adam(lr=lr)\n",
        "  model.compile(optimizer=opt,\n",
        "                loss='sparse_categorical_crossentropy',\n",
        "                metrics=['accuracy'])\n",
        "  return model"
      ],
      "execution_count": 0,
      "outputs": []
    },
    {
      "cell_type": "code",
      "metadata": {
        "id": "NvsEIzIEhqQJ",
        "colab_type": "code",
        "colab": {}
      },
      "source": [
        "model = KerasClassifier(build_fn=create_model, epochs=epoch, act=act, lr=lr,drop=drop)"
      ],
      "execution_count": 0,
      "outputs": []
    },
    {
      "cell_type": "code",
      "metadata": {
        "id": "JT4DVqL5h2pF",
        "colab_type": "code",
        "outputId": "08585902-bfb9-4833-819c-eae5f911e4fd",
        "colab": {
          "base_uri": "https://localhost:8080/",
          "height": 1000
        }
      },
      "source": [
        "model.fit(trainX,trainY, verbose=True, validation_data=(valX,valY))"
      ],
      "execution_count": 0,
      "outputs": [
        {
          "output_type": "stream",
          "text": [
            "WARNING:tensorflow:From /usr/local/lib/python3.6/dist-packages/keras/backend/tensorflow_backend.py:66: The name tf.get_default_graph is deprecated. Please use tf.compat.v1.get_default_graph instead.\n",
            "\n",
            "WARNING:tensorflow:From /usr/local/lib/python3.6/dist-packages/keras/backend/tensorflow_backend.py:541: The name tf.placeholder is deprecated. Please use tf.compat.v1.placeholder instead.\n",
            "\n",
            "WARNING:tensorflow:From /usr/local/lib/python3.6/dist-packages/keras/backend/tensorflow_backend.py:4432: The name tf.random_uniform is deprecated. Please use tf.random.uniform instead.\n",
            "\n",
            "WARNING:tensorflow:From /usr/local/lib/python3.6/dist-packages/keras/backend/tensorflow_backend.py:4267: The name tf.nn.max_pool is deprecated. Please use tf.nn.max_pool2d instead.\n",
            "\n",
            "WARNING:tensorflow:From /usr/local/lib/python3.6/dist-packages/keras/backend/tensorflow_backend.py:148: The name tf.placeholder_with_default is deprecated. Please use tf.compat.v1.placeholder_with_default instead.\n",
            "\n",
            "WARNING:tensorflow:From /usr/local/lib/python3.6/dist-packages/keras/backend/tensorflow_backend.py:3733: calling dropout (from tensorflow.python.ops.nn_ops) with keep_prob is deprecated and will be removed in a future version.\n",
            "Instructions for updating:\n",
            "Please use `rate` instead of `keep_prob`. Rate should be set to `rate = 1 - keep_prob`.\n",
            "WARNING:tensorflow:From /usr/local/lib/python3.6/dist-packages/keras/optimizers.py:793: The name tf.train.Optimizer is deprecated. Please use tf.compat.v1.train.Optimizer instead.\n",
            "\n",
            "WARNING:tensorflow:From /usr/local/lib/python3.6/dist-packages/keras/backend/tensorflow_backend.py:3622: The name tf.log is deprecated. Please use tf.math.log instead.\n",
            "\n",
            "WARNING:tensorflow:From /usr/local/lib/python3.6/dist-packages/tensorflow_core/python/ops/math_grad.py:1424: where (from tensorflow.python.ops.array_ops) is deprecated and will be removed in a future version.\n",
            "Instructions for updating:\n",
            "Use tf.where in 2.0, which has the same broadcast rule as np.where\n",
            "WARNING:tensorflow:From /usr/local/lib/python3.6/dist-packages/keras/backend/tensorflow_backend.py:1033: The name tf.assign_add is deprecated. Please use tf.compat.v1.assign_add instead.\n",
            "\n",
            "WARNING:tensorflow:From /usr/local/lib/python3.6/dist-packages/keras/backend/tensorflow_backend.py:1020: The name tf.assign is deprecated. Please use tf.compat.v1.assign instead.\n",
            "\n",
            "WARNING:tensorflow:From /usr/local/lib/python3.6/dist-packages/keras/backend/tensorflow_backend.py:3005: The name tf.Session is deprecated. Please use tf.compat.v1.Session instead.\n",
            "\n",
            "Train on 48000 samples, validate on 12000 samples\n",
            "Epoch 1/100\n",
            "WARNING:tensorflow:From /usr/local/lib/python3.6/dist-packages/keras/backend/tensorflow_backend.py:190: The name tf.get_default_session is deprecated. Please use tf.compat.v1.get_default_session instead.\n",
            "\n",
            "WARNING:tensorflow:From /usr/local/lib/python3.6/dist-packages/keras/backend/tensorflow_backend.py:197: The name tf.ConfigProto is deprecated. Please use tf.compat.v1.ConfigProto instead.\n",
            "\n",
            "WARNING:tensorflow:From /usr/local/lib/python3.6/dist-packages/keras/backend/tensorflow_backend.py:207: The name tf.global_variables is deprecated. Please use tf.compat.v1.global_variables instead.\n",
            "\n",
            "WARNING:tensorflow:From /usr/local/lib/python3.6/dist-packages/keras/backend/tensorflow_backend.py:216: The name tf.is_variable_initialized is deprecated. Please use tf.compat.v1.is_variable_initialized instead.\n",
            "\n",
            "WARNING:tensorflow:From /usr/local/lib/python3.6/dist-packages/keras/backend/tensorflow_backend.py:223: The name tf.variables_initializer is deprecated. Please use tf.compat.v1.variables_initializer instead.\n",
            "\n",
            "48000/48000 [==============================] - 20s 411us/step - loss: 0.2283 - acc: 0.9296 - val_loss: 0.1028 - val_acc: 0.9681\n",
            "Epoch 2/100\n",
            "48000/48000 [==============================] - 13s 265us/step - loss: 0.1113 - acc: 0.9667 - val_loss: 0.0804 - val_acc: 0.9755\n",
            "Epoch 3/100\n",
            "48000/48000 [==============================] - 13s 266us/step - loss: 0.0917 - acc: 0.9727 - val_loss: 0.0756 - val_acc: 0.9780\n",
            "Epoch 4/100\n",
            "48000/48000 [==============================] - 13s 264us/step - loss: 0.0801 - acc: 0.9750 - val_loss: 0.0663 - val_acc: 0.9815\n",
            "Epoch 5/100\n",
            "48000/48000 [==============================] - 13s 265us/step - loss: 0.0716 - acc: 0.9782 - val_loss: 0.0636 - val_acc: 0.9808\n",
            "Epoch 6/100\n",
            "48000/48000 [==============================] - 13s 266us/step - loss: 0.0623 - acc: 0.9808 - val_loss: 0.0631 - val_acc: 0.9819\n",
            "Epoch 7/100\n",
            "48000/48000 [==============================] - 13s 268us/step - loss: 0.0614 - acc: 0.9816 - val_loss: 0.0722 - val_acc: 0.9800\n",
            "Epoch 8/100\n",
            "48000/48000 [==============================] - 13s 265us/step - loss: 0.0540 - acc: 0.9835 - val_loss: 0.0678 - val_acc: 0.9845\n",
            "Epoch 9/100\n",
            "48000/48000 [==============================] - 13s 263us/step - loss: 0.0559 - acc: 0.9834 - val_loss: 0.0941 - val_acc: 0.9752\n",
            "Epoch 10/100\n",
            "48000/48000 [==============================] - 13s 263us/step - loss: 0.0517 - acc: 0.9839 - val_loss: 0.0709 - val_acc: 0.9830\n",
            "Epoch 11/100\n",
            "48000/48000 [==============================] - 13s 265us/step - loss: 0.0481 - acc: 0.9859 - val_loss: 0.0728 - val_acc: 0.9839\n",
            "Epoch 12/100\n",
            "48000/48000 [==============================] - 13s 262us/step - loss: 0.0493 - acc: 0.9858 - val_loss: 0.0676 - val_acc: 0.9840\n",
            "Epoch 13/100\n",
            "48000/48000 [==============================] - 13s 265us/step - loss: 0.0455 - acc: 0.9865 - val_loss: 0.0613 - val_acc: 0.9856\n",
            "Epoch 14/100\n",
            "48000/48000 [==============================] - 13s 263us/step - loss: 0.0424 - acc: 0.9875 - val_loss: 0.0850 - val_acc: 0.9817\n",
            "Epoch 15/100\n",
            "48000/48000 [==============================] - 13s 265us/step - loss: 0.0449 - acc: 0.9868 - val_loss: 0.1153 - val_acc: 0.9735\n",
            "Epoch 16/100\n",
            "48000/48000 [==============================] - 13s 264us/step - loss: 0.0424 - acc: 0.9875 - val_loss: 0.0670 - val_acc: 0.9856\n",
            "Epoch 17/100\n",
            "48000/48000 [==============================] - 13s 263us/step - loss: 0.0431 - acc: 0.9876 - val_loss: 0.0689 - val_acc: 0.9862\n",
            "Epoch 18/100\n",
            "48000/48000 [==============================] - 13s 264us/step - loss: 0.0399 - acc: 0.9885 - val_loss: 0.0765 - val_acc: 0.9840\n",
            "Epoch 19/100\n",
            "48000/48000 [==============================] - 13s 265us/step - loss: 0.0431 - acc: 0.9876 - val_loss: 0.0734 - val_acc: 0.9828\n",
            "Epoch 20/100\n",
            "48000/48000 [==============================] - 13s 264us/step - loss: 0.0387 - acc: 0.9883 - val_loss: 0.0764 - val_acc: 0.9854\n",
            "Epoch 21/100\n",
            "48000/48000 [==============================] - 13s 264us/step - loss: 0.0410 - acc: 0.9883 - val_loss: 0.0980 - val_acc: 0.9796\n",
            "Epoch 22/100\n",
            "48000/48000 [==============================] - 13s 262us/step - loss: 0.0432 - acc: 0.9880 - val_loss: 0.0861 - val_acc: 0.9832\n",
            "Epoch 23/100\n",
            "48000/48000 [==============================] - 13s 272us/step - loss: 0.0360 - acc: 0.9895 - val_loss: 0.0761 - val_acc: 0.9838\n",
            "Epoch 24/100\n",
            "48000/48000 [==============================] - 13s 264us/step - loss: 0.0363 - acc: 0.9894 - val_loss: 0.0910 - val_acc: 0.9818\n",
            "Epoch 25/100\n",
            "48000/48000 [==============================] - 13s 265us/step - loss: 0.0397 - acc: 0.9894 - val_loss: 0.0778 - val_acc: 0.9845\n",
            "Epoch 26/100\n",
            "48000/48000 [==============================] - 13s 264us/step - loss: 0.0430 - acc: 0.9887 - val_loss: 0.0937 - val_acc: 0.9843\n",
            "Epoch 27/100\n",
            "48000/48000 [==============================] - 13s 264us/step - loss: 0.0378 - acc: 0.9895 - val_loss: 0.0981 - val_acc: 0.9818\n",
            "Epoch 28/100\n",
            "48000/48000 [==============================] - 13s 265us/step - loss: 0.0387 - acc: 0.9898 - val_loss: 0.0865 - val_acc: 0.9845\n",
            "Epoch 29/100\n",
            "48000/48000 [==============================] - 13s 262us/step - loss: 0.0347 - acc: 0.9902 - val_loss: 0.1035 - val_acc: 0.9828\n",
            "Epoch 30/100\n",
            "48000/48000 [==============================] - 13s 264us/step - loss: 0.0386 - acc: 0.9895 - val_loss: 0.0987 - val_acc: 0.9849\n",
            "Epoch 31/100\n",
            "48000/48000 [==============================] - 13s 268us/step - loss: 0.0396 - acc: 0.9903 - val_loss: 0.1154 - val_acc: 0.9828\n",
            "Epoch 32/100\n",
            "48000/48000 [==============================] - 13s 267us/step - loss: 0.0419 - acc: 0.9898 - val_loss: 0.0828 - val_acc: 0.9853\n",
            "Epoch 33/100\n",
            "48000/48000 [==============================] - 13s 263us/step - loss: 0.0382 - acc: 0.9907 - val_loss: 0.1139 - val_acc: 0.9842\n",
            "Epoch 34/100\n",
            "48000/48000 [==============================] - 13s 264us/step - loss: 0.0425 - acc: 0.9897 - val_loss: 0.0976 - val_acc: 0.9848\n",
            "Epoch 35/100\n",
            "48000/48000 [==============================] - 13s 263us/step - loss: 0.0388 - acc: 0.9903 - val_loss: 0.0970 - val_acc: 0.9855\n",
            "Epoch 36/100\n",
            "48000/48000 [==============================] - 13s 264us/step - loss: 0.0387 - acc: 0.9906 - val_loss: 0.1091 - val_acc: 0.9851\n",
            "Epoch 37/100\n",
            "48000/48000 [==============================] - 13s 265us/step - loss: 0.0387 - acc: 0.9913 - val_loss: 0.0966 - val_acc: 0.9858\n",
            "Epoch 38/100\n",
            "48000/48000 [==============================] - 13s 264us/step - loss: 0.0402 - acc: 0.9903 - val_loss: 0.1132 - val_acc: 0.9832\n",
            "Epoch 39/100\n",
            "48000/48000 [==============================] - 13s 264us/step - loss: 0.0449 - acc: 0.9899 - val_loss: 0.1137 - val_acc: 0.9831\n",
            "Epoch 40/100\n",
            "48000/48000 [==============================] - 13s 264us/step - loss: 0.0423 - acc: 0.9908 - val_loss: 0.1318 - val_acc: 0.9818\n",
            "Epoch 41/100\n",
            "48000/48000 [==============================] - 13s 263us/step - loss: 0.0397 - acc: 0.9914 - val_loss: 0.1296 - val_acc: 0.9813\n",
            "Epoch 42/100\n",
            "48000/48000 [==============================] - 13s 264us/step - loss: 0.0410 - acc: 0.9908 - val_loss: 0.1363 - val_acc: 0.9810\n",
            "Epoch 43/100\n",
            "48000/48000 [==============================] - 13s 267us/step - loss: 0.0392 - acc: 0.9909 - val_loss: 0.1329 - val_acc: 0.9818\n",
            "Epoch 44/100\n",
            "48000/48000 [==============================] - 13s 265us/step - loss: 0.0462 - acc: 0.9910 - val_loss: 0.1441 - val_acc: 0.9822\n",
            "Epoch 45/100\n",
            "48000/48000 [==============================] - 13s 264us/step - loss: 0.0504 - acc: 0.9907 - val_loss: 0.1271 - val_acc: 0.9823\n",
            "Epoch 46/100\n",
            "48000/48000 [==============================] - 13s 266us/step - loss: 0.0413 - acc: 0.9914 - val_loss: 0.1321 - val_acc: 0.9834\n",
            "Epoch 47/100\n",
            "48000/48000 [==============================] - 13s 268us/step - loss: 0.0431 - acc: 0.9911 - val_loss: 0.1547 - val_acc: 0.9800\n",
            "Epoch 48/100\n",
            "48000/48000 [==============================] - 13s 267us/step - loss: 0.0459 - acc: 0.9914 - val_loss: 0.1534 - val_acc: 0.9811\n",
            "Epoch 49/100\n",
            "48000/48000 [==============================] - 13s 263us/step - loss: 0.0504 - acc: 0.9904 - val_loss: 0.1346 - val_acc: 0.9823\n",
            "Epoch 50/100\n",
            "48000/48000 [==============================] - 13s 266us/step - loss: 0.0477 - acc: 0.9910 - val_loss: 0.1599 - val_acc: 0.9786\n",
            "Epoch 51/100\n",
            "48000/48000 [==============================] - 13s 264us/step - loss: 0.0492 - acc: 0.9907 - val_loss: 0.1590 - val_acc: 0.9803\n",
            "Epoch 52/100\n",
            "48000/48000 [==============================] - 13s 265us/step - loss: 0.0488 - acc: 0.9911 - val_loss: 0.1408 - val_acc: 0.9822\n",
            "Epoch 53/100\n",
            "48000/48000 [==============================] - 13s 263us/step - loss: 0.0508 - acc: 0.9908 - val_loss: 0.1734 - val_acc: 0.9820\n",
            "Epoch 54/100\n",
            "48000/48000 [==============================] - 13s 263us/step - loss: 0.0533 - acc: 0.9910 - val_loss: 0.1800 - val_acc: 0.9811\n",
            "Epoch 55/100\n",
            "48000/48000 [==============================] - 13s 264us/step - loss: 0.0545 - acc: 0.9907 - val_loss: 0.1682 - val_acc: 0.9814\n",
            "Epoch 56/100\n",
            "48000/48000 [==============================] - 13s 264us/step - loss: 0.0540 - acc: 0.9917 - val_loss: 0.1336 - val_acc: 0.9858\n",
            "Epoch 57/100\n",
            "48000/48000 [==============================] - 13s 260us/step - loss: 0.0550 - acc: 0.9912 - val_loss: 0.2017 - val_acc: 0.9776\n",
            "Epoch 58/100\n",
            "48000/48000 [==============================] - 13s 261us/step - loss: 0.0583 - acc: 0.9911 - val_loss: 0.1594 - val_acc: 0.9823\n",
            "Epoch 59/100\n",
            "48000/48000 [==============================] - 13s 261us/step - loss: 0.0567 - acc: 0.9915 - val_loss: 0.1509 - val_acc: 0.9842\n",
            "Epoch 60/100\n",
            "48000/48000 [==============================] - 12s 259us/step - loss: 0.0668 - acc: 0.9907 - val_loss: 0.1818 - val_acc: 0.9804\n",
            "Epoch 61/100\n",
            "48000/48000 [==============================] - 12s 260us/step - loss: 0.0698 - acc: 0.9905 - val_loss: 0.1766 - val_acc: 0.9820\n",
            "Epoch 62/100\n",
            "48000/48000 [==============================] - 12s 259us/step - loss: 0.0679 - acc: 0.9910 - val_loss: 0.1929 - val_acc: 0.9816\n",
            "Epoch 63/100\n",
            "48000/48000 [==============================] - 13s 261us/step - loss: 0.0709 - acc: 0.9909 - val_loss: 0.1612 - val_acc: 0.9842\n",
            "Epoch 64/100\n",
            "48000/48000 [==============================] - 12s 258us/step - loss: 0.0888 - acc: 0.9897 - val_loss: 0.1827 - val_acc: 0.9838\n",
            "Epoch 65/100\n",
            "48000/48000 [==============================] - 12s 257us/step - loss: 0.0624 - acc: 0.9924 - val_loss: 0.2223 - val_acc: 0.9801\n",
            "Epoch 66/100\n",
            "48000/48000 [==============================] - 12s 256us/step - loss: 0.0892 - acc: 0.9899 - val_loss: 0.2115 - val_acc: 0.9829\n",
            "Epoch 67/100\n",
            "48000/48000 [==============================] - 12s 256us/step - loss: 0.0854 - acc: 0.9904 - val_loss: 0.1980 - val_acc: 0.9831\n",
            "Epoch 68/100\n",
            "48000/48000 [==============================] - 12s 258us/step - loss: 0.0925 - acc: 0.9899 - val_loss: 0.2669 - val_acc: 0.9778\n",
            "Epoch 69/100\n",
            "48000/48000 [==============================] - 12s 257us/step - loss: 0.0962 - acc: 0.9901 - val_loss: 0.2079 - val_acc: 0.9832\n",
            "Epoch 70/100\n",
            "48000/48000 [==============================] - 12s 258us/step - loss: 0.1058 - acc: 0.9902 - val_loss: 0.2555 - val_acc: 0.9798\n",
            "Epoch 71/100\n",
            "48000/48000 [==============================] - 12s 257us/step - loss: 0.1304 - acc: 0.9884 - val_loss: 0.2724 - val_acc: 0.9792\n",
            "Epoch 72/100\n",
            "48000/48000 [==============================] - 13s 265us/step - loss: 0.1305 - acc: 0.9889 - val_loss: 0.2582 - val_acc: 0.9807\n",
            "Epoch 73/100\n",
            "48000/48000 [==============================] - 12s 260us/step - loss: 0.1460 - acc: 0.9876 - val_loss: 0.2148 - val_acc: 0.9843\n",
            "Epoch 74/100\n",
            "48000/48000 [==============================] - 12s 258us/step - loss: 0.1494 - acc: 0.9879 - val_loss: 0.2302 - val_acc: 0.9832\n",
            "Epoch 75/100\n",
            "48000/48000 [==============================] - 12s 257us/step - loss: 0.1687 - acc: 0.9870 - val_loss: 0.2389 - val_acc: 0.9827\n",
            "Epoch 76/100\n",
            "48000/48000 [==============================] - 12s 257us/step - loss: 0.1905 - acc: 0.9854 - val_loss: 0.3208 - val_acc: 0.9769\n",
            "Epoch 77/100\n",
            "48000/48000 [==============================] - 12s 258us/step - loss: 0.1957 - acc: 0.9856 - val_loss: 0.2472 - val_acc: 0.9822\n",
            "Epoch 78/100\n",
            "48000/48000 [==============================] - 12s 258us/step - loss: 0.1886 - acc: 0.9863 - val_loss: 0.2968 - val_acc: 0.9798\n",
            "Epoch 79/100\n",
            "48000/48000 [==============================] - 12s 257us/step - loss: 0.1997 - acc: 0.9856 - val_loss: 0.2468 - val_acc: 0.9833\n",
            "Epoch 80/100\n",
            "48000/48000 [==============================] - 13s 261us/step - loss: 0.2330 - acc: 0.9836 - val_loss: 0.2840 - val_acc: 0.9808\n",
            "Epoch 81/100\n",
            "48000/48000 [==============================] - 12s 257us/step - loss: 0.2808 - acc: 0.9810 - val_loss: 0.3300 - val_acc: 0.9782\n",
            "Epoch 82/100\n",
            "48000/48000 [==============================] - 12s 257us/step - loss: 0.2330 - acc: 0.9840 - val_loss: 0.2957 - val_acc: 0.9802\n",
            "Epoch 83/100\n",
            "48000/48000 [==============================] - 12s 258us/step - loss: 0.2994 - acc: 0.9799 - val_loss: 0.3480 - val_acc: 0.9772\n",
            "Epoch 84/100\n",
            "48000/48000 [==============================] - 12s 257us/step - loss: 0.2872 - acc: 0.9810 - val_loss: 0.3319 - val_acc: 0.9783\n",
            "Epoch 85/100\n",
            "48000/48000 [==============================] - 12s 258us/step - loss: 0.2905 - acc: 0.9806 - val_loss: 0.3319 - val_acc: 0.9784\n",
            "Epoch 86/100\n",
            "48000/48000 [==============================] - 12s 257us/step - loss: 0.2970 - acc: 0.9802 - val_loss: 0.2745 - val_acc: 0.9826\n",
            "Epoch 87/100\n",
            "48000/48000 [==============================] - 12s 259us/step - loss: 0.3170 - acc: 0.9791 - val_loss: 0.3300 - val_acc: 0.9788\n",
            "Epoch 88/100\n",
            "48000/48000 [==============================] - 12s 258us/step - loss: 0.3166 - acc: 0.9794 - val_loss: 0.3068 - val_acc: 0.9802\n",
            "Epoch 89/100\n",
            "48000/48000 [==============================] - 12s 258us/step - loss: 0.3555 - acc: 0.9769 - val_loss: 0.2996 - val_acc: 0.9807\n",
            "Epoch 90/100\n",
            "48000/48000 [==============================] - 12s 257us/step - loss: 0.3651 - acc: 0.9763 - val_loss: 0.4596 - val_acc: 0.9707\n",
            "Epoch 91/100\n",
            "48000/48000 [==============================] - 12s 258us/step - loss: 0.3539 - acc: 0.9772 - val_loss: 0.3390 - val_acc: 0.9779\n",
            "Epoch 92/100\n",
            "48000/48000 [==============================] - 12s 259us/step - loss: 0.3812 - acc: 0.9756 - val_loss: 0.3547 - val_acc: 0.9775\n",
            "Epoch 93/100\n",
            "48000/48000 [==============================] - 12s 257us/step - loss: 0.4157 - acc: 0.9735 - val_loss: 0.4505 - val_acc: 0.9718\n",
            "Epoch 94/100\n",
            "48000/48000 [==============================] - 15s 322us/step - loss: 0.4356 - acc: 0.9722 - val_loss: 0.3864 - val_acc: 0.9754\n",
            "Epoch 95/100\n",
            "48000/48000 [==============================] - 13s 265us/step - loss: 0.4733 - acc: 0.9699 - val_loss: 0.4243 - val_acc: 0.9733\n",
            "Epoch 96/100\n",
            "48000/48000 [==============================] - 13s 267us/step - loss: 0.4893 - acc: 0.9691 - val_loss: 0.4345 - val_acc: 0.9726\n",
            "Epoch 97/100\n",
            "48000/48000 [==============================] - 13s 277us/step - loss: 0.4338 - acc: 0.9725 - val_loss: 0.4179 - val_acc: 0.9733\n",
            "Epoch 98/100\n",
            "48000/48000 [==============================] - 13s 270us/step - loss: 0.5329 - acc: 0.9661 - val_loss: 0.4107 - val_acc: 0.9741\n",
            "Epoch 99/100\n",
            "48000/48000 [==============================] - 13s 269us/step - loss: 0.4869 - acc: 0.9694 - val_loss: 0.4191 - val_acc: 0.9736\n",
            "Epoch 100/100\n",
            "48000/48000 [==============================] - 13s 270us/step - loss: 0.5388 - acc: 0.9660 - val_loss: 0.5629 - val_acc: 0.9644\n"
          ],
          "name": "stdout"
        },
        {
          "output_type": "execute_result",
          "data": {
            "text/plain": [
              "<keras.callbacks.History at 0x7f71d0d527f0>"
            ]
          },
          "metadata": {
            "tags": []
          },
          "execution_count": 19
        }
      ]
    },
    {
      "cell_type": "markdown",
      "metadata": {
        "id": "csVLfukCpRcK",
        "colab_type": "text"
      },
      "source": [
        "# Hyperparameter Tuning"
      ]
    },
    {
      "cell_type": "markdown",
      "metadata": {
        "id": "ZyN6jNjXlMAa",
        "colab_type": "text"
      },
      "source": [
        "## Tune Learning Rate, Epochs and Dropout"
      ]
    },
    {
      "cell_type": "code",
      "metadata": {
        "id": "tEG0Wsv8lKYA",
        "colab_type": "code",
        "colab": {}
      },
      "source": [
        "#parameters\n",
        "lr= [0.01,0.001,0.0001]\n",
        "epochs=[25,50,100]\n",
        "drop=[0,0.2,0.3,0.5]\n",
        "param_grid = dict(lr=lr,epochs=epochs,drop=drop)"
      ],
      "execution_count": 0,
      "outputs": []
    },
    {
      "cell_type": "code",
      "metadata": {
        "id": "EAjWfnrEputv",
        "colab_type": "code",
        "outputId": "c1e5be37-6b8f-44d0-d850-25a596682100",
        "colab": {
          "base_uri": "https://localhost:8080/",
          "height": 1000
        }
      },
      "source": [
        "grid = GridSearchCV(estimator=model, param_grid=param_grid, n_jobs=-1, cv=2, verbose=True)  #GridSearch with 1-fold Cross Validation\n",
        "grid_result = grid.fit(X, y)\n",
        "# summarize results\n",
        "print(\"Best: %f using %s\" % (grid_result.best_score_, grid_result.best_params_))\n",
        "means = grid_result.cv_results_['mean_test_score']\n",
        "stds = grid_result.cv_results_['std_test_score']\n",
        "params = grid_result.cv_results_['params']\n",
        "for mean, stdev, param in zip(means, stds, params):\n",
        "    print(\"%f (%f) with: %r\" % (mean, stdev, param))"
      ],
      "execution_count": 19,
      "outputs": [
        {
          "output_type": "stream",
          "text": [
            "Fitting 2 folds for each of 36 candidates, totalling 72 fits\n"
          ],
          "name": "stdout"
        },
        {
          "output_type": "stream",
          "text": [
            "[Parallel(n_jobs=-1)]: Using backend LokyBackend with 2 concurrent workers.\n",
            "/usr/local/lib/python3.6/dist-packages/joblib/externals/loky/process_executor.py:706: UserWarning: A worker stopped while some jobs were given to the executor. This can be caused by a too short worker timeout or by a memory leak.\n",
            "  \"timeout or by a memory leak.\", UserWarning\n",
            "[Parallel(n_jobs=-1)]: Done  46 tasks      | elapsed: 192.0min\n"
          ],
          "name": "stderr"
        },
        {
          "output_type": "stream",
          "text": [
            "WARNING:tensorflow:From /usr/local/lib/python3.6/dist-packages/keras/backend/tensorflow_backend.py:66: The name tf.get_default_graph is deprecated. Please use tf.compat.v1.get_default_graph instead.\n",
            "\n",
            "WARNING:tensorflow:From /usr/local/lib/python3.6/dist-packages/keras/backend/tensorflow_backend.py:541: The name tf.placeholder is deprecated. Please use tf.compat.v1.placeholder instead.\n",
            "\n",
            "WARNING:tensorflow:From /usr/local/lib/python3.6/dist-packages/keras/backend/tensorflow_backend.py:4432: The name tf.random_uniform is deprecated. Please use tf.random.uniform instead.\n",
            "\n",
            "WARNING:tensorflow:From /usr/local/lib/python3.6/dist-packages/keras/backend/tensorflow_backend.py:4267: The name tf.nn.max_pool is deprecated. Please use tf.nn.max_pool2d instead.\n",
            "\n",
            "WARNING:tensorflow:From /usr/local/lib/python3.6/dist-packages/keras/backend/tensorflow_backend.py:148: The name tf.placeholder_with_default is deprecated. Please use tf.compat.v1.placeholder_with_default instead.\n",
            "\n",
            "WARNING:tensorflow:From /usr/local/lib/python3.6/dist-packages/keras/backend/tensorflow_backend.py:3733: calling dropout (from tensorflow.python.ops.nn_ops) with keep_prob is deprecated and will be removed in a future version.\n",
            "Instructions for updating:\n",
            "Please use `rate` instead of `keep_prob`. Rate should be set to `rate = 1 - keep_prob`.\n",
            "WARNING:tensorflow:From /usr/local/lib/python3.6/dist-packages/keras/optimizers.py:793: The name tf.train.Optimizer is deprecated. Please use tf.compat.v1.train.Optimizer instead.\n",
            "\n",
            "WARNING:tensorflow:From /usr/local/lib/python3.6/dist-packages/keras/backend/tensorflow_backend.py:3622: The name tf.log is deprecated. Please use tf.math.log instead.\n",
            "\n"
          ],
          "name": "stdout"
        },
        {
          "output_type": "stream",
          "text": [
            "[Parallel(n_jobs=-1)]: Done  72 out of  72 | elapsed: 332.5min finished\n"
          ],
          "name": "stderr"
        },
        {
          "output_type": "stream",
          "text": [
            "WARNING:tensorflow:From /usr/local/lib/python3.6/dist-packages/tensorflow_core/python/ops/math_grad.py:1424: where (from tensorflow.python.ops.array_ops) is deprecated and will be removed in a future version.\n",
            "Instructions for updating:\n",
            "Use tf.where in 2.0, which has the same broadcast rule as np.where\n",
            "WARNING:tensorflow:From /usr/local/lib/python3.6/dist-packages/keras/backend/tensorflow_backend.py:1033: The name tf.assign_add is deprecated. Please use tf.compat.v1.assign_add instead.\n",
            "\n",
            "WARNING:tensorflow:From /usr/local/lib/python3.6/dist-packages/keras/backend/tensorflow_backend.py:1020: The name tf.assign is deprecated. Please use tf.compat.v1.assign instead.\n",
            "\n",
            "WARNING:tensorflow:From /usr/local/lib/python3.6/dist-packages/keras/backend/tensorflow_backend.py:3005: The name tf.Session is deprecated. Please use tf.compat.v1.Session instead.\n",
            "\n",
            "Epoch 1/50\n",
            "WARNING:tensorflow:From /usr/local/lib/python3.6/dist-packages/keras/backend/tensorflow_backend.py:190: The name tf.get_default_session is deprecated. Please use tf.compat.v1.get_default_session instead.\n",
            "\n",
            "WARNING:tensorflow:From /usr/local/lib/python3.6/dist-packages/keras/backend/tensorflow_backend.py:197: The name tf.ConfigProto is deprecated. Please use tf.compat.v1.ConfigProto instead.\n",
            "\n",
            "WARNING:tensorflow:From /usr/local/lib/python3.6/dist-packages/keras/backend/tensorflow_backend.py:207: The name tf.global_variables is deprecated. Please use tf.compat.v1.global_variables instead.\n",
            "\n",
            "WARNING:tensorflow:From /usr/local/lib/python3.6/dist-packages/keras/backend/tensorflow_backend.py:216: The name tf.is_variable_initialized is deprecated. Please use tf.compat.v1.is_variable_initialized instead.\n",
            "\n",
            "WARNING:tensorflow:From /usr/local/lib/python3.6/dist-packages/keras/backend/tensorflow_backend.py:223: The name tf.variables_initializer is deprecated. Please use tf.compat.v1.variables_initializer instead.\n",
            "\n",
            "60000/60000 [==============================] - 18s 307us/step - loss: 0.4973 - acc: 0.8517\n",
            "Epoch 2/50\n",
            "60000/60000 [==============================] - 16s 264us/step - loss: 0.1772 - acc: 0.9478\n",
            "Epoch 3/50\n",
            "60000/60000 [==============================] - 16s 269us/step - loss: 0.1292 - acc: 0.9626\n",
            "Epoch 4/50\n",
            "60000/60000 [==============================] - 16s 271us/step - loss: 0.1075 - acc: 0.9680\n",
            "Epoch 5/50\n",
            "60000/60000 [==============================] - 16s 264us/step - loss: 0.0959 - acc: 0.9711\n",
            "Epoch 6/50\n",
            "60000/60000 [==============================] - 16s 265us/step - loss: 0.0866 - acc: 0.9737\n",
            "Epoch 7/50\n",
            "60000/60000 [==============================] - 16s 269us/step - loss: 0.0787 - acc: 0.9767\n",
            "Epoch 8/50\n",
            "60000/60000 [==============================] - 17s 279us/step - loss: 0.0743 - acc: 0.9781\n",
            "Epoch 9/50\n",
            "60000/60000 [==============================] - 16s 262us/step - loss: 0.0704 - acc: 0.9790\n",
            "Epoch 10/50\n",
            "60000/60000 [==============================] - 16s 261us/step - loss: 0.0663 - acc: 0.9803\n",
            "Epoch 11/50\n",
            "60000/60000 [==============================] - 15s 250us/step - loss: 0.0608 - acc: 0.9816\n",
            "Epoch 12/50\n",
            "60000/60000 [==============================] - 15s 246us/step - loss: 0.0581 - acc: 0.9825\n",
            "Epoch 13/50\n",
            "60000/60000 [==============================] - 15s 249us/step - loss: 0.0555 - acc: 0.9834\n",
            "Epoch 14/50\n",
            "60000/60000 [==============================] - 15s 249us/step - loss: 0.0521 - acc: 0.9838\n",
            "Epoch 15/50\n",
            "60000/60000 [==============================] - 15s 247us/step - loss: 0.0498 - acc: 0.9845\n",
            "Epoch 16/50\n",
            "60000/60000 [==============================] - 15s 247us/step - loss: 0.0473 - acc: 0.9856\n",
            "Epoch 17/50\n",
            "60000/60000 [==============================] - 15s 249us/step - loss: 0.0463 - acc: 0.9862\n",
            "Epoch 18/50\n",
            "60000/60000 [==============================] - 15s 248us/step - loss: 0.0432 - acc: 0.9873\n",
            "Epoch 19/50\n",
            "60000/60000 [==============================] - 15s 253us/step - loss: 0.0419 - acc: 0.9868\n",
            "Epoch 20/50\n",
            "60000/60000 [==============================] - 15s 253us/step - loss: 0.0412 - acc: 0.9881\n",
            "Epoch 21/50\n",
            "60000/60000 [==============================] - 15s 247us/step - loss: 0.0390 - acc: 0.9879\n",
            "Epoch 22/50\n",
            "60000/60000 [==============================] - 15s 247us/step - loss: 0.0370 - acc: 0.9889\n",
            "Epoch 23/50\n",
            "60000/60000 [==============================] - 15s 247us/step - loss: 0.0356 - acc: 0.9890\n",
            "Epoch 24/50\n",
            "60000/60000 [==============================] - 15s 246us/step - loss: 0.0351 - acc: 0.9892\n",
            "Epoch 25/50\n",
            "60000/60000 [==============================] - 15s 247us/step - loss: 0.0348 - acc: 0.9895\n",
            "Epoch 26/50\n",
            "60000/60000 [==============================] - 15s 246us/step - loss: 0.0315 - acc: 0.9901\n",
            "Epoch 27/50\n",
            "60000/60000 [==============================] - 15s 247us/step - loss: 0.0313 - acc: 0.9901\n",
            "Epoch 28/50\n",
            "60000/60000 [==============================] - 15s 247us/step - loss: 0.0302 - acc: 0.9904\n",
            "Epoch 29/50\n",
            "60000/60000 [==============================] - 15s 256us/step - loss: 0.0288 - acc: 0.9908\n",
            "Epoch 30/50\n",
            "60000/60000 [==============================] - 15s 248us/step - loss: 0.0288 - acc: 0.9908\n",
            "Epoch 31/50\n",
            "60000/60000 [==============================] - 15s 248us/step - loss: 0.0267 - acc: 0.9912\n",
            "Epoch 32/50\n",
            "60000/60000 [==============================] - 15s 246us/step - loss: 0.0268 - acc: 0.9913\n",
            "Epoch 33/50\n",
            "60000/60000 [==============================] - 15s 245us/step - loss: 0.0248 - acc: 0.9922\n",
            "Epoch 34/50\n",
            "60000/60000 [==============================] - 15s 254us/step - loss: 0.0231 - acc: 0.9927\n",
            "Epoch 35/50\n",
            "60000/60000 [==============================] - 15s 249us/step - loss: 0.0239 - acc: 0.9922\n",
            "Epoch 36/50\n",
            "60000/60000 [==============================] - 15s 250us/step - loss: 0.0230 - acc: 0.9926\n",
            "Epoch 37/50\n",
            "60000/60000 [==============================] - 15s 250us/step - loss: 0.0231 - acc: 0.9927\n",
            "Epoch 38/50\n",
            "60000/60000 [==============================] - 15s 250us/step - loss: 0.0208 - acc: 0.9932\n",
            "Epoch 39/50\n",
            "60000/60000 [==============================] - 15s 248us/step - loss: 0.0220 - acc: 0.9927\n",
            "Epoch 40/50\n",
            "60000/60000 [==============================] - 15s 246us/step - loss: 0.0186 - acc: 0.9940\n",
            "Epoch 41/50\n",
            "60000/60000 [==============================] - 15s 250us/step - loss: 0.0201 - acc: 0.9937\n",
            "Epoch 42/50\n",
            "60000/60000 [==============================] - 15s 248us/step - loss: 0.0191 - acc: 0.9937\n",
            "Epoch 43/50\n",
            "60000/60000 [==============================] - 15s 257us/step - loss: 0.0177 - acc: 0.9944\n",
            "Epoch 44/50\n",
            "60000/60000 [==============================] - 15s 251us/step - loss: 0.0170 - acc: 0.9944\n",
            "Epoch 45/50\n",
            "60000/60000 [==============================] - 15s 255us/step - loss: 0.0187 - acc: 0.9940\n",
            "Epoch 46/50\n",
            "60000/60000 [==============================] - 15s 252us/step - loss: 0.0172 - acc: 0.9945\n",
            "Epoch 47/50\n",
            "60000/60000 [==============================] - 16s 260us/step - loss: 0.0156 - acc: 0.9948\n",
            "Epoch 48/50\n",
            "60000/60000 [==============================] - 16s 259us/step - loss: 0.0156 - acc: 0.9945\n",
            "Epoch 49/50\n",
            "60000/60000 [==============================] - 16s 260us/step - loss: 0.0150 - acc: 0.9950\n",
            "Epoch 50/50\n",
            "60000/60000 [==============================] - 15s 256us/step - loss: 0.0148 - acc: 0.9950\n",
            "Best: 0.985583 using {'drop': 0.5, 'epochs': 50, 'lr': 0.0001}\n",
            "0.102250 (0.011850) with: {'drop': 0, 'epochs': 25, 'lr': 0.01}\n",
            "0.976433 (0.001800) with: {'drop': 0, 'epochs': 25, 'lr': 0.001}\n",
            "0.981567 (0.000900) with: {'drop': 0, 'epochs': 25, 'lr': 0.0001}\n",
            "0.097517 (0.001683) with: {'drop': 0, 'epochs': 50, 'lr': 0.01}\n",
            "0.977850 (0.001450) with: {'drop': 0, 'epochs': 50, 'lr': 0.001}\n",
            "0.982933 (0.000567) with: {'drop': 0, 'epochs': 50, 'lr': 0.0001}\n",
            "0.103850 (0.001417) with: {'drop': 0, 'epochs': 100, 'lr': 0.01}\n",
            "0.972117 (0.001450) with: {'drop': 0, 'epochs': 100, 'lr': 0.001}\n",
            "0.984217 (0.001083) with: {'drop': 0, 'epochs': 100, 'lr': 0.0001}\n",
            "0.102750 (0.000817) with: {'drop': 0.2, 'epochs': 25, 'lr': 0.01}\n",
            "0.977600 (0.002533) with: {'drop': 0.2, 'epochs': 25, 'lr': 0.001}\n",
            "0.982217 (0.000783) with: {'drop': 0.2, 'epochs': 25, 'lr': 0.0001}\n",
            "0.100100 (0.001833) with: {'drop': 0.2, 'epochs': 50, 'lr': 0.01}\n",
            "0.977633 (0.000733) with: {'drop': 0.2, 'epochs': 50, 'lr': 0.001}\n",
            "0.984017 (0.001117) with: {'drop': 0.2, 'epochs': 50, 'lr': 0.0001}\n",
            "0.100217 (0.000117) with: {'drop': 0.2, 'epochs': 100, 'lr': 0.01}\n",
            "0.963833 (0.009933) with: {'drop': 0.2, 'epochs': 100, 'lr': 0.001}\n",
            "0.984033 (0.000333) with: {'drop': 0.2, 'epochs': 100, 'lr': 0.0001}\n",
            "0.101767 (0.003500) with: {'drop': 0.3, 'epochs': 25, 'lr': 0.01}\n",
            "0.976517 (0.002250) with: {'drop': 0.3, 'epochs': 25, 'lr': 0.001}\n",
            "0.981167 (0.000967) with: {'drop': 0.3, 'epochs': 25, 'lr': 0.0001}\n",
            "0.094550 (0.004150) with: {'drop': 0.3, 'epochs': 50, 'lr': 0.01}\n",
            "0.976333 (0.002033) with: {'drop': 0.3, 'epochs': 50, 'lr': 0.001}\n",
            "0.984267 (0.000533) with: {'drop': 0.3, 'epochs': 50, 'lr': 0.0001}\n",
            "0.098133 (0.000600) with: {'drop': 0.3, 'epochs': 100, 'lr': 0.01}\n",
            "0.971817 (0.003317) with: {'drop': 0.3, 'epochs': 100, 'lr': 0.001}\n",
            "0.984933 (0.001100) with: {'drop': 0.3, 'epochs': 100, 'lr': 0.0001}\n",
            "0.098017 (0.000250) with: {'drop': 0.5, 'epochs': 25, 'lr': 0.01}\n",
            "0.976833 (0.000433) with: {'drop': 0.5, 'epochs': 25, 'lr': 0.001}\n",
            "0.983567 (0.001567) with: {'drop': 0.5, 'epochs': 25, 'lr': 0.0001}\n",
            "0.101767 (0.003500) with: {'drop': 0.5, 'epochs': 50, 'lr': 0.01}\n",
            "0.980300 (0.000567) with: {'drop': 0.5, 'epochs': 50, 'lr': 0.001}\n",
            "0.985583 (0.000583) with: {'drop': 0.5, 'epochs': 50, 'lr': 0.0001}\n",
            "0.096117 (0.005817) with: {'drop': 0.5, 'epochs': 100, 'lr': 0.01}\n",
            "0.975900 (0.002100) with: {'drop': 0.5, 'epochs': 100, 'lr': 0.001}\n",
            "0.984000 (0.001133) with: {'drop': 0.5, 'epochs': 100, 'lr': 0.0001}\n"
          ],
          "name": "stdout"
        }
      ]
    },
    {
      "cell_type": "code",
      "metadata": {
        "id": "x3TpWZcjUTeE",
        "colab_type": "code",
        "colab": {}
      },
      "source": [
        "pickle.dump(grid_result, open('grid2.pkl','wb'))"
      ],
      "execution_count": 0,
      "outputs": []
    },
    {
      "cell_type": "code",
      "metadata": {
        "id": "Tr28fl_7UZPU",
        "colab_type": "code",
        "colab": {}
      },
      "source": [
        "!cp grid.pkl drive/My\\ Drive"
      ],
      "execution_count": 0,
      "outputs": []
    },
    {
      "cell_type": "code",
      "metadata": {
        "id": "JjCRhhcElsWr",
        "colab_type": "code",
        "colab": {}
      },
      "source": [
        "!cp drive/My\\ Drive/grid.pkl ."
      ],
      "execution_count": 0,
      "outputs": []
    },
    {
      "cell_type": "code",
      "metadata": {
        "id": "6M92Q8BJlwBs",
        "colab_type": "code",
        "colab": {}
      },
      "source": [
        "grid_results = pickle.load(open('grid.pkl','rb'))"
      ],
      "execution_count": 0,
      "outputs": []
    },
    {
      "cell_type": "code",
      "metadata": {
        "id": "9rZQrcx8qwEQ",
        "colab_type": "code",
        "colab": {}
      },
      "source": [
        "parameters = grid_results.param_grid\n",
        "keys = list(parameters.keys())\n",
        "for x in keys:\n",
        "  grid_results.cv_results_[x] = grid_results.cv_results_.pop(\"param_\"+x)"
      ],
      "execution_count": 0,
      "outputs": []
    },
    {
      "cell_type": "code",
      "metadata": {
        "id": "pjTsY0ppr3St",
        "colab_type": "code",
        "colab": {
          "base_uri": "https://localhost:8080/",
          "height": 1000
        },
        "outputId": "0435ef79-0945-4d3d-9d38-eeb2937ebffe"
      },
      "source": [
        "score"
      ],
      "execution_count": 85,
      "outputs": [
        {
          "output_type": "execute_result",
          "data": {
            "text/html": [
              "<div>\n",
              "<style scoped>\n",
              "    .dataframe tbody tr th:only-of-type {\n",
              "        vertical-align: middle;\n",
              "    }\n",
              "\n",
              "    .dataframe tbody tr th {\n",
              "        vertical-align: top;\n",
              "    }\n",
              "\n",
              "    .dataframe thead th {\n",
              "        text-align: right;\n",
              "    }\n",
              "</style>\n",
              "<table border=\"1\" class=\"dataframe\">\n",
              "  <thead>\n",
              "    <tr style=\"text-align: right;\">\n",
              "      <th></th>\n",
              "      <th>mean_fit_time</th>\n",
              "      <th>std_fit_time</th>\n",
              "      <th>mean_score_time</th>\n",
              "      <th>std_score_time</th>\n",
              "      <th>params</th>\n",
              "      <th>split0_test_score</th>\n",
              "      <th>split1_test_score</th>\n",
              "      <th>mean_test_score</th>\n",
              "      <th>std_test_score</th>\n",
              "      <th>rank_test_score</th>\n",
              "      <th>lr</th>\n",
              "      <th>epochs</th>\n",
              "      <th>drop</th>\n",
              "    </tr>\n",
              "  </thead>\n",
              "  <tbody>\n",
              "    <tr>\n",
              "      <th>32</th>\n",
              "      <td>471.794007</td>\n",
              "      <td>0.708622</td>\n",
              "      <td>3.902438</td>\n",
              "      <td>0.107943</td>\n",
              "      <td>{'drop': 0.5, 'epochs': 50, 'lr': 0.0001}</td>\n",
              "      <td>0.986167</td>\n",
              "      <td>0.985000</td>\n",
              "      <td>0.985583</td>\n",
              "      <td>0.000583</td>\n",
              "      <td>1</td>\n",
              "      <td>0.0001</td>\n",
              "      <td>50</td>\n",
              "      <td>0.5</td>\n",
              "    </tr>\n",
              "    <tr>\n",
              "      <th>26</th>\n",
              "      <td>965.985611</td>\n",
              "      <td>7.931139</td>\n",
              "      <td>4.182384</td>\n",
              "      <td>0.005006</td>\n",
              "      <td>{'drop': 0.3, 'epochs': 100, 'lr': 0.0001}</td>\n",
              "      <td>0.986033</td>\n",
              "      <td>0.983833</td>\n",
              "      <td>0.984933</td>\n",
              "      <td>0.001100</td>\n",
              "      <td>2</td>\n",
              "      <td>0.0001</td>\n",
              "      <td>100</td>\n",
              "      <td>0.3</td>\n",
              "    </tr>\n",
              "    <tr>\n",
              "      <th>23</th>\n",
              "      <td>476.990983</td>\n",
              "      <td>2.746981</td>\n",
              "      <td>3.898018</td>\n",
              "      <td>0.047087</td>\n",
              "      <td>{'drop': 0.3, 'epochs': 50, 'lr': 0.0001}</td>\n",
              "      <td>0.984800</td>\n",
              "      <td>0.983733</td>\n",
              "      <td>0.984267</td>\n",
              "      <td>0.000533</td>\n",
              "      <td>3</td>\n",
              "      <td>0.0001</td>\n",
              "      <td>50</td>\n",
              "      <td>0.3</td>\n",
              "    </tr>\n",
              "    <tr>\n",
              "      <th>8</th>\n",
              "      <td>906.421972</td>\n",
              "      <td>0.956468</td>\n",
              "      <td>3.710845</td>\n",
              "      <td>0.290406</td>\n",
              "      <td>{'drop': 0, 'epochs': 100, 'lr': 0.0001}</td>\n",
              "      <td>0.985300</td>\n",
              "      <td>0.983133</td>\n",
              "      <td>0.984217</td>\n",
              "      <td>0.001083</td>\n",
              "      <td>4</td>\n",
              "      <td>0.0001</td>\n",
              "      <td>100</td>\n",
              "      <td>0.0</td>\n",
              "    </tr>\n",
              "    <tr>\n",
              "      <th>17</th>\n",
              "      <td>947.038792</td>\n",
              "      <td>8.267578</td>\n",
              "      <td>4.110316</td>\n",
              "      <td>0.110192</td>\n",
              "      <td>{'drop': 0.2, 'epochs': 100, 'lr': 0.0001}</td>\n",
              "      <td>0.984367</td>\n",
              "      <td>0.983700</td>\n",
              "      <td>0.984033</td>\n",
              "      <td>0.000333</td>\n",
              "      <td>5</td>\n",
              "      <td>0.0001</td>\n",
              "      <td>100</td>\n",
              "      <td>0.2</td>\n",
              "    </tr>\n",
              "    <tr>\n",
              "      <th>14</th>\n",
              "      <td>468.193151</td>\n",
              "      <td>3.463599</td>\n",
              "      <td>3.772971</td>\n",
              "      <td>0.039663</td>\n",
              "      <td>{'drop': 0.2, 'epochs': 50, 'lr': 0.0001}</td>\n",
              "      <td>0.985133</td>\n",
              "      <td>0.982900</td>\n",
              "      <td>0.984017</td>\n",
              "      <td>0.001117</td>\n",
              "      <td>6</td>\n",
              "      <td>0.0001</td>\n",
              "      <td>50</td>\n",
              "      <td>0.2</td>\n",
              "    </tr>\n",
              "    <tr>\n",
              "      <th>35</th>\n",
              "      <td>990.465287</td>\n",
              "      <td>1.032297</td>\n",
              "      <td>3.556588</td>\n",
              "      <td>0.775545</td>\n",
              "      <td>{'drop': 0.5, 'epochs': 100, 'lr': 0.0001}</td>\n",
              "      <td>0.985133</td>\n",
              "      <td>0.982867</td>\n",
              "      <td>0.984000</td>\n",
              "      <td>0.001133</td>\n",
              "      <td>7</td>\n",
              "      <td>0.0001</td>\n",
              "      <td>100</td>\n",
              "      <td>0.5</td>\n",
              "    </tr>\n",
              "    <tr>\n",
              "      <th>29</th>\n",
              "      <td>235.867579</td>\n",
              "      <td>0.215019</td>\n",
              "      <td>3.538659</td>\n",
              "      <td>0.029385</td>\n",
              "      <td>{'drop': 0.5, 'epochs': 25, 'lr': 0.0001}</td>\n",
              "      <td>0.985133</td>\n",
              "      <td>0.982000</td>\n",
              "      <td>0.983567</td>\n",
              "      <td>0.001567</td>\n",
              "      <td>8</td>\n",
              "      <td>0.0001</td>\n",
              "      <td>25</td>\n",
              "      <td>0.5</td>\n",
              "    </tr>\n",
              "    <tr>\n",
              "      <th>5</th>\n",
              "      <td>458.467608</td>\n",
              "      <td>0.020042</td>\n",
              "      <td>3.766435</td>\n",
              "      <td>0.019322</td>\n",
              "      <td>{'drop': 0, 'epochs': 50, 'lr': 0.0001}</td>\n",
              "      <td>0.983500</td>\n",
              "      <td>0.982367</td>\n",
              "      <td>0.982933</td>\n",
              "      <td>0.000567</td>\n",
              "      <td>9</td>\n",
              "      <td>0.0001</td>\n",
              "      <td>50</td>\n",
              "      <td>0.0</td>\n",
              "    </tr>\n",
              "    <tr>\n",
              "      <th>11</th>\n",
              "      <td>230.969342</td>\n",
              "      <td>1.304813</td>\n",
              "      <td>3.373224</td>\n",
              "      <td>0.107928</td>\n",
              "      <td>{'drop': 0.2, 'epochs': 25, 'lr': 0.0001}</td>\n",
              "      <td>0.983000</td>\n",
              "      <td>0.981433</td>\n",
              "      <td>0.982217</td>\n",
              "      <td>0.000783</td>\n",
              "      <td>10</td>\n",
              "      <td>0.0001</td>\n",
              "      <td>25</td>\n",
              "      <td>0.2</td>\n",
              "    </tr>\n",
              "    <tr>\n",
              "      <th>2</th>\n",
              "      <td>231.190272</td>\n",
              "      <td>0.508442</td>\n",
              "      <td>3.632632</td>\n",
              "      <td>0.029831</td>\n",
              "      <td>{'drop': 0, 'epochs': 25, 'lr': 0.0001}</td>\n",
              "      <td>0.982467</td>\n",
              "      <td>0.980667</td>\n",
              "      <td>0.981567</td>\n",
              "      <td>0.000900</td>\n",
              "      <td>11</td>\n",
              "      <td>0.0001</td>\n",
              "      <td>25</td>\n",
              "      <td>0.0</td>\n",
              "    </tr>\n",
              "    <tr>\n",
              "      <th>20</th>\n",
              "      <td>239.703217</td>\n",
              "      <td>1.666640</td>\n",
              "      <td>3.635504</td>\n",
              "      <td>0.036287</td>\n",
              "      <td>{'drop': 0.3, 'epochs': 25, 'lr': 0.0001}</td>\n",
              "      <td>0.980200</td>\n",
              "      <td>0.982133</td>\n",
              "      <td>0.981167</td>\n",
              "      <td>0.000967</td>\n",
              "      <td>12</td>\n",
              "      <td>0.0001</td>\n",
              "      <td>25</td>\n",
              "      <td>0.3</td>\n",
              "    </tr>\n",
              "    <tr>\n",
              "      <th>31</th>\n",
              "      <td>472.669152</td>\n",
              "      <td>0.692647</td>\n",
              "      <td>3.802309</td>\n",
              "      <td>0.003780</td>\n",
              "      <td>{'drop': 0.5, 'epochs': 50, 'lr': 0.001}</td>\n",
              "      <td>0.980867</td>\n",
              "      <td>0.979733</td>\n",
              "      <td>0.980300</td>\n",
              "      <td>0.000567</td>\n",
              "      <td>13</td>\n",
              "      <td>0.001</td>\n",
              "      <td>50</td>\n",
              "      <td>0.5</td>\n",
              "    </tr>\n",
              "    <tr>\n",
              "      <th>4</th>\n",
              "      <td>461.567727</td>\n",
              "      <td>0.167944</td>\n",
              "      <td>3.668837</td>\n",
              "      <td>0.079127</td>\n",
              "      <td>{'drop': 0, 'epochs': 50, 'lr': 0.001}</td>\n",
              "      <td>0.976400</td>\n",
              "      <td>0.979300</td>\n",
              "      <td>0.977850</td>\n",
              "      <td>0.001450</td>\n",
              "      <td>14</td>\n",
              "      <td>0.001</td>\n",
              "      <td>50</td>\n",
              "      <td>0.0</td>\n",
              "    </tr>\n",
              "    <tr>\n",
              "      <th>13</th>\n",
              "      <td>467.453461</td>\n",
              "      <td>2.973203</td>\n",
              "      <td>3.786648</td>\n",
              "      <td>0.032438</td>\n",
              "      <td>{'drop': 0.2, 'epochs': 50, 'lr': 0.001}</td>\n",
              "      <td>0.976900</td>\n",
              "      <td>0.978367</td>\n",
              "      <td>0.977633</td>\n",
              "      <td>0.000733</td>\n",
              "      <td>15</td>\n",
              "      <td>0.001</td>\n",
              "      <td>50</td>\n",
              "      <td>0.2</td>\n",
              "    </tr>\n",
              "    <tr>\n",
              "      <th>10</th>\n",
              "      <td>233.098912</td>\n",
              "      <td>1.971407</td>\n",
              "      <td>3.358500</td>\n",
              "      <td>0.076281</td>\n",
              "      <td>{'drop': 0.2, 'epochs': 25, 'lr': 0.001}</td>\n",
              "      <td>0.980133</td>\n",
              "      <td>0.975067</td>\n",
              "      <td>0.977600</td>\n",
              "      <td>0.002533</td>\n",
              "      <td>16</td>\n",
              "      <td>0.001</td>\n",
              "      <td>25</td>\n",
              "      <td>0.2</td>\n",
              "    </tr>\n",
              "    <tr>\n",
              "      <th>28</th>\n",
              "      <td>232.572357</td>\n",
              "      <td>1.479185</td>\n",
              "      <td>3.502814</td>\n",
              "      <td>0.009773</td>\n",
              "      <td>{'drop': 0.5, 'epochs': 25, 'lr': 0.001}</td>\n",
              "      <td>0.976400</td>\n",
              "      <td>0.977267</td>\n",
              "      <td>0.976833</td>\n",
              "      <td>0.000433</td>\n",
              "      <td>17</td>\n",
              "      <td>0.001</td>\n",
              "      <td>25</td>\n",
              "      <td>0.5</td>\n",
              "    </tr>\n",
              "    <tr>\n",
              "      <th>19</th>\n",
              "      <td>241.638597</td>\n",
              "      <td>1.631259</td>\n",
              "      <td>3.554324</td>\n",
              "      <td>0.087975</td>\n",
              "      <td>{'drop': 0.3, 'epochs': 25, 'lr': 0.001}</td>\n",
              "      <td>0.974267</td>\n",
              "      <td>0.978767</td>\n",
              "      <td>0.976517</td>\n",
              "      <td>0.002250</td>\n",
              "      <td>18</td>\n",
              "      <td>0.001</td>\n",
              "      <td>25</td>\n",
              "      <td>0.3</td>\n",
              "    </tr>\n",
              "    <tr>\n",
              "      <th>1</th>\n",
              "      <td>227.033984</td>\n",
              "      <td>0.070495</td>\n",
              "      <td>3.628998</td>\n",
              "      <td>0.016806</td>\n",
              "      <td>{'drop': 0, 'epochs': 25, 'lr': 0.001}</td>\n",
              "      <td>0.978233</td>\n",
              "      <td>0.974633</td>\n",
              "      <td>0.976433</td>\n",
              "      <td>0.001800</td>\n",
              "      <td>19</td>\n",
              "      <td>0.001</td>\n",
              "      <td>25</td>\n",
              "      <td>0.0</td>\n",
              "    </tr>\n",
              "    <tr>\n",
              "      <th>22</th>\n",
              "      <td>477.804809</td>\n",
              "      <td>2.823703</td>\n",
              "      <td>3.788849</td>\n",
              "      <td>0.098861</td>\n",
              "      <td>{'drop': 0.3, 'epochs': 50, 'lr': 0.001}</td>\n",
              "      <td>0.978367</td>\n",
              "      <td>0.974300</td>\n",
              "      <td>0.976333</td>\n",
              "      <td>0.002033</td>\n",
              "      <td>20</td>\n",
              "      <td>0.001</td>\n",
              "      <td>50</td>\n",
              "      <td>0.3</td>\n",
              "    </tr>\n",
              "    <tr>\n",
              "      <th>34</th>\n",
              "      <td>955.508967</td>\n",
              "      <td>2.564818</td>\n",
              "      <td>4.041946</td>\n",
              "      <td>0.063852</td>\n",
              "      <td>{'drop': 0.5, 'epochs': 100, 'lr': 0.001}</td>\n",
              "      <td>0.973800</td>\n",
              "      <td>0.978000</td>\n",
              "      <td>0.975900</td>\n",
              "      <td>0.002100</td>\n",
              "      <td>21</td>\n",
              "      <td>0.001</td>\n",
              "      <td>100</td>\n",
              "      <td>0.5</td>\n",
              "    </tr>\n",
              "    <tr>\n",
              "      <th>7</th>\n",
              "      <td>905.660821</td>\n",
              "      <td>0.003485</td>\n",
              "      <td>3.856573</td>\n",
              "      <td>0.044946</td>\n",
              "      <td>{'drop': 0, 'epochs': 100, 'lr': 0.001}</td>\n",
              "      <td>0.970667</td>\n",
              "      <td>0.973567</td>\n",
              "      <td>0.972117</td>\n",
              "      <td>0.001450</td>\n",
              "      <td>22</td>\n",
              "      <td>0.001</td>\n",
              "      <td>100</td>\n",
              "      <td>0.0</td>\n",
              "    </tr>\n",
              "    <tr>\n",
              "      <th>25</th>\n",
              "      <td>964.259935</td>\n",
              "      <td>7.863200</td>\n",
              "      <td>3.994214</td>\n",
              "      <td>0.103397</td>\n",
              "      <td>{'drop': 0.3, 'epochs': 100, 'lr': 0.001}</td>\n",
              "      <td>0.975133</td>\n",
              "      <td>0.968500</td>\n",
              "      <td>0.971817</td>\n",
              "      <td>0.003317</td>\n",
              "      <td>23</td>\n",
              "      <td>0.001</td>\n",
              "      <td>100</td>\n",
              "      <td>0.3</td>\n",
              "    </tr>\n",
              "    <tr>\n",
              "      <th>16</th>\n",
              "      <td>940.852324</td>\n",
              "      <td>7.213572</td>\n",
              "      <td>3.982933</td>\n",
              "      <td>0.024368</td>\n",
              "      <td>{'drop': 0.2, 'epochs': 100, 'lr': 0.001}</td>\n",
              "      <td>0.973767</td>\n",
              "      <td>0.953900</td>\n",
              "      <td>0.963833</td>\n",
              "      <td>0.009933</td>\n",
              "      <td>24</td>\n",
              "      <td>0.001</td>\n",
              "      <td>100</td>\n",
              "      <td>0.2</td>\n",
              "    </tr>\n",
              "    <tr>\n",
              "      <th>6</th>\n",
              "      <td>916.123076</td>\n",
              "      <td>0.048734</td>\n",
              "      <td>3.883017</td>\n",
              "      <td>0.126879</td>\n",
              "      <td>{'drop': 0, 'epochs': 100, 'lr': 0.01}</td>\n",
              "      <td>0.102433</td>\n",
              "      <td>0.105267</td>\n",
              "      <td>0.103850</td>\n",
              "      <td>0.001417</td>\n",
              "      <td>25</td>\n",
              "      <td>0.01</td>\n",
              "      <td>100</td>\n",
              "      <td>0.0</td>\n",
              "    </tr>\n",
              "    <tr>\n",
              "      <th>9</th>\n",
              "      <td>236.467401</td>\n",
              "      <td>0.400897</td>\n",
              "      <td>3.909430</td>\n",
              "      <td>0.114049</td>\n",
              "      <td>{'drop': 0.2, 'epochs': 25, 'lr': 0.01}</td>\n",
              "      <td>0.103567</td>\n",
              "      <td>0.101933</td>\n",
              "      <td>0.102750</td>\n",
              "      <td>0.000817</td>\n",
              "      <td>26</td>\n",
              "      <td>0.01</td>\n",
              "      <td>25</td>\n",
              "      <td>0.2</td>\n",
              "    </tr>\n",
              "    <tr>\n",
              "      <th>0</th>\n",
              "      <td>234.508416</td>\n",
              "      <td>0.465258</td>\n",
              "      <td>3.431666</td>\n",
              "      <td>0.036131</td>\n",
              "      <td>{'drop': 0, 'epochs': 25, 'lr': 0.01}</td>\n",
              "      <td>0.114100</td>\n",
              "      <td>0.090400</td>\n",
              "      <td>0.102250</td>\n",
              "      <td>0.011850</td>\n",
              "      <td>27</td>\n",
              "      <td>0.01</td>\n",
              "      <td>25</td>\n",
              "      <td>0.0</td>\n",
              "    </tr>\n",
              "    <tr>\n",
              "      <th>30</th>\n",
              "      <td>468.694160</td>\n",
              "      <td>0.174074</td>\n",
              "      <td>3.695244</td>\n",
              "      <td>0.039882</td>\n",
              "      <td>{'drop': 0.5, 'epochs': 50, 'lr': 0.01}</td>\n",
              "      <td>0.098267</td>\n",
              "      <td>0.105267</td>\n",
              "      <td>0.101767</td>\n",
              "      <td>0.003500</td>\n",
              "      <td>28</td>\n",
              "      <td>0.01</td>\n",
              "      <td>50</td>\n",
              "      <td>0.5</td>\n",
              "    </tr>\n",
              "    <tr>\n",
              "      <th>18</th>\n",
              "      <td>238.271776</td>\n",
              "      <td>1.035579</td>\n",
              "      <td>4.134261</td>\n",
              "      <td>0.045043</td>\n",
              "      <td>{'drop': 0.3, 'epochs': 25, 'lr': 0.01}</td>\n",
              "      <td>0.098267</td>\n",
              "      <td>0.105267</td>\n",
              "      <td>0.101767</td>\n",
              "      <td>0.003500</td>\n",
              "      <td>28</td>\n",
              "      <td>0.01</td>\n",
              "      <td>25</td>\n",
              "      <td>0.3</td>\n",
              "    </tr>\n",
              "    <tr>\n",
              "      <th>15</th>\n",
              "      <td>936.712703</td>\n",
              "      <td>4.843200</td>\n",
              "      <td>3.928072</td>\n",
              "      <td>0.110751</td>\n",
              "      <td>{'drop': 0.2, 'epochs': 100, 'lr': 0.01}</td>\n",
              "      <td>0.100100</td>\n",
              "      <td>0.100333</td>\n",
              "      <td>0.100217</td>\n",
              "      <td>0.000117</td>\n",
              "      <td>30</td>\n",
              "      <td>0.01</td>\n",
              "      <td>100</td>\n",
              "      <td>0.2</td>\n",
              "    </tr>\n",
              "    <tr>\n",
              "      <th>12</th>\n",
              "      <td>461.404979</td>\n",
              "      <td>2.997088</td>\n",
              "      <td>3.651751</td>\n",
              "      <td>0.018660</td>\n",
              "      <td>{'drop': 0.2, 'epochs': 50, 'lr': 0.01}</td>\n",
              "      <td>0.098267</td>\n",
              "      <td>0.101933</td>\n",
              "      <td>0.100100</td>\n",
              "      <td>0.001833</td>\n",
              "      <td>31</td>\n",
              "      <td>0.01</td>\n",
              "      <td>50</td>\n",
              "      <td>0.2</td>\n",
              "    </tr>\n",
              "    <tr>\n",
              "      <th>24</th>\n",
              "      <td>967.015692</td>\n",
              "      <td>9.234196</td>\n",
              "      <td>3.936852</td>\n",
              "      <td>0.121639</td>\n",
              "      <td>{'drop': 0.3, 'epochs': 100, 'lr': 0.01}</td>\n",
              "      <td>0.097533</td>\n",
              "      <td>0.098733</td>\n",
              "      <td>0.098133</td>\n",
              "      <td>0.000600</td>\n",
              "      <td>32</td>\n",
              "      <td>0.01</td>\n",
              "      <td>100</td>\n",
              "      <td>0.3</td>\n",
              "    </tr>\n",
              "    <tr>\n",
              "      <th>27</th>\n",
              "      <td>246.251275</td>\n",
              "      <td>1.888880</td>\n",
              "      <td>4.085655</td>\n",
              "      <td>0.080869</td>\n",
              "      <td>{'drop': 0.5, 'epochs': 25, 'lr': 0.01}</td>\n",
              "      <td>0.098267</td>\n",
              "      <td>0.097767</td>\n",
              "      <td>0.098017</td>\n",
              "      <td>0.000250</td>\n",
              "      <td>33</td>\n",
              "      <td>0.01</td>\n",
              "      <td>25</td>\n",
              "      <td>0.5</td>\n",
              "    </tr>\n",
              "    <tr>\n",
              "      <th>3</th>\n",
              "      <td>459.089557</td>\n",
              "      <td>0.075109</td>\n",
              "      <td>3.721984</td>\n",
              "      <td>0.058817</td>\n",
              "      <td>{'drop': 0, 'epochs': 50, 'lr': 0.01}</td>\n",
              "      <td>0.095833</td>\n",
              "      <td>0.099200</td>\n",
              "      <td>0.097517</td>\n",
              "      <td>0.001683</td>\n",
              "      <td>34</td>\n",
              "      <td>0.01</td>\n",
              "      <td>50</td>\n",
              "      <td>0.0</td>\n",
              "    </tr>\n",
              "    <tr>\n",
              "      <th>33</th>\n",
              "      <td>944.027379</td>\n",
              "      <td>2.006245</td>\n",
              "      <td>3.923541</td>\n",
              "      <td>0.113876</td>\n",
              "      <td>{'drop': 0.5, 'epochs': 100, 'lr': 0.01}</td>\n",
              "      <td>0.090300</td>\n",
              "      <td>0.101933</td>\n",
              "      <td>0.096117</td>\n",
              "      <td>0.005817</td>\n",
              "      <td>35</td>\n",
              "      <td>0.01</td>\n",
              "      <td>100</td>\n",
              "      <td>0.5</td>\n",
              "    </tr>\n",
              "    <tr>\n",
              "      <th>21</th>\n",
              "      <td>476.196026</td>\n",
              "      <td>3.471605</td>\n",
              "      <td>3.618748</td>\n",
              "      <td>0.061767</td>\n",
              "      <td>{'drop': 0.3, 'epochs': 50, 'lr': 0.01}</td>\n",
              "      <td>0.098700</td>\n",
              "      <td>0.090400</td>\n",
              "      <td>0.094550</td>\n",
              "      <td>0.004150</td>\n",
              "      <td>36</td>\n",
              "      <td>0.01</td>\n",
              "      <td>50</td>\n",
              "      <td>0.3</td>\n",
              "    </tr>\n",
              "  </tbody>\n",
              "</table>\n",
              "</div>"
            ],
            "text/plain": [
              "    mean_fit_time  std_fit_time  mean_score_time  ...      lr epochs  drop\n",
              "32     471.794007      0.708622         3.902438  ...  0.0001     50   0.5\n",
              "26     965.985611      7.931139         4.182384  ...  0.0001    100   0.3\n",
              "23     476.990983      2.746981         3.898018  ...  0.0001     50   0.3\n",
              "8      906.421972      0.956468         3.710845  ...  0.0001    100   0.0\n",
              "17     947.038792      8.267578         4.110316  ...  0.0001    100   0.2\n",
              "14     468.193151      3.463599         3.772971  ...  0.0001     50   0.2\n",
              "35     990.465287      1.032297         3.556588  ...  0.0001    100   0.5\n",
              "29     235.867579      0.215019         3.538659  ...  0.0001     25   0.5\n",
              "5      458.467608      0.020042         3.766435  ...  0.0001     50   0.0\n",
              "11     230.969342      1.304813         3.373224  ...  0.0001     25   0.2\n",
              "2      231.190272      0.508442         3.632632  ...  0.0001     25   0.0\n",
              "20     239.703217      1.666640         3.635504  ...  0.0001     25   0.3\n",
              "31     472.669152      0.692647         3.802309  ...   0.001     50   0.5\n",
              "4      461.567727      0.167944         3.668837  ...   0.001     50   0.0\n",
              "13     467.453461      2.973203         3.786648  ...   0.001     50   0.2\n",
              "10     233.098912      1.971407         3.358500  ...   0.001     25   0.2\n",
              "28     232.572357      1.479185         3.502814  ...   0.001     25   0.5\n",
              "19     241.638597      1.631259         3.554324  ...   0.001     25   0.3\n",
              "1      227.033984      0.070495         3.628998  ...   0.001     25   0.0\n",
              "22     477.804809      2.823703         3.788849  ...   0.001     50   0.3\n",
              "34     955.508967      2.564818         4.041946  ...   0.001    100   0.5\n",
              "7      905.660821      0.003485         3.856573  ...   0.001    100   0.0\n",
              "25     964.259935      7.863200         3.994214  ...   0.001    100   0.3\n",
              "16     940.852324      7.213572         3.982933  ...   0.001    100   0.2\n",
              "6      916.123076      0.048734         3.883017  ...    0.01    100   0.0\n",
              "9      236.467401      0.400897         3.909430  ...    0.01     25   0.2\n",
              "0      234.508416      0.465258         3.431666  ...    0.01     25   0.0\n",
              "30     468.694160      0.174074         3.695244  ...    0.01     50   0.5\n",
              "18     238.271776      1.035579         4.134261  ...    0.01     25   0.3\n",
              "15     936.712703      4.843200         3.928072  ...    0.01    100   0.2\n",
              "12     461.404979      2.997088         3.651751  ...    0.01     50   0.2\n",
              "24     967.015692      9.234196         3.936852  ...    0.01    100   0.3\n",
              "27     246.251275      1.888880         4.085655  ...    0.01     25   0.5\n",
              "3      459.089557      0.075109         3.721984  ...    0.01     50   0.0\n",
              "33     944.027379      2.006245         3.923541  ...    0.01    100   0.5\n",
              "21     476.196026      3.471605         3.618748  ...    0.01     50   0.3\n",
              "\n",
              "[36 rows x 13 columns]"
            ]
          },
          "metadata": {
            "tags": []
          },
          "execution_count": 85
        }
      ]
    },
    {
      "cell_type": "code",
      "metadata": {
        "id": "9DbJsYMvmPFH",
        "colab_type": "code",
        "colab": {
          "base_uri": "https://localhost:8080/",
          "height": 867
        },
        "outputId": "af240745-3b15-4e1c-e174-1445ccca63b2"
      },
      "source": [
        "score = pd.DataFrame(grid_results.cv_results_).sort_values(by='mean_test_score', ascending = False)\n",
        "parameters = grid_results.param_grid\n",
        "for i in parameters.keys():\n",
        "    print(i, len(parameters[i]), parameters[i])\n",
        "score[i] = score.params.apply(lambda x: x[i])\n",
        "l =['mean_test_score'] + list(parameters.keys())\n",
        "for i in list(parameters.keys()):\n",
        "    sns.swarmplot(data = score[l], x = i, y = 'mean_test_score')\n",
        "    plt.savefig(i+'.jpg', dpi = 100)\n",
        "    plt.show()"
      ],
      "execution_count": 154,
      "outputs": [
        {
          "output_type": "stream",
          "text": [
            "lr 3 [0.01, 0.001, 0.0001]\n",
            "epochs 3 [25, 50, 100]\n",
            "drop 4 [0, 0.2, 0.3, 0.5]\n"
          ],
          "name": "stdout"
        },
        {
          "output_type": "display_data",
          "data": {
            "image/png": "[encoded data removed]",
            "text/plain": [
              "<Figure size 432x288 with 1 Axes>"
            ]
          },
          "metadata": {
            "tags": []
          }
        },
        {
          "output_type": "display_data",
          "data": {
            "image/png": "[encoded data removed]",
            "text/plain": [
              "<Figure size 432x288 with 1 Axes>"
            ]
          },
          "metadata": {
            "tags": []
          }
        },
        {
          "output_type": "display_data",
          "data": {
            "image/png": "[encoded data removed]",
            "text/plain": [
              "<Figure size 432x288 with 1 Axes>"
            ]
          },
          "metadata": {
            "tags": []
          }
        }
      ]
    },
    {
      "cell_type": "code",
      "metadata": {
        "id": "iAekTZUOtt2h",
        "colab_type": "code",
        "colab": {}
      },
      "source": [
        "score[\"params\"] = score[\"params\"].map(lambda x: str(x))"
      ],
      "execution_count": 0,
      "outputs": []
    },
    {
      "cell_type": "code",
      "metadata": {
        "id": "rczPqLuSsWLb",
        "colab_type": "code",
        "colab": {
          "base_uri": "https://localhost:8080/",
          "height": 632
        },
        "outputId": "6fe180d6-88d0-406b-f08d-9a783e9d25ec"
      },
      "source": [
        "plt.figure(figsize=(15,7))\n",
        "ax = sns.barplot(x=\"params\",y=\"mean_test_score\",data=score)\n",
        "plt.xticks(rotation=90)\n",
        "plt.savefig('barplot.png',dpi=100,bbox_inches='tight')"
      ],
      "execution_count": 171,
      "outputs": [
        {
          "output_type": "display_data",
          "data": {
            "image/png": "[encoded data removed]",
            "text/plain": [
              "<Figure size 1080x504 with 1 Axes>"
            ]
          },
          "metadata": {
            "tags": []
          }
        }
      ]
    },
    {
      "cell_type": "code",
      "metadata": {
        "id": "Yw_cKcTYsrJs",
        "colab_type": "code",
        "colab": {
          "base_uri": "https://localhost:8080/",
          "height": 1000
        },
        "outputId": "d6686d9f-9cee-4530-83df-afae255bad12"
      },
      "source": [
        "score[[\"lr\",\"epochs\",\"drop\",\"mean_test_score\"]]"
      ],
      "execution_count": 95,
      "outputs": [
        {
          "output_type": "execute_result",
          "data": {
            "text/html": [
              "<div>\n",
              "<style scoped>\n",
              "    .dataframe tbody tr th:only-of-type {\n",
              "        vertical-align: middle;\n",
              "    }\n",
              "\n",
              "    .dataframe tbody tr th {\n",
              "        vertical-align: top;\n",
              "    }\n",
              "\n",
              "    .dataframe thead th {\n",
              "        text-align: right;\n",
              "    }\n",
              "</style>\n",
              "<table border=\"1\" class=\"dataframe\">\n",
              "  <thead>\n",
              "    <tr style=\"text-align: right;\">\n",
              "      <th></th>\n",
              "      <th>lr</th>\n",
              "      <th>epochs</th>\n",
              "      <th>drop</th>\n",
              "      <th>mean_test_score</th>\n",
              "    </tr>\n",
              "  </thead>\n",
              "  <tbody>\n",
              "    <tr>\n",
              "      <th>32</th>\n",
              "      <td>0.0001</td>\n",
              "      <td>50</td>\n",
              "      <td>0.5</td>\n",
              "      <td>0.985583</td>\n",
              "    </tr>\n",
              "    <tr>\n",
              "      <th>26</th>\n",
              "      <td>0.0001</td>\n",
              "      <td>100</td>\n",
              "      <td>0.3</td>\n",
              "      <td>0.984933</td>\n",
              "    </tr>\n",
              "    <tr>\n",
              "      <th>23</th>\n",
              "      <td>0.0001</td>\n",
              "      <td>50</td>\n",
              "      <td>0.3</td>\n",
              "      <td>0.984267</td>\n",
              "    </tr>\n",
              "    <tr>\n",
              "      <th>8</th>\n",
              "      <td>0.0001</td>\n",
              "      <td>100</td>\n",
              "      <td>0.0</td>\n",
              "      <td>0.984217</td>\n",
              "    </tr>\n",
              "    <tr>\n",
              "      <th>17</th>\n",
              "      <td>0.0001</td>\n",
              "      <td>100</td>\n",
              "      <td>0.2</td>\n",
              "      <td>0.984033</td>\n",
              "    </tr>\n",
              "    <tr>\n",
              "      <th>14</th>\n",
              "      <td>0.0001</td>\n",
              "      <td>50</td>\n",
              "      <td>0.2</td>\n",
              "      <td>0.984017</td>\n",
              "    </tr>\n",
              "    <tr>\n",
              "      <th>35</th>\n",
              "      <td>0.0001</td>\n",
              "      <td>100</td>\n",
              "      <td>0.5</td>\n",
              "      <td>0.984000</td>\n",
              "    </tr>\n",
              "    <tr>\n",
              "      <th>29</th>\n",
              "      <td>0.0001</td>\n",
              "      <td>25</td>\n",
              "      <td>0.5</td>\n",
              "      <td>0.983567</td>\n",
              "    </tr>\n",
              "    <tr>\n",
              "      <th>5</th>\n",
              "      <td>0.0001</td>\n",
              "      <td>50</td>\n",
              "      <td>0.0</td>\n",
              "      <td>0.982933</td>\n",
              "    </tr>\n",
              "    <tr>\n",
              "      <th>11</th>\n",
              "      <td>0.0001</td>\n",
              "      <td>25</td>\n",
              "      <td>0.2</td>\n",
              "      <td>0.982217</td>\n",
              "    </tr>\n",
              "    <tr>\n",
              "      <th>2</th>\n",
              "      <td>0.0001</td>\n",
              "      <td>25</td>\n",
              "      <td>0.0</td>\n",
              "      <td>0.981567</td>\n",
              "    </tr>\n",
              "    <tr>\n",
              "      <th>20</th>\n",
              "      <td>0.0001</td>\n",
              "      <td>25</td>\n",
              "      <td>0.3</td>\n",
              "      <td>0.981167</td>\n",
              "    </tr>\n",
              "    <tr>\n",
              "      <th>31</th>\n",
              "      <td>0.001</td>\n",
              "      <td>50</td>\n",
              "      <td>0.5</td>\n",
              "      <td>0.980300</td>\n",
              "    </tr>\n",
              "    <tr>\n",
              "      <th>4</th>\n",
              "      <td>0.001</td>\n",
              "      <td>50</td>\n",
              "      <td>0.0</td>\n",
              "      <td>0.977850</td>\n",
              "    </tr>\n",
              "    <tr>\n",
              "      <th>13</th>\n",
              "      <td>0.001</td>\n",
              "      <td>50</td>\n",
              "      <td>0.2</td>\n",
              "      <td>0.977633</td>\n",
              "    </tr>\n",
              "    <tr>\n",
              "      <th>10</th>\n",
              "      <td>0.001</td>\n",
              "      <td>25</td>\n",
              "      <td>0.2</td>\n",
              "      <td>0.977600</td>\n",
              "    </tr>\n",
              "    <tr>\n",
              "      <th>28</th>\n",
              "      <td>0.001</td>\n",
              "      <td>25</td>\n",
              "      <td>0.5</td>\n",
              "      <td>0.976833</td>\n",
              "    </tr>\n",
              "    <tr>\n",
              "      <th>19</th>\n",
              "      <td>0.001</td>\n",
              "      <td>25</td>\n",
              "      <td>0.3</td>\n",
              "      <td>0.976517</td>\n",
              "    </tr>\n",
              "    <tr>\n",
              "      <th>1</th>\n",
              "      <td>0.001</td>\n",
              "      <td>25</td>\n",
              "      <td>0.0</td>\n",
              "      <td>0.976433</td>\n",
              "    </tr>\n",
              "    <tr>\n",
              "      <th>22</th>\n",
              "      <td>0.001</td>\n",
              "      <td>50</td>\n",
              "      <td>0.3</td>\n",
              "      <td>0.976333</td>\n",
              "    </tr>\n",
              "    <tr>\n",
              "      <th>34</th>\n",
              "      <td>0.001</td>\n",
              "      <td>100</td>\n",
              "      <td>0.5</td>\n",
              "      <td>0.975900</td>\n",
              "    </tr>\n",
              "    <tr>\n",
              "      <th>7</th>\n",
              "      <td>0.001</td>\n",
              "      <td>100</td>\n",
              "      <td>0.0</td>\n",
              "      <td>0.972117</td>\n",
              "    </tr>\n",
              "    <tr>\n",
              "      <th>25</th>\n",
              "      <td>0.001</td>\n",
              "      <td>100</td>\n",
              "      <td>0.3</td>\n",
              "      <td>0.971817</td>\n",
              "    </tr>\n",
              "    <tr>\n",
              "      <th>16</th>\n",
              "      <td>0.001</td>\n",
              "      <td>100</td>\n",
              "      <td>0.2</td>\n",
              "      <td>0.963833</td>\n",
              "    </tr>\n",
              "    <tr>\n",
              "      <th>6</th>\n",
              "      <td>0.01</td>\n",
              "      <td>100</td>\n",
              "      <td>0.0</td>\n",
              "      <td>0.103850</td>\n",
              "    </tr>\n",
              "    <tr>\n",
              "      <th>9</th>\n",
              "      <td>0.01</td>\n",
              "      <td>25</td>\n",
              "      <td>0.2</td>\n",
              "      <td>0.102750</td>\n",
              "    </tr>\n",
              "    <tr>\n",
              "      <th>0</th>\n",
              "      <td>0.01</td>\n",
              "      <td>25</td>\n",
              "      <td>0.0</td>\n",
              "      <td>0.102250</td>\n",
              "    </tr>\n",
              "    <tr>\n",
              "      <th>30</th>\n",
              "      <td>0.01</td>\n",
              "      <td>50</td>\n",
              "      <td>0.5</td>\n",
              "      <td>0.101767</td>\n",
              "    </tr>\n",
              "    <tr>\n",
              "      <th>18</th>\n",
              "      <td>0.01</td>\n",
              "      <td>25</td>\n",
              "      <td>0.3</td>\n",
              "      <td>0.101767</td>\n",
              "    </tr>\n",
              "    <tr>\n",
              "      <th>15</th>\n",
              "      <td>0.01</td>\n",
              "      <td>100</td>\n",
              "      <td>0.2</td>\n",
              "      <td>0.100217</td>\n",
              "    </tr>\n",
              "    <tr>\n",
              "      <th>12</th>\n",
              "      <td>0.01</td>\n",
              "      <td>50</td>\n",
              "      <td>0.2</td>\n",
              "      <td>0.100100</td>\n",
              "    </tr>\n",
              "    <tr>\n",
              "      <th>24</th>\n",
              "      <td>0.01</td>\n",
              "      <td>100</td>\n",
              "      <td>0.3</td>\n",
              "      <td>0.098133</td>\n",
              "    </tr>\n",
              "    <tr>\n",
              "      <th>27</th>\n",
              "      <td>0.01</td>\n",
              "      <td>25</td>\n",
              "      <td>0.5</td>\n",
              "      <td>0.098017</td>\n",
              "    </tr>\n",
              "    <tr>\n",
              "      <th>3</th>\n",
              "      <td>0.01</td>\n",
              "      <td>50</td>\n",
              "      <td>0.0</td>\n",
              "      <td>0.097517</td>\n",
              "    </tr>\n",
              "    <tr>\n",
              "      <th>33</th>\n",
              "      <td>0.01</td>\n",
              "      <td>100</td>\n",
              "      <td>0.5</td>\n",
              "      <td>0.096117</td>\n",
              "    </tr>\n",
              "    <tr>\n",
              "      <th>21</th>\n",
              "      <td>0.01</td>\n",
              "      <td>50</td>\n",
              "      <td>0.3</td>\n",
              "      <td>0.094550</td>\n",
              "    </tr>\n",
              "  </tbody>\n",
              "</table>\n",
              "</div>"
            ],
            "text/plain": [
              "        lr epochs  drop  mean_test_score\n",
              "32  0.0001     50   0.5         0.985583\n",
              "26  0.0001    100   0.3         0.984933\n",
              "23  0.0001     50   0.3         0.984267\n",
              "8   0.0001    100   0.0         0.984217\n",
              "17  0.0001    100   0.2         0.984033\n",
              "14  0.0001     50   0.2         0.984017\n",
              "35  0.0001    100   0.5         0.984000\n",
              "29  0.0001     25   0.5         0.983567\n",
              "5   0.0001     50   0.0         0.982933\n",
              "11  0.0001     25   0.2         0.982217\n",
              "2   0.0001     25   0.0         0.981567\n",
              "20  0.0001     25   0.3         0.981167\n",
              "31   0.001     50   0.5         0.980300\n",
              "4    0.001     50   0.0         0.977850\n",
              "13   0.001     50   0.2         0.977633\n",
              "10   0.001     25   0.2         0.977600\n",
              "28   0.001     25   0.5         0.976833\n",
              "19   0.001     25   0.3         0.976517\n",
              "1    0.001     25   0.0         0.976433\n",
              "22   0.001     50   0.3         0.976333\n",
              "34   0.001    100   0.5         0.975900\n",
              "7    0.001    100   0.0         0.972117\n",
              "25   0.001    100   0.3         0.971817\n",
              "16   0.001    100   0.2         0.963833\n",
              "6     0.01    100   0.0         0.103850\n",
              "9     0.01     25   0.2         0.102750\n",
              "0     0.01     25   0.0         0.102250\n",
              "30    0.01     50   0.5         0.101767\n",
              "18    0.01     25   0.3         0.101767\n",
              "15    0.01    100   0.2         0.100217\n",
              "12    0.01     50   0.2         0.100100\n",
              "24    0.01    100   0.3         0.098133\n",
              "27    0.01     25   0.5         0.098017\n",
              "3     0.01     50   0.0         0.097517\n",
              "33    0.01    100   0.5         0.096117\n",
              "21    0.01     50   0.3         0.094550"
            ]
          },
          "metadata": {
            "tags": []
          },
          "execution_count": 95
        }
      ]
    },
    {
      "cell_type": "markdown",
      "metadata": {
        "id": "k7ie0Gaqt9FE",
        "colab_type": "text"
      },
      "source": [
        "## Tune Activation Function"
      ]
    },
    {
      "cell_type": "code",
      "metadata": {
        "id": "WRYmDp6euBNT",
        "colab_type": "code",
        "colab": {}
      },
      "source": [
        "#parameters\n",
        "lr= [0.0001]\n",
        "epochs=[50]\n",
        "drop=[0.5]\n",
        "act = [None,\"tanh\",\"sigmoid\",\"relu\"]\n",
        "param_grid = dict(lr=lr,epochs=epochs,drop=drop,act=act)"
      ],
      "execution_count": 0,
      "outputs": []
    },
    {
      "cell_type": "code",
      "metadata": {
        "id": "cbdyYgeXuXJA",
        "colab_type": "code",
        "colab": {
          "base_uri": "https://localhost:8080/",
          "height": 1000
        },
        "outputId": "5e6d0923-508e-42a4-bcb0-114b80d8518d"
      },
      "source": [
        "grid2 = GridSearchCV(estimator=model, param_grid=param_grid, n_jobs=-1, cv=2, verbose=True)  #GridSearch with 1-fold Cross Validation\n",
        "grid_result2 = grid2.fit(X, y)\n",
        "# summarize results\n",
        "print(\"Best: %f using %s\" % (grid_result2.best_score_, grid_result2.best_params_))\n",
        "means = grid_result2.cv_results_['mean_test_score']\n",
        "stds = grid_result2.cv_results_['std_test_score']\n",
        "params = grid_result2.cv_results_['params']\n",
        "for mean, stdev, param in zip(means, stds, params):\n",
        "    print(\"%f (%f) with: %r\" % (mean, stdev, param))"
      ],
      "execution_count": 97,
      "outputs": [
        {
          "output_type": "stream",
          "text": [
            "Fitting 2 folds for each of 4 candidates, totalling 8 fits\n"
          ],
          "name": "stdout"
        },
        {
          "output_type": "stream",
          "text": [
            "[Parallel(n_jobs=-1)]: Using backend LokyBackend with 2 concurrent workers.\n",
            "[Parallel(n_jobs=-1)]: Done   8 out of   8 | elapsed: 33.8min finished\n"
          ],
          "name": "stderr"
        },
        {
          "output_type": "stream",
          "text": [
            "Epoch 1/50\n",
            "60000/60000 [==============================] - 17s 275us/step - loss: 0.6916 - acc: 0.7877\n",
            "Epoch 2/50\n",
            "60000/60000 [==============================] - 15s 256us/step - loss: 0.2459 - acc: 0.9280\n",
            "Epoch 3/50\n",
            "60000/60000 [==============================] - 15s 255us/step - loss: 0.1762 - acc: 0.9498\n",
            "Epoch 4/50\n",
            "60000/60000 [==============================] - 15s 255us/step - loss: 0.1408 - acc: 0.9599\n",
            "Epoch 5/50\n",
            "60000/60000 [==============================] - 15s 254us/step - loss: 0.1195 - acc: 0.9661\n",
            "Epoch 6/50\n",
            "60000/60000 [==============================] - 15s 255us/step - loss: 0.1063 - acc: 0.9698\n",
            "Epoch 7/50\n",
            "60000/60000 [==============================] - 15s 258us/step - loss: 0.0942 - acc: 0.9730\n",
            "Epoch 8/50\n",
            "60000/60000 [==============================] - 15s 257us/step - loss: 0.0844 - acc: 0.9759\n",
            "Epoch 9/50\n",
            "60000/60000 [==============================] - 15s 254us/step - loss: 0.0766 - acc: 0.9783\n",
            "Epoch 10/50\n",
            "60000/60000 [==============================] - 15s 256us/step - loss: 0.0692 - acc: 0.9798\n",
            "Epoch 11/50\n",
            "60000/60000 [==============================] - 15s 256us/step - loss: 0.0642 - acc: 0.9812\n",
            "Epoch 12/50\n",
            "60000/60000 [==============================] - 15s 257us/step - loss: 0.0608 - acc: 0.9824\n",
            "Epoch 13/50\n",
            "60000/60000 [==============================] - 15s 256us/step - loss: 0.0572 - acc: 0.9831\n",
            "Epoch 14/50\n",
            "60000/60000 [==============================] - 15s 255us/step - loss: 0.0522 - acc: 0.9852\n",
            "Epoch 15/50\n",
            "60000/60000 [==============================] - 15s 256us/step - loss: 0.0510 - acc: 0.9852\n",
            "Epoch 16/50\n",
            "60000/60000 [==============================] - 16s 260us/step - loss: 0.0488 - acc: 0.9859\n",
            "Epoch 17/50\n",
            "60000/60000 [==============================] - 15s 255us/step - loss: 0.0456 - acc: 0.9867\n",
            "Epoch 18/50\n",
            "60000/60000 [==============================] - 15s 256us/step - loss: 0.0442 - acc: 0.9868\n",
            "Epoch 19/50\n",
            "60000/60000 [==============================] - 15s 255us/step - loss: 0.0391 - acc: 0.9889\n",
            "Epoch 20/50\n",
            "60000/60000 [==============================] - 16s 265us/step - loss: 0.0406 - acc: 0.9884\n",
            "Epoch 21/50\n",
            "60000/60000 [==============================] - 15s 255us/step - loss: 0.0370 - acc: 0.9890\n",
            "Epoch 22/50\n",
            "60000/60000 [==============================] - 15s 256us/step - loss: 0.0356 - acc: 0.9894\n",
            "Epoch 23/50\n",
            "60000/60000 [==============================] - 15s 255us/step - loss: 0.0334 - acc: 0.9899\n",
            "Epoch 24/50\n",
            "60000/60000 [==============================] - 15s 253us/step - loss: 0.0320 - acc: 0.9903\n",
            "Epoch 25/50\n",
            "60000/60000 [==============================] - 15s 254us/step - loss: 0.0314 - acc: 0.9907\n",
            "Epoch 26/50\n",
            "60000/60000 [==============================] - 15s 254us/step - loss: 0.0289 - acc: 0.9910\n",
            "Epoch 27/50\n",
            "60000/60000 [==============================] - 15s 256us/step - loss: 0.0281 - acc: 0.9914\n",
            "Epoch 28/50\n",
            "60000/60000 [==============================] - 15s 253us/step - loss: 0.0271 - acc: 0.9921\n",
            "Epoch 29/50\n",
            "60000/60000 [==============================] - 15s 253us/step - loss: 0.0262 - acc: 0.9920\n",
            "Epoch 30/50\n",
            "60000/60000 [==============================] - 15s 256us/step - loss: 0.0244 - acc: 0.9925\n",
            "Epoch 31/50\n",
            "60000/60000 [==============================] - 15s 256us/step - loss: 0.0234 - acc: 0.9929\n",
            "Epoch 32/50\n",
            "60000/60000 [==============================] - 15s 256us/step - loss: 0.0232 - acc: 0.9928\n",
            "Epoch 33/50\n",
            "60000/60000 [==============================] - 15s 256us/step - loss: 0.0218 - acc: 0.9934\n",
            "Epoch 34/50\n",
            "60000/60000 [==============================] - 15s 256us/step - loss: 0.0208 - acc: 0.9936\n",
            "Epoch 35/50\n",
            "60000/60000 [==============================] - 15s 255us/step - loss: 0.0202 - acc: 0.9937\n",
            "Epoch 36/50\n",
            "60000/60000 [==============================] - 16s 261us/step - loss: 0.0210 - acc: 0.9935\n",
            "Epoch 37/50\n",
            "60000/60000 [==============================] - 15s 254us/step - loss: 0.0188 - acc: 0.9942\n",
            "Epoch 38/50\n",
            "60000/60000 [==============================] - 15s 254us/step - loss: 0.0176 - acc: 0.9946\n",
            "Epoch 39/50\n",
            "60000/60000 [==============================] - 15s 253us/step - loss: 0.0179 - acc: 0.9945\n",
            "Epoch 40/50\n",
            "60000/60000 [==============================] - 15s 254us/step - loss: 0.0172 - acc: 0.9946\n",
            "Epoch 41/50\n",
            "60000/60000 [==============================] - 15s 256us/step - loss: 0.0171 - acc: 0.9945\n",
            "Epoch 42/50\n",
            "60000/60000 [==============================] - 15s 256us/step - loss: 0.0160 - acc: 0.9949\n",
            "Epoch 43/50\n",
            "60000/60000 [==============================] - 15s 253us/step - loss: 0.0154 - acc: 0.9955\n",
            "Epoch 44/50\n",
            "60000/60000 [==============================] - 15s 254us/step - loss: 0.0151 - acc: 0.9952\n",
            "Epoch 45/50\n",
            "60000/60000 [==============================] - 15s 254us/step - loss: 0.0142 - acc: 0.9954\n",
            "Epoch 46/50\n",
            "60000/60000 [==============================] - 15s 255us/step - loss: 0.0142 - acc: 0.9955\n",
            "Epoch 47/50\n",
            "60000/60000 [==============================] - 15s 258us/step - loss: 0.0143 - acc: 0.9956\n",
            "Epoch 48/50\n",
            "60000/60000 [==============================] - 15s 254us/step - loss: 0.0128 - acc: 0.9961\n",
            "Epoch 49/50\n",
            "60000/60000 [==============================] - 15s 254us/step - loss: 0.0131 - acc: 0.9956\n",
            "Epoch 50/50\n",
            "60000/60000 [==============================] - 15s 256us/step - loss: 0.0114 - acc: 0.9965\n",
            "Best: 0.989550 using {'act': 'relu', 'drop': 0.5, 'epochs': 50, 'lr': 0.0001}\n",
            "0.984033 (0.000433) with: {'act': None, 'drop': 0.5, 'epochs': 50, 'lr': 0.0001}\n",
            "0.988717 (0.000417) with: {'act': 'tanh', 'drop': 0.5, 'epochs': 50, 'lr': 0.0001}\n",
            "0.978800 (0.000933) with: {'act': 'sigmoid', 'drop': 0.5, 'epochs': 50, 'lr': 0.0001}\n",
            "0.989550 (0.000017) with: {'act': 'relu', 'drop': 0.5, 'epochs': 50, 'lr': 0.0001}\n"
          ],
          "name": "stdout"
        }
      ]
    },
    {
      "cell_type": "code",
      "metadata": {
        "id": "SAXwHNrSzRlJ",
        "colab_type": "code",
        "colab": {}
      },
      "source": [
        "pickle.dump(grid_result2,open('actgrid.pkl','wb'))\n",
        "!cp actgrid.pkl drive/My\\ Drive"
      ],
      "execution_count": 0,
      "outputs": []
    },
    {
      "cell_type": "code",
      "metadata": {
        "id": "H2jO82cP3-RJ",
        "colab_type": "code",
        "colab": {}
      },
      "source": [
        "scores = pd.DataFrame(grid_result2.cv_results_).sort_values(by='mean_test_score', ascending = False)[[\"param_act\",\"mean_test_score\"]]\n",
        "scores[\"param_act\"] = scores[\"param_act\"].map(lambda x: str(x) if x else \"Linear\")"
      ],
      "execution_count": 0,
      "outputs": []
    },
    {
      "cell_type": "code",
      "metadata": {
        "id": "g9fPP1Gf5gT9",
        "colab_type": "code",
        "colab": {
          "base_uri": "https://localhost:8080/",
          "height": 302
        },
        "outputId": "37480bd3-7445-4755-fdc9-278992969885"
      },
      "source": [
        "sns.barplot(x=\"param_act\",y=\"mean_test_score\",data=scores)\n",
        "plt.ylim(0.97, 1.0)"
      ],
      "execution_count": 115,
      "outputs": [
        {
          "output_type": "execute_result",
          "data": {
            "text/plain": [
              "(0.97, 1.0)"
            ]
          },
          "metadata": {
            "tags": []
          },
          "execution_count": 115
        },
        {
          "output_type": "display_data",
          "data": {
            "image/png": "[encoded data removed]",
            "text/plain": [
              "<Figure size 432x288 with 1 Axes>"
            ]
          },
          "metadata": {
            "tags": []
          }
        }
      ]
    },
    {
      "cell_type": "code",
      "metadata": {
        "id": "zeQKWKFdvKK0",
        "colab_type": "code",
        "colab": {
          "base_uri": "https://localhost:8080/",
          "height": 1000
        },
        "outputId": "29aa4012-8c88-4c06-f3d9-52f3833dc33b"
      },
      "source": [
        "lr=0.0001 #learning rate for adam optimizer\n",
        "epoch=50 #number of epochs to train\n",
        "drop=0.5 #dropout\n",
        "for act in [None,\"relu\",\"sigmoid\",\"tanh\"]:\n",
        "  model = KerasClassifier(build_fn=create_model, epochs=epoch, act=act, lr=lr,drop=drop)\n",
        "  history = model.fit(trainX,trainY, verbose=True, validation_data=(valX,valY))\n",
        "  \n",
        "  #Print Learning Curves\n",
        "  plt.figure(figsize=(8,8))\n",
        "  plt.plot(history.history['acc'], label='accuracy')\n",
        "  plt.plot(history.history['val_acc'], label = 'val_accuracy')\n",
        "  plt.xlabel('Epoch')\n",
        "  plt.ylabel('Accuracy')\n",
        "  plt.legend(loc='lower right')\n",
        "  plt.show()\n",
        "  \n",
        "  \n",
        "  #Print Learning Curves\n",
        "  plt.figure(figsize=(8,8))\n",
        "  plt.plot(history.history['loss'], label='loss')\n",
        "  plt.plot(history.history['val_loss'], label = 'val_loss')\n",
        "  plt.xlabel('Epoch')\n",
        "  plt.ylabel('Loss')\n",
        "  plt.legend(loc='upper right')\n",
        "  plt.show()\n",
        "  "
      ],
      "execution_count": 127,
      "outputs": [
        {
          "output_type": "stream",
          "text": [
            "Train on 48000 samples, validate on 12000 samples\n",
            "Epoch 1/50\n",
            "48000/48000 [==============================] - 15s 314us/step - loss: 0.5753 - acc: 0.8307 - val_loss: 0.2041 - val_acc: 0.9380\n",
            "Epoch 2/50\n",
            "48000/48000 [==============================] - 14s 283us/step - loss: 0.2147 - acc: 0.9367 - val_loss: 0.1241 - val_acc: 0.9641\n",
            "Epoch 3/50\n",
            "48000/48000 [==============================] - 13s 279us/step - loss: 0.1547 - acc: 0.9548 - val_loss: 0.0912 - val_acc: 0.9722\n",
            "Epoch 4/50\n",
            "48000/48000 [==============================] - 13s 278us/step - loss: 0.1270 - acc: 0.9629 - val_loss: 0.0796 - val_acc: 0.9750\n",
            "Epoch 5/50\n",
            "48000/48000 [==============================] - 13s 279us/step - loss: 0.1100 - acc: 0.9676 - val_loss: 0.0693 - val_acc: 0.9780\n",
            "Epoch 6/50\n",
            "48000/48000 [==============================] - 13s 279us/step - loss: 0.0963 - acc: 0.9711 - val_loss: 0.0685 - val_acc: 0.9791\n",
            "Epoch 7/50\n",
            "48000/48000 [==============================] - 13s 280us/step - loss: 0.0903 - acc: 0.9731 - val_loss: 0.0632 - val_acc: 0.9806\n",
            "Epoch 8/50\n",
            "48000/48000 [==============================] - 14s 285us/step - loss: 0.0827 - acc: 0.9751 - val_loss: 0.0603 - val_acc: 0.9823\n",
            "Epoch 9/50\n",
            "48000/48000 [==============================] - 14s 287us/step - loss: 0.0780 - acc: 0.9760 - val_loss: 0.0568 - val_acc: 0.9823\n",
            "Epoch 10/50\n",
            "48000/48000 [==============================] - 14s 281us/step - loss: 0.0732 - acc: 0.9784 - val_loss: 0.0531 - val_acc: 0.9832\n",
            "Epoch 11/50\n",
            "48000/48000 [==============================] - 14s 285us/step - loss: 0.0694 - acc: 0.9790 - val_loss: 0.0544 - val_acc: 0.9830\n",
            "Epoch 12/50\n",
            "48000/48000 [==============================] - 13s 280us/step - loss: 0.0645 - acc: 0.9802 - val_loss: 0.0523 - val_acc: 0.9845\n",
            "Epoch 13/50\n",
            "48000/48000 [==============================] - 13s 281us/step - loss: 0.0605 - acc: 0.9821 - val_loss: 0.0557 - val_acc: 0.9837\n",
            "Epoch 14/50\n",
            "48000/48000 [==============================] - 13s 280us/step - loss: 0.0586 - acc: 0.9821 - val_loss: 0.0510 - val_acc: 0.9851\n",
            "Epoch 15/50\n",
            "48000/48000 [==============================] - 13s 278us/step - loss: 0.0579 - acc: 0.9824 - val_loss: 0.0513 - val_acc: 0.9852\n",
            "Epoch 16/50\n",
            "48000/48000 [==============================] - 13s 278us/step - loss: 0.0540 - acc: 0.9840 - val_loss: 0.0503 - val_acc: 0.9851\n",
            "Epoch 17/50\n",
            "48000/48000 [==============================] - 13s 277us/step - loss: 0.0512 - acc: 0.9847 - val_loss: 0.0479 - val_acc: 0.9858\n",
            "Epoch 18/50\n",
            "48000/48000 [==============================] - 13s 277us/step - loss: 0.0509 - acc: 0.9847 - val_loss: 0.0503 - val_acc: 0.9847\n",
            "Epoch 19/50\n",
            "48000/48000 [==============================] - 13s 275us/step - loss: 0.0471 - acc: 0.9855 - val_loss: 0.0489 - val_acc: 0.9858\n",
            "Epoch 20/50\n",
            "48000/48000 [==============================] - 13s 276us/step - loss: 0.0443 - acc: 0.9863 - val_loss: 0.0484 - val_acc: 0.9863\n",
            "Epoch 21/50\n",
            "48000/48000 [==============================] - 13s 277us/step - loss: 0.0451 - acc: 0.9859 - val_loss: 0.0513 - val_acc: 0.9852\n",
            "Epoch 22/50\n",
            "48000/48000 [==============================] - 13s 278us/step - loss: 0.0422 - acc: 0.9866 - val_loss: 0.0486 - val_acc: 0.9863\n",
            "Epoch 23/50\n",
            "48000/48000 [==============================] - 14s 281us/step - loss: 0.0407 - acc: 0.9864 - val_loss: 0.0475 - val_acc: 0.9861\n",
            "Epoch 24/50\n",
            "48000/48000 [==============================] - 14s 285us/step - loss: 0.0407 - acc: 0.9874 - val_loss: 0.0487 - val_acc: 0.9855\n",
            "Epoch 25/50\n",
            "48000/48000 [==============================] - 13s 281us/step - loss: 0.0385 - acc: 0.9882 - val_loss: 0.0468 - val_acc: 0.9865\n",
            "Epoch 26/50\n",
            "48000/48000 [==============================] - 14s 282us/step - loss: 0.0380 - acc: 0.9876 - val_loss: 0.0474 - val_acc: 0.9861\n",
            "Epoch 27/50\n",
            "48000/48000 [==============================] - 14s 281us/step - loss: 0.0356 - acc: 0.9890 - val_loss: 0.0456 - val_acc: 0.9863\n",
            "Epoch 28/50\n",
            "48000/48000 [==============================] - 13s 280us/step - loss: 0.0344 - acc: 0.9895 - val_loss: 0.0449 - val_acc: 0.9855\n",
            "Epoch 29/50\n",
            "48000/48000 [==============================] - 14s 281us/step - loss: 0.0344 - acc: 0.9888 - val_loss: 0.0484 - val_acc: 0.9857\n",
            "Epoch 30/50\n",
            "48000/48000 [==============================] - 13s 281us/step - loss: 0.0326 - acc: 0.9897 - val_loss: 0.0475 - val_acc: 0.9862\n",
            "Epoch 31/50\n",
            "48000/48000 [==============================] - 13s 277us/step - loss: 0.0310 - acc: 0.9900 - val_loss: 0.0484 - val_acc: 0.9859\n",
            "Epoch 32/50\n",
            "48000/48000 [==============================] - 14s 288us/step - loss: 0.0297 - acc: 0.9906 - val_loss: 0.0459 - val_acc: 0.9873\n",
            "Epoch 33/50\n",
            "48000/48000 [==============================] - 13s 281us/step - loss: 0.0287 - acc: 0.9908 - val_loss: 0.0495 - val_acc: 0.9863\n",
            "Epoch 34/50\n",
            "48000/48000 [==============================] - 13s 281us/step - loss: 0.0271 - acc: 0.9913 - val_loss: 0.0500 - val_acc: 0.9862\n",
            "Epoch 35/50\n",
            "48000/48000 [==============================] - 13s 280us/step - loss: 0.0277 - acc: 0.9909 - val_loss: 0.0465 - val_acc: 0.9868\n",
            "Epoch 36/50\n",
            "48000/48000 [==============================] - 13s 280us/step - loss: 0.0261 - acc: 0.9918 - val_loss: 0.0473 - val_acc: 0.9854\n",
            "Epoch 37/50\n",
            "48000/48000 [==============================] - 13s 280us/step - loss: 0.0247 - acc: 0.9920 - val_loss: 0.0486 - val_acc: 0.9862\n",
            "Epoch 38/50\n",
            "48000/48000 [==============================] - 13s 280us/step - loss: 0.0241 - acc: 0.9925 - val_loss: 0.0470 - val_acc: 0.9876\n",
            "Epoch 39/50\n",
            "48000/48000 [==============================] - 13s 279us/step - loss: 0.0221 - acc: 0.9931 - val_loss: 0.0490 - val_acc: 0.9860\n",
            "Epoch 40/50\n",
            "48000/48000 [==============================] - 13s 278us/step - loss: 0.0226 - acc: 0.9926 - val_loss: 0.0487 - val_acc: 0.9869\n",
            "Epoch 41/50\n",
            "48000/48000 [==============================] - 13s 280us/step - loss: 0.0213 - acc: 0.9933 - val_loss: 0.0482 - val_acc: 0.9862\n",
            "Epoch 42/50\n",
            "48000/48000 [==============================] - 13s 278us/step - loss: 0.0214 - acc: 0.9935 - val_loss: 0.0523 - val_acc: 0.9860\n",
            "Epoch 43/50\n",
            "48000/48000 [==============================] - 13s 280us/step - loss: 0.0205 - acc: 0.9934 - val_loss: 0.0514 - val_acc: 0.9862\n",
            "Epoch 44/50\n",
            "48000/48000 [==============================] - 13s 278us/step - loss: 0.0201 - acc: 0.9933 - val_loss: 0.0474 - val_acc: 0.9880\n",
            "Epoch 45/50\n",
            "48000/48000 [==============================] - 13s 277us/step - loss: 0.0203 - acc: 0.9936 - val_loss: 0.0500 - val_acc: 0.9867\n",
            "Epoch 46/50\n",
            "48000/48000 [==============================] - 13s 277us/step - loss: 0.0190 - acc: 0.9933 - val_loss: 0.0509 - val_acc: 0.9868\n",
            "Epoch 47/50\n",
            "48000/48000 [==============================] - 13s 278us/step - loss: 0.0170 - acc: 0.9941 - val_loss: 0.0529 - val_acc: 0.9863\n",
            "Epoch 48/50\n",
            "48000/48000 [==============================] - 13s 276us/step - loss: 0.0178 - acc: 0.9942 - val_loss: 0.0488 - val_acc: 0.9872\n",
            "Epoch 49/50\n",
            "48000/48000 [==============================] - 13s 279us/step - loss: 0.0169 - acc: 0.9942 - val_loss: 0.0523 - val_acc: 0.9856\n",
            "Epoch 50/50\n",
            "48000/48000 [==============================] - 13s 278us/step - loss: 0.0159 - acc: 0.9943 - val_loss: 0.0522 - val_acc: 0.9869\n"
          ],
          "name": "stdout"
        },
        {
          "output_type": "display_data",
          "data": {
            "image/png": "[encoded data removed]",
            "text/plain": [
              "<Figure size 576x576 with 1 Axes>"
            ]
          },
          "metadata": {
            "tags": []
          }
        },
        {
          "output_type": "display_data",
          "data": {
            "image/png": "[encoded data removed]",
            "text/plain": [
              "<Figure size 576x576 with 1 Axes>"
            ]
          },
          "metadata": {
            "tags": []
          }
        },
        {
          "output_type": "stream",
          "text": [
            "Train on 48000 samples, validate on 12000 samples\n",
            "Epoch 1/50\n",
            "48000/48000 [==============================] - 15s 319us/step - loss: 0.7696 - acc: 0.7592 - val_loss: 0.1841 - val_acc: 0.9460\n",
            "Epoch 2/50\n",
            "48000/48000 [==============================] - 14s 285us/step - loss: 0.2801 - acc: 0.9182 - val_loss: 0.1209 - val_acc: 0.9643\n",
            "Epoch 3/50\n",
            "48000/48000 [==============================] - 14s 285us/step - loss: 0.2075 - acc: 0.9390 - val_loss: 0.0994 - val_acc: 0.9693\n",
            "Epoch 4/50\n",
            "48000/48000 [==============================] - 14s 285us/step - loss: 0.1682 - acc: 0.9517 - val_loss: 0.0874 - val_acc: 0.9742\n",
            "Epoch 5/50\n",
            "48000/48000 [==============================] - 14s 294us/step - loss: 0.1465 - acc: 0.9570 - val_loss: 0.0736 - val_acc: 0.9772\n",
            "Epoch 6/50\n",
            "48000/48000 [==============================] - 14s 286us/step - loss: 0.1275 - acc: 0.9637 - val_loss: 0.0663 - val_acc: 0.9797\n",
            "Epoch 7/50\n",
            "48000/48000 [==============================] - 14s 285us/step - loss: 0.1140 - acc: 0.9672 - val_loss: 0.0634 - val_acc: 0.9798\n",
            "Epoch 8/50\n",
            "48000/48000 [==============================] - 14s 285us/step - loss: 0.1042 - acc: 0.9698 - val_loss: 0.0570 - val_acc: 0.9815\n",
            "Epoch 9/50\n",
            "48000/48000 [==============================] - 14s 283us/step - loss: 0.0970 - acc: 0.9721 - val_loss: 0.0566 - val_acc: 0.9826\n",
            "Epoch 10/50\n",
            "48000/48000 [==============================] - 14s 284us/step - loss: 0.0887 - acc: 0.9749 - val_loss: 0.0533 - val_acc: 0.9828\n",
            "Epoch 11/50\n",
            "48000/48000 [==============================] - 14s 289us/step - loss: 0.0815 - acc: 0.9766 - val_loss: 0.0480 - val_acc: 0.9850\n",
            "Epoch 12/50\n",
            "48000/48000 [==============================] - 14s 286us/step - loss: 0.0763 - acc: 0.9780 - val_loss: 0.0486 - val_acc: 0.9857\n",
            "Epoch 13/50\n",
            "48000/48000 [==============================] - 14s 287us/step - loss: 0.0699 - acc: 0.9796 - val_loss: 0.0467 - val_acc: 0.9868\n",
            "Epoch 14/50\n",
            "48000/48000 [==============================] - 14s 288us/step - loss: 0.0665 - acc: 0.9806 - val_loss: 0.0432 - val_acc: 0.9879\n",
            "Epoch 15/50\n",
            "48000/48000 [==============================] - 14s 284us/step - loss: 0.0606 - acc: 0.9823 - val_loss: 0.0445 - val_acc: 0.9872\n",
            "Epoch 16/50\n",
            "48000/48000 [==============================] - 14s 286us/step - loss: 0.0579 - acc: 0.9829 - val_loss: 0.0423 - val_acc: 0.9871\n",
            "Epoch 17/50\n",
            "48000/48000 [==============================] - 14s 286us/step - loss: 0.0531 - acc: 0.9846 - val_loss: 0.0459 - val_acc: 0.9872\n",
            "Epoch 18/50\n",
            "48000/48000 [==============================] - 14s 285us/step - loss: 0.0523 - acc: 0.9856 - val_loss: 0.0405 - val_acc: 0.9887\n",
            "Epoch 19/50\n",
            "48000/48000 [==============================] - 14s 289us/step - loss: 0.0504 - acc: 0.9844 - val_loss: 0.0418 - val_acc: 0.9879\n",
            "Epoch 20/50\n",
            "48000/48000 [==============================] - 14s 285us/step - loss: 0.0499 - acc: 0.9852 - val_loss: 0.0419 - val_acc: 0.9876\n",
            "Epoch 21/50\n",
            "48000/48000 [==============================] - 14s 286us/step - loss: 0.0441 - acc: 0.9868 - val_loss: 0.0390 - val_acc: 0.9888\n",
            "Epoch 22/50\n",
            "48000/48000 [==============================] - 14s 285us/step - loss: 0.0409 - acc: 0.9879 - val_loss: 0.0369 - val_acc: 0.9895\n",
            "Epoch 23/50\n",
            "48000/48000 [==============================] - 14s 285us/step - loss: 0.0427 - acc: 0.9876 - val_loss: 0.0364 - val_acc: 0.9895\n",
            "Epoch 24/50\n",
            "48000/48000 [==============================] - 14s 286us/step - loss: 0.0389 - acc: 0.9886 - val_loss: 0.0424 - val_acc: 0.9891\n",
            "Epoch 25/50\n",
            "48000/48000 [==============================] - 14s 287us/step - loss: 0.0387 - acc: 0.9889 - val_loss: 0.0386 - val_acc: 0.9897\n",
            "Epoch 26/50\n",
            "48000/48000 [==============================] - 14s 285us/step - loss: 0.0369 - acc: 0.9893 - val_loss: 0.0415 - val_acc: 0.9895\n",
            "Epoch 27/50\n",
            "48000/48000 [==============================] - 14s 289us/step - loss: 0.0356 - acc: 0.9892 - val_loss: 0.0368 - val_acc: 0.9904\n",
            "Epoch 28/50\n",
            "48000/48000 [==============================] - 14s 295us/step - loss: 0.0339 - acc: 0.9895 - val_loss: 0.0371 - val_acc: 0.9908\n",
            "Epoch 29/50\n",
            "48000/48000 [==============================] - 14s 290us/step - loss: 0.0329 - acc: 0.9898 - val_loss: 0.0386 - val_acc: 0.9902\n",
            "Epoch 30/50\n",
            "48000/48000 [==============================] - 14s 289us/step - loss: 0.0306 - acc: 0.9901 - val_loss: 0.0424 - val_acc: 0.9900\n",
            "Epoch 31/50\n",
            "48000/48000 [==============================] - 14s 290us/step - loss: 0.0318 - acc: 0.9905 - val_loss: 0.0364 - val_acc: 0.9908\n",
            "Epoch 32/50\n",
            "48000/48000 [==============================] - 14s 284us/step - loss: 0.0275 - acc: 0.9919 - val_loss: 0.0405 - val_acc: 0.9898\n",
            "Epoch 33/50\n",
            "48000/48000 [==============================] - 14s 287us/step - loss: 0.0276 - acc: 0.9913 - val_loss: 0.0382 - val_acc: 0.9904\n",
            "Epoch 34/50\n",
            "48000/48000 [==============================] - 14s 285us/step - loss: 0.0252 - acc: 0.9919 - val_loss: 0.0402 - val_acc: 0.9902\n",
            "Epoch 35/50\n",
            "48000/48000 [==============================] - 14s 286us/step - loss: 0.0258 - acc: 0.9917 - val_loss: 0.0387 - val_acc: 0.9905\n",
            "Epoch 36/50\n",
            "48000/48000 [==============================] - 14s 288us/step - loss: 0.0234 - acc: 0.9930 - val_loss: 0.0408 - val_acc: 0.9902\n",
            "Epoch 37/50\n",
            "48000/48000 [==============================] - 14s 290us/step - loss: 0.0247 - acc: 0.9927 - val_loss: 0.0399 - val_acc: 0.9906\n",
            "Epoch 38/50\n",
            "48000/48000 [==============================] - 14s 292us/step - loss: 0.0238 - acc: 0.9926 - val_loss: 0.0400 - val_acc: 0.9910\n",
            "Epoch 39/50\n",
            "48000/48000 [==============================] - 14s 289us/step - loss: 0.0222 - acc: 0.9927 - val_loss: 0.0403 - val_acc: 0.9903\n",
            "Epoch 40/50\n",
            "48000/48000 [==============================] - 14s 288us/step - loss: 0.0221 - acc: 0.9931 - val_loss: 0.0395 - val_acc: 0.9918\n",
            "Epoch 41/50\n",
            "48000/48000 [==============================] - 14s 292us/step - loss: 0.0208 - acc: 0.9932 - val_loss: 0.0381 - val_acc: 0.9914\n",
            "Epoch 42/50\n",
            "48000/48000 [==============================] - 14s 287us/step - loss: 0.0219 - acc: 0.9930 - val_loss: 0.0412 - val_acc: 0.9912\n",
            "Epoch 43/50\n",
            "48000/48000 [==============================] - 14s 285us/step - loss: 0.0204 - acc: 0.9938 - val_loss: 0.0380 - val_acc: 0.9910\n",
            "Epoch 44/50\n",
            "48000/48000 [==============================] - 14s 285us/step - loss: 0.0189 - acc: 0.9943 - val_loss: 0.0389 - val_acc: 0.9916\n",
            "Epoch 45/50\n",
            "48000/48000 [==============================] - 14s 286us/step - loss: 0.0203 - acc: 0.9938 - val_loss: 0.0380 - val_acc: 0.9918\n",
            "Epoch 46/50\n",
            "48000/48000 [==============================] - 14s 284us/step - loss: 0.0182 - acc: 0.9941 - val_loss: 0.0383 - val_acc: 0.9917\n",
            "Epoch 47/50\n",
            "48000/48000 [==============================] - 14s 286us/step - loss: 0.0169 - acc: 0.9943 - val_loss: 0.0415 - val_acc: 0.9919\n",
            "Epoch 48/50\n",
            "48000/48000 [==============================] - 14s 285us/step - loss: 0.0179 - acc: 0.9945 - val_loss: 0.0408 - val_acc: 0.9910\n",
            "Epoch 49/50\n",
            "48000/48000 [==============================] - 14s 284us/step - loss: 0.0180 - acc: 0.9941 - val_loss: 0.0388 - val_acc: 0.9912\n",
            "Epoch 50/50\n",
            "48000/48000 [==============================] - 14s 293us/step - loss: 0.0160 - acc: 0.9947 - val_loss: 0.0413 - val_acc: 0.9910\n"
          ],
          "name": "stdout"
        },
        {
          "output_type": "display_data",
          "data": {
            "image/png": "[encoded data removed]",
            "text/plain": [
              "<Figure size 576x576 with 1 Axes>"
            ]
          },
          "metadata": {
            "tags": []
          }
        },
        {
          "output_type": "display_data",
          "data": {
            "image/png": "[encoded data removed]",
            "text/plain": [
              "<Figure size 576x576 with 1 Axes>"
            ]
          },
          "metadata": {
            "tags": []
          }
        },
        {
          "output_type": "stream",
          "text": [
            "Train on 48000 samples, validate on 12000 samples\n",
            "Epoch 1/50\n",
            "48000/48000 [==============================] - 15s 322us/step - loss: 2.3186 - acc: 0.1054 - val_loss: 2.3018 - val_acc: 0.1122\n",
            "Epoch 2/50\n",
            "48000/48000 [==============================] - 14s 287us/step - loss: 2.3019 - acc: 0.1113 - val_loss: 2.3021 - val_acc: 0.1122\n",
            "Epoch 3/50\n",
            "48000/48000 [==============================] - 14s 287us/step - loss: 2.3015 - acc: 0.1118 - val_loss: 2.3008 - val_acc: 0.1122\n",
            "Epoch 4/50\n",
            "48000/48000 [==============================] - 14s 288us/step - loss: 1.6107 - acc: 0.4470 - val_loss: 0.8131 - val_acc: 0.8156\n",
            "Epoch 5/50\n",
            "48000/48000 [==============================] - 14s 285us/step - loss: 0.8149 - acc: 0.7651 - val_loss: 0.5449 - val_acc: 0.8681\n",
            "Epoch 6/50\n",
            "48000/48000 [==============================] - 14s 286us/step - loss: 0.6143 - acc: 0.8301 - val_loss: 0.4044 - val_acc: 0.8979\n",
            "Epoch 7/50\n",
            "48000/48000 [==============================] - 14s 285us/step - loss: 0.4979 - acc: 0.8632 - val_loss: 0.3197 - val_acc: 0.9183\n",
            "Epoch 8/50\n",
            "48000/48000 [==============================] - 14s 286us/step - loss: 0.4166 - acc: 0.8876 - val_loss: 0.2608 - val_acc: 0.9316\n",
            "Epoch 9/50\n",
            "48000/48000 [==============================] - 14s 286us/step - loss: 0.3570 - acc: 0.9035 - val_loss: 0.2209 - val_acc: 0.9403\n",
            "Epoch 10/50\n",
            "48000/48000 [==============================] - 14s 285us/step - loss: 0.3111 - acc: 0.9168 - val_loss: 0.1893 - val_acc: 0.9479\n",
            "Epoch 11/50\n",
            "48000/48000 [==============================] - 14s 285us/step - loss: 0.2818 - acc: 0.9245 - val_loss: 0.1706 - val_acc: 0.9519\n",
            "Epoch 12/50\n",
            "48000/48000 [==============================] - 14s 282us/step - loss: 0.2543 - acc: 0.9308 - val_loss: 0.1521 - val_acc: 0.9565\n",
            "Epoch 13/50\n",
            "48000/48000 [==============================] - 14s 289us/step - loss: 0.2313 - acc: 0.9384 - val_loss: 0.1394 - val_acc: 0.9594\n",
            "Epoch 14/50\n",
            "48000/48000 [==============================] - 14s 286us/step - loss: 0.2156 - acc: 0.9405 - val_loss: 0.1300 - val_acc: 0.9610\n",
            "Epoch 15/50\n",
            "48000/48000 [==============================] - 14s 287us/step - loss: 0.2007 - acc: 0.9456 - val_loss: 0.1207 - val_acc: 0.9642\n",
            "Epoch 16/50\n",
            "48000/48000 [==============================] - 14s 285us/step - loss: 0.1882 - acc: 0.9488 - val_loss: 0.1164 - val_acc: 0.9653\n",
            "Epoch 17/50\n",
            "48000/48000 [==============================] - 14s 286us/step - loss: 0.1806 - acc: 0.9503 - val_loss: 0.1067 - val_acc: 0.9683\n",
            "Epoch 18/50\n",
            "48000/48000 [==============================] - 14s 286us/step - loss: 0.1669 - acc: 0.9544 - val_loss: 0.1009 - val_acc: 0.9698\n",
            "Epoch 19/50\n",
            "48000/48000 [==============================] - 14s 286us/step - loss: 0.1601 - acc: 0.9554 - val_loss: 0.0966 - val_acc: 0.9713\n",
            "Epoch 20/50\n",
            "48000/48000 [==============================] - 14s 286us/step - loss: 0.1516 - acc: 0.9592 - val_loss: 0.0927 - val_acc: 0.9721\n",
            "Epoch 21/50\n",
            "48000/48000 [==============================] - 14s 286us/step - loss: 0.1465 - acc: 0.9595 - val_loss: 0.0902 - val_acc: 0.9734\n",
            "Epoch 22/50\n",
            "48000/48000 [==============================] - 14s 291us/step - loss: 0.1409 - acc: 0.9615 - val_loss: 0.0863 - val_acc: 0.9742\n",
            "Epoch 23/50\n",
            "48000/48000 [==============================] - 14s 288us/step - loss: 0.1349 - acc: 0.9637 - val_loss: 0.0821 - val_acc: 0.9748\n",
            "Epoch 24/50\n",
            "48000/48000 [==============================] - 14s 288us/step - loss: 0.1320 - acc: 0.9643 - val_loss: 0.0855 - val_acc: 0.9738\n",
            "Epoch 25/50\n",
            "48000/48000 [==============================] - 14s 286us/step - loss: 0.1262 - acc: 0.9664 - val_loss: 0.0778 - val_acc: 0.9756\n",
            "Epoch 26/50\n",
            "48000/48000 [==============================] - 14s 289us/step - loss: 0.1193 - acc: 0.9678 - val_loss: 0.0778 - val_acc: 0.9758\n",
            "Epoch 27/50\n",
            "48000/48000 [==============================] - 14s 290us/step - loss: 0.1181 - acc: 0.9669 - val_loss: 0.0736 - val_acc: 0.9772\n",
            "Epoch 28/50\n",
            "48000/48000 [==============================] - 14s 290us/step - loss: 0.1123 - acc: 0.9678 - val_loss: 0.0723 - val_acc: 0.9774\n",
            "Epoch 29/50\n",
            "48000/48000 [==============================] - 14s 288us/step - loss: 0.1127 - acc: 0.9688 - val_loss: 0.0719 - val_acc: 0.9775\n",
            "Epoch 30/50\n",
            "48000/48000 [==============================] - 14s 287us/step - loss: 0.1093 - acc: 0.9692 - val_loss: 0.0696 - val_acc: 0.9789\n",
            "Epoch 31/50\n",
            "48000/48000 [==============================] - 14s 287us/step - loss: 0.1060 - acc: 0.9711 - val_loss: 0.0674 - val_acc: 0.9796\n",
            "Epoch 32/50\n",
            "48000/48000 [==============================] - 14s 284us/step - loss: 0.1026 - acc: 0.9718 - val_loss: 0.0687 - val_acc: 0.9788\n",
            "Epoch 33/50\n",
            "48000/48000 [==============================] - 14s 286us/step - loss: 0.0988 - acc: 0.9721 - val_loss: 0.0669 - val_acc: 0.9790\n",
            "Epoch 34/50\n",
            "48000/48000 [==============================] - 14s 283us/step - loss: 0.0967 - acc: 0.9731 - val_loss: 0.0651 - val_acc: 0.9790\n",
            "Epoch 35/50\n",
            "48000/48000 [==============================] - 14s 287us/step - loss: 0.0944 - acc: 0.9731 - val_loss: 0.0634 - val_acc: 0.9800\n",
            "Epoch 36/50\n",
            "48000/48000 [==============================] - 14s 290us/step - loss: 0.0933 - acc: 0.9738 - val_loss: 0.0623 - val_acc: 0.9799\n",
            "Epoch 37/50\n",
            "48000/48000 [==============================] - 14s 286us/step - loss: 0.0911 - acc: 0.9753 - val_loss: 0.0618 - val_acc: 0.9807\n",
            "Epoch 38/50\n",
            "48000/48000 [==============================] - 14s 289us/step - loss: 0.0885 - acc: 0.9751 - val_loss: 0.0614 - val_acc: 0.9809\n",
            "Epoch 39/50\n",
            "48000/48000 [==============================] - 14s 286us/step - loss: 0.0894 - acc: 0.9744 - val_loss: 0.0594 - val_acc: 0.9818\n",
            "Epoch 40/50\n",
            "48000/48000 [==============================] - 14s 287us/step - loss: 0.0855 - acc: 0.9768 - val_loss: 0.0575 - val_acc: 0.9821\n",
            "Epoch 41/50\n",
            "48000/48000 [==============================] - 14s 285us/step - loss: 0.0816 - acc: 0.9773 - val_loss: 0.0625 - val_acc: 0.9802\n",
            "Epoch 42/50\n",
            "48000/48000 [==============================] - 14s 285us/step - loss: 0.0829 - acc: 0.9765 - val_loss: 0.0585 - val_acc: 0.9814\n",
            "Epoch 43/50\n",
            "48000/48000 [==============================] - 14s 283us/step - loss: 0.0797 - acc: 0.9779 - val_loss: 0.0571 - val_acc: 0.9823\n",
            "Epoch 44/50\n",
            "48000/48000 [==============================] - 14s 285us/step - loss: 0.0777 - acc: 0.9781 - val_loss: 0.0564 - val_acc: 0.9826\n",
            "Epoch 45/50\n",
            "48000/48000 [==============================] - 14s 292us/step - loss: 0.0770 - acc: 0.9776 - val_loss: 0.0550 - val_acc: 0.9833\n",
            "Epoch 46/50\n",
            "48000/48000 [==============================] - 14s 285us/step - loss: 0.0759 - acc: 0.9791 - val_loss: 0.0563 - val_acc: 0.9820\n",
            "Epoch 47/50\n",
            "48000/48000 [==============================] - 14s 284us/step - loss: 0.0736 - acc: 0.9786 - val_loss: 0.0542 - val_acc: 0.9835\n",
            "Epoch 48/50\n",
            "48000/48000 [==============================] - 14s 288us/step - loss: 0.0732 - acc: 0.9793 - val_loss: 0.0533 - val_acc: 0.9832\n",
            "Epoch 49/50\n",
            "48000/48000 [==============================] - 14s 284us/step - loss: 0.0724 - acc: 0.9796 - val_loss: 0.0529 - val_acc: 0.9834\n",
            "Epoch 50/50\n",
            "48000/48000 [==============================] - 14s 285us/step - loss: 0.0703 - acc: 0.9804 - val_loss: 0.0538 - val_acc: 0.9827\n"
          ],
          "name": "stdout"
        },
        {
          "output_type": "display_data",
          "data": {
            "image/png": "[encoded data removed]",
            "text/plain": [
              "<Figure size 576x576 with 1 Axes>"
            ]
          },
          "metadata": {
            "tags": []
          }
        },
        {
          "output_type": "display_data",
          "data": {
            "image/png": "[encoded data removed]",
            "text/plain": [
              "<Figure size 576x576 with 1 Axes>"
            ]
          },
          "metadata": {
            "tags": []
          }
        },
        {
          "output_type": "stream",
          "text": [
            "Train on 48000 samples, validate on 12000 samples\n",
            "Epoch 1/50\n",
            "48000/48000 [==============================] - 16s 324us/step - loss: 0.6029 - acc: 0.8369 - val_loss: 0.2008 - val_acc: 0.9479\n",
            "Epoch 2/50\n",
            "48000/48000 [==============================] - 14s 286us/step - loss: 0.2115 - acc: 0.9433 - val_loss: 0.1244 - val_acc: 0.9654\n",
            "Epoch 3/50\n",
            "48000/48000 [==============================] - 14s 283us/step - loss: 0.1449 - acc: 0.9601 - val_loss: 0.0915 - val_acc: 0.9738\n",
            "Epoch 4/50\n",
            "48000/48000 [==============================] - 14s 286us/step - loss: 0.1163 - acc: 0.9679 - val_loss: 0.0755 - val_acc: 0.9775\n",
            "Epoch 5/50\n",
            "48000/48000 [==============================] - 14s 283us/step - loss: 0.0980 - acc: 0.9724 - val_loss: 0.0685 - val_acc: 0.9785\n",
            "Epoch 6/50\n",
            "48000/48000 [==============================] - 14s 286us/step - loss: 0.0860 - acc: 0.9762 - val_loss: 0.0606 - val_acc: 0.9820\n",
            "Epoch 7/50\n",
            "48000/48000 [==============================] - 14s 287us/step - loss: 0.0755 - acc: 0.9787 - val_loss: 0.0558 - val_acc: 0.9827\n",
            "Epoch 8/50\n",
            "48000/48000 [==============================] - 14s 288us/step - loss: 0.0684 - acc: 0.9811 - val_loss: 0.0520 - val_acc: 0.9842\n",
            "Epoch 9/50\n",
            "48000/48000 [==============================] - 14s 286us/step - loss: 0.0621 - acc: 0.9822 - val_loss: 0.0474 - val_acc: 0.9857\n",
            "Epoch 10/50\n",
            "48000/48000 [==============================] - 14s 284us/step - loss: 0.0590 - acc: 0.9831 - val_loss: 0.0453 - val_acc: 0.9855\n",
            "Epoch 11/50\n",
            "48000/48000 [==============================] - 14s 286us/step - loss: 0.0520 - acc: 0.9857 - val_loss: 0.0450 - val_acc: 0.9861\n",
            "Epoch 12/50\n",
            "48000/48000 [==============================] - 14s 285us/step - loss: 0.0499 - acc: 0.9855 - val_loss: 0.0438 - val_acc: 0.9861\n",
            "Epoch 13/50\n",
            "48000/48000 [==============================] - 14s 284us/step - loss: 0.0460 - acc: 0.9864 - val_loss: 0.0440 - val_acc: 0.9866\n",
            "Epoch 14/50\n",
            "48000/48000 [==============================] - 14s 285us/step - loss: 0.0421 - acc: 0.9876 - val_loss: 0.0431 - val_acc: 0.9877\n",
            "Epoch 15/50\n",
            "48000/48000 [==============================] - 14s 285us/step - loss: 0.0412 - acc: 0.9884 - val_loss: 0.0400 - val_acc: 0.9882\n",
            "Epoch 16/50\n",
            "48000/48000 [==============================] - 14s 283us/step - loss: 0.0371 - acc: 0.9894 - val_loss: 0.0399 - val_acc: 0.9880\n",
            "Epoch 17/50\n",
            "48000/48000 [==============================] - 14s 294us/step - loss: 0.0351 - acc: 0.9906 - val_loss: 0.0388 - val_acc: 0.9881\n",
            "Epoch 18/50\n",
            "48000/48000 [==============================] - 14s 297us/step - loss: 0.0340 - acc: 0.9899 - val_loss: 0.0394 - val_acc: 0.9878\n",
            "Epoch 19/50\n",
            "48000/48000 [==============================] - 14s 293us/step - loss: 0.0305 - acc: 0.9908 - val_loss: 0.0392 - val_acc: 0.9886\n",
            "Epoch 20/50\n",
            "48000/48000 [==============================] - 14s 293us/step - loss: 0.0291 - acc: 0.9916 - val_loss: 0.0383 - val_acc: 0.9890\n",
            "Epoch 21/50\n",
            "48000/48000 [==============================] - 14s 293us/step - loss: 0.0272 - acc: 0.9920 - val_loss: 0.0372 - val_acc: 0.9888\n",
            "Epoch 22/50\n",
            "48000/48000 [==============================] - 14s 290us/step - loss: 0.0262 - acc: 0.9921 - val_loss: 0.0375 - val_acc: 0.9887\n",
            "Epoch 23/50\n",
            "48000/48000 [==============================] - 14s 290us/step - loss: 0.0241 - acc: 0.9928 - val_loss: 0.0372 - val_acc: 0.9888\n",
            "Epoch 24/50\n",
            "48000/48000 [==============================] - 14s 291us/step - loss: 0.0227 - acc: 0.9934 - val_loss: 0.0368 - val_acc: 0.9895\n",
            "Epoch 25/50\n",
            "48000/48000 [==============================] - 14s 291us/step - loss: 0.0223 - acc: 0.9938 - val_loss: 0.0367 - val_acc: 0.9899\n",
            "Epoch 26/50\n",
            "48000/48000 [==============================] - 14s 291us/step - loss: 0.0211 - acc: 0.9934 - val_loss: 0.0395 - val_acc: 0.9887\n",
            "Epoch 27/50\n",
            "48000/48000 [==============================] - 14s 291us/step - loss: 0.0191 - acc: 0.9941 - val_loss: 0.0361 - val_acc: 0.9894\n",
            "Epoch 28/50\n",
            "48000/48000 [==============================] - 14s 293us/step - loss: 0.0185 - acc: 0.9946 - val_loss: 0.0366 - val_acc: 0.9897\n",
            "Epoch 29/50\n",
            "48000/48000 [==============================] - 14s 292us/step - loss: 0.0175 - acc: 0.9950 - val_loss: 0.0376 - val_acc: 0.9892\n",
            "Epoch 30/50\n",
            "48000/48000 [==============================] - 14s 294us/step - loss: 0.0169 - acc: 0.9952 - val_loss: 0.0391 - val_acc: 0.9891\n",
            "Epoch 31/50\n",
            "48000/48000 [==============================] - 14s 290us/step - loss: 0.0153 - acc: 0.9959 - val_loss: 0.0360 - val_acc: 0.9899\n",
            "Epoch 32/50\n",
            "48000/48000 [==============================] - 14s 291us/step - loss: 0.0149 - acc: 0.9957 - val_loss: 0.0380 - val_acc: 0.9892\n",
            "Epoch 33/50\n",
            "48000/48000 [==============================] - 14s 291us/step - loss: 0.0145 - acc: 0.9955 - val_loss: 0.0363 - val_acc: 0.9904\n",
            "Epoch 34/50\n",
            "48000/48000 [==============================] - 14s 285us/step - loss: 0.0125 - acc: 0.9965 - val_loss: 0.0347 - val_acc: 0.9910\n",
            "Epoch 35/50\n",
            "48000/48000 [==============================] - 14s 286us/step - loss: 0.0128 - acc: 0.9961 - val_loss: 0.0369 - val_acc: 0.9902\n",
            "Epoch 36/50\n",
            "48000/48000 [==============================] - 14s 285us/step - loss: 0.0112 - acc: 0.9969 - val_loss: 0.0353 - val_acc: 0.9908\n",
            "Epoch 37/50\n",
            "48000/48000 [==============================] - 14s 286us/step - loss: 0.0107 - acc: 0.9969 - val_loss: 0.0358 - val_acc: 0.9908\n",
            "Epoch 38/50\n",
            "48000/48000 [==============================] - 14s 285us/step - loss: 0.0108 - acc: 0.9971 - val_loss: 0.0355 - val_acc: 0.9910\n",
            "Epoch 39/50\n",
            "48000/48000 [==============================] - 14s 285us/step - loss: 0.0099 - acc: 0.9971 - val_loss: 0.0345 - val_acc: 0.9908\n",
            "Epoch 40/50\n",
            "48000/48000 [==============================] - 14s 293us/step - loss: 0.0100 - acc: 0.9971 - val_loss: 0.0362 - val_acc: 0.9907\n",
            "Epoch 41/50\n",
            "48000/48000 [==============================] - 14s 289us/step - loss: 0.0091 - acc: 0.9975 - val_loss: 0.0355 - val_acc: 0.9910\n",
            "Epoch 42/50\n",
            "48000/48000 [==============================] - 14s 285us/step - loss: 0.0092 - acc: 0.9974 - val_loss: 0.0370 - val_acc: 0.9906\n",
            "Epoch 43/50\n",
            "48000/48000 [==============================] - 14s 287us/step - loss: 0.0082 - acc: 0.9976 - val_loss: 0.0349 - val_acc: 0.9900\n",
            "Epoch 44/50\n",
            "48000/48000 [==============================] - 14s 285us/step - loss: 0.0075 - acc: 0.9978 - val_loss: 0.0349 - val_acc: 0.9909\n",
            "Epoch 45/50\n",
            "48000/48000 [==============================] - 14s 285us/step - loss: 0.0072 - acc: 0.9981 - val_loss: 0.0359 - val_acc: 0.9904\n",
            "Epoch 46/50\n",
            "48000/48000 [==============================] - 14s 286us/step - loss: 0.0075 - acc: 0.9979 - val_loss: 0.0360 - val_acc: 0.9910\n",
            "Epoch 47/50\n",
            "48000/48000 [==============================] - 14s 284us/step - loss: 0.0065 - acc: 0.9983 - val_loss: 0.0350 - val_acc: 0.9907\n",
            "Epoch 48/50\n",
            "48000/48000 [==============================] - 14s 285us/step - loss: 0.0075 - acc: 0.9978 - val_loss: 0.0351 - val_acc: 0.9911\n",
            "Epoch 49/50\n",
            "48000/48000 [==============================] - 14s 283us/step - loss: 0.0061 - acc: 0.9981 - val_loss: 0.0388 - val_acc: 0.9908\n",
            "Epoch 50/50\n",
            "48000/48000 [==============================] - 14s 284us/step - loss: 0.0061 - acc: 0.9982 - val_loss: 0.0377 - val_acc: 0.9909\n"
          ],
          "name": "stdout"
        },
        {
          "output_type": "display_data",
          "data": {
            "image/png": "[encoded data removed]",
            "text/plain": [
              "<Figure size 576x576 with 1 Axes>"
            ]
          },
          "metadata": {
            "tags": []
          }
        },
        {
          "output_type": "display_data",
          "data": {
            "image/png": "[encoded data removed]",
            "text/plain": [
              "<Figure size 576x576 with 1 Axes>"
            ]
          },
          "metadata": {
            "tags": []
          }
        }
      ]
    },
    {
      "cell_type": "markdown",
      "metadata": {
        "id": "MCS_DGieRuau",
        "colab_type": "text"
      },
      "source": [
        "# Final Model on Train+Validation and Best Parameters"
      ]
    },
    {
      "cell_type": "code",
      "metadata": {
        "id": "3DpuomluujC1",
        "colab_type": "code",
        "colab": {}
      },
      "source": [
        "#best parameters\n",
        "act=\"relu\" #activation\n",
        "lr=0.0001 #learning rate for adam optimizer\n",
        "epoch=50 #number of epochs to train\n",
        "drop=0.5 #dropout"
      ],
      "execution_count": 0,
      "outputs": []
    },
    {
      "cell_type": "code",
      "metadata": {
        "id": "z7NMVW4Quodf",
        "colab_type": "code",
        "colab": {}
      },
      "source": [
        "model = KerasClassifier(build_fn=create_model, epochs=epoch, act=act, lr=lr,drop=drop)"
      ],
      "execution_count": 0,
      "outputs": []
    },
    {
      "cell_type": "code",
      "metadata": {
        "colab_type": "code",
        "outputId": "c30416c6-d885-4e94-b84d-a1eb6e87199f",
        "id": "XxpD73qLRwa8",
        "colab": {
          "base_uri": "https://localhost:8080/",
          "height": 1000
        }
      },
      "source": [
        "history = model.fit(X,y, verbose=True)"
      ],
      "execution_count": 130,
      "outputs": [
        {
          "output_type": "stream",
          "text": [
            "Epoch 1/50\n",
            "60000/60000 [==============================] - 18s 293us/step - loss: 0.6463 - acc: 0.8026\n",
            "Epoch 2/50\n",
            "60000/60000 [==============================] - 16s 264us/step - loss: 0.2216 - acc: 0.9349\n",
            "Epoch 3/50\n",
            "60000/60000 [==============================] - 16s 270us/step - loss: 0.1612 - acc: 0.9532\n",
            "Epoch 4/50\n",
            "60000/60000 [==============================] - 16s 268us/step - loss: 0.1315 - acc: 0.9624\n",
            "Epoch 5/50\n",
            "60000/60000 [==============================] - 16s 266us/step - loss: 0.1118 - acc: 0.9683\n",
            "Epoch 6/50\n",
            "60000/60000 [==============================] - 16s 266us/step - loss: 0.0957 - acc: 0.9726\n",
            "Epoch 7/50\n",
            "60000/60000 [==============================] - 16s 266us/step - loss: 0.0846 - acc: 0.9763\n",
            "Epoch 8/50\n",
            "60000/60000 [==============================] - 16s 264us/step - loss: 0.0792 - acc: 0.9777\n",
            "Epoch 9/50\n",
            "60000/60000 [==============================] - 16s 265us/step - loss: 0.0718 - acc: 0.9796\n",
            "Epoch 10/50\n",
            "60000/60000 [==============================] - 16s 269us/step - loss: 0.0672 - acc: 0.9811\n",
            "Epoch 11/50\n",
            "60000/60000 [==============================] - 16s 265us/step - loss: 0.0618 - acc: 0.9821\n",
            "Epoch 12/50\n",
            "60000/60000 [==============================] - 16s 267us/step - loss: 0.0581 - acc: 0.9834\n",
            "Epoch 13/50\n",
            "60000/60000 [==============================] - 16s 273us/step - loss: 0.0522 - acc: 0.9858\n",
            "Epoch 14/50\n",
            "60000/60000 [==============================] - 16s 269us/step - loss: 0.0501 - acc: 0.9853\n",
            "Epoch 15/50\n",
            "60000/60000 [==============================] - 16s 272us/step - loss: 0.0483 - acc: 0.9861\n",
            "Epoch 16/50\n",
            "60000/60000 [==============================] - 16s 268us/step - loss: 0.0451 - acc: 0.9867\n",
            "Epoch 17/50\n",
            "60000/60000 [==============================] - 16s 268us/step - loss: 0.0434 - acc: 0.9878\n",
            "Epoch 18/50\n",
            "60000/60000 [==============================] - 16s 270us/step - loss: 0.0406 - acc: 0.9882\n",
            "Epoch 19/50\n",
            "60000/60000 [==============================] - 16s 265us/step - loss: 0.0396 - acc: 0.9887\n",
            "Epoch 20/50\n",
            "60000/60000 [==============================] - 16s 270us/step - loss: 0.0368 - acc: 0.9892\n",
            "Epoch 21/50\n",
            "60000/60000 [==============================] - 16s 274us/step - loss: 0.0354 - acc: 0.9897\n",
            "Epoch 22/50\n",
            "60000/60000 [==============================] - 17s 276us/step - loss: 0.0329 - acc: 0.9902\n",
            "Epoch 23/50\n",
            "60000/60000 [==============================] - 16s 267us/step - loss: 0.0324 - acc: 0.9905\n",
            "Epoch 24/50\n",
            "60000/60000 [==============================] - 16s 265us/step - loss: 0.0306 - acc: 0.9912\n",
            "Epoch 25/50\n",
            "60000/60000 [==============================] - 16s 266us/step - loss: 0.0280 - acc: 0.9916\n",
            "Epoch 26/50\n",
            "60000/60000 [==============================] - 16s 265us/step - loss: 0.0267 - acc: 0.9922\n",
            "Epoch 27/50\n",
            "60000/60000 [==============================] - 16s 266us/step - loss: 0.0268 - acc: 0.9923\n",
            "Epoch 28/50\n",
            "60000/60000 [==============================] - 16s 265us/step - loss: 0.0242 - acc: 0.9922\n",
            "Epoch 29/50\n",
            "60000/60000 [==============================] - 16s 269us/step - loss: 0.0258 - acc: 0.9924\n",
            "Epoch 30/50\n",
            "60000/60000 [==============================] - 16s 268us/step - loss: 0.0237 - acc: 0.9923\n",
            "Epoch 31/50\n",
            "60000/60000 [==============================] - 16s 269us/step - loss: 0.0225 - acc: 0.9932\n",
            "Epoch 32/50\n",
            "60000/60000 [==============================] - 16s 273us/step - loss: 0.0223 - acc: 0.9933\n",
            "Epoch 33/50\n",
            "60000/60000 [==============================] - 16s 268us/step - loss: 0.0201 - acc: 0.9938\n",
            "Epoch 34/50\n",
            "60000/60000 [==============================] - 16s 268us/step - loss: 0.0206 - acc: 0.9938\n",
            "Epoch 35/50\n",
            "60000/60000 [==============================] - 16s 269us/step - loss: 0.0185 - acc: 0.9942\n",
            "Epoch 36/50\n",
            "60000/60000 [==============================] - 16s 267us/step - loss: 0.0189 - acc: 0.9944\n",
            "Epoch 37/50\n",
            "60000/60000 [==============================] - 16s 267us/step - loss: 0.0183 - acc: 0.9942\n",
            "Epoch 38/50\n",
            "60000/60000 [==============================] - 16s 268us/step - loss: 0.0178 - acc: 0.9944\n",
            "Epoch 39/50\n",
            "60000/60000 [==============================] - 16s 269us/step - loss: 0.0177 - acc: 0.9944\n",
            "Epoch 40/50\n",
            "60000/60000 [==============================] - 16s 267us/step - loss: 0.0155 - acc: 0.9953\n",
            "Epoch 41/50\n",
            "60000/60000 [==============================] - 16s 272us/step - loss: 0.0166 - acc: 0.9945\n",
            "Epoch 42/50\n",
            "60000/60000 [==============================] - 16s 269us/step - loss: 0.0157 - acc: 0.9950\n",
            "Epoch 43/50\n",
            "60000/60000 [==============================] - 16s 263us/step - loss: 0.0147 - acc: 0.9955\n",
            "Epoch 44/50\n",
            "60000/60000 [==============================] - 16s 263us/step - loss: 0.0141 - acc: 0.9955\n",
            "Epoch 45/50\n",
            "60000/60000 [==============================] - 16s 269us/step - loss: 0.0136 - acc: 0.9956\n",
            "Epoch 46/50\n",
            "60000/60000 [==============================] - 16s 271us/step - loss: 0.0134 - acc: 0.9955\n",
            "Epoch 47/50\n",
            "60000/60000 [==============================] - 17s 285us/step - loss: 0.0129 - acc: 0.9956\n",
            "Epoch 48/50\n",
            "60000/60000 [==============================] - 17s 283us/step - loss: 0.0119 - acc: 0.9962\n",
            "Epoch 49/50\n",
            "60000/60000 [==============================] - 17s 286us/step - loss: 0.0127 - acc: 0.9961\n",
            "Epoch 50/50\n",
            "60000/60000 [==============================] - 17s 285us/step - loss: 0.0117 - acc: 0.9962\n"
          ],
          "name": "stdout"
        }
      ]
    },
    {
      "cell_type": "code",
      "metadata": {
        "id": "8eWsP0pQOcga",
        "colab_type": "code",
        "colab": {
          "base_uri": "https://localhost:8080/",
          "height": 283
        },
        "outputId": "9e1e9056-173c-4fd2-dd49-882d6fce6a9b"
      },
      "source": [
        "#Print Learning Curves\n",
        "plt.plot(history.history['acc'], label='accuracy')\n",
        "plt.xlabel('Epoch')\n",
        "plt.ylabel('Accuracy')\n",
        "plt.legend(loc='lower right')\n",
        "plt.show()"
      ],
      "execution_count": 131,
      "outputs": [
        {
          "output_type": "display_data",
          "data": {
            "image/png": "[encoded data removed]",
            "text/plain": [
              "<Figure size 432x288 with 1 Axes>"
            ]
          },
          "metadata": {
            "tags": []
          }
        }
      ]
    },
    {
      "cell_type": "code",
      "metadata": {
        "id": "apKL0_VdOCom",
        "colab_type": "code",
        "colab": {
          "base_uri": "https://localhost:8080/",
          "height": 283
        },
        "outputId": "aae0364b-2e1e-4e80-fd01-0aca54454dbd"
      },
      "source": [
        "#Print Learning Curves\n",
        "plt.plot(history.history['loss'], label='loss')\n",
        "plt.xlabel('Epoch')\n",
        "plt.ylabel('Loss')\n",
        "plt.legend(loc='upper right')\n",
        "plt.show()"
      ],
      "execution_count": 132,
      "outputs": [
        {
          "output_type": "display_data",
          "data": {
            "image/png": "[encoded data removed]",
            "text/plain": [
              "<Figure size 432x288 with 1 Axes>"
            ]
          },
          "metadata": {
            "tags": []
          }
        }
      ]
    },
    {
      "cell_type": "code",
      "metadata": {
        "id": "PNc9S3akOsoy",
        "colab_type": "code",
        "colab": {}
      },
      "source": [
        "pred = pd.DataFrame(model.predict_proba(testX)).astype('int32')"
      ],
      "execution_count": 0,
      "outputs": []
    },
    {
      "cell_type": "code",
      "metadata": {
        "id": "V9xPZhj1Py2G",
        "colab_type": "code",
        "colab": {}
      },
      "source": [
        "pred.to_csv('mnist.csv',index=False, header=False)"
      ],
      "execution_count": 0,
      "outputs": []
    },
    {
      "cell_type": "code",
      "metadata": {
        "id": "eRUf7P0yQB66",
        "colab_type": "code",
        "colab": {}
      },
      "source": [
        "!cp mnist.csv drive/My\\ Drive"
      ],
      "execution_count": 0,
      "outputs": []
    },
    {
      "cell_type": "code",
      "metadata": {
        "id": "Pn-Wbv5heAg3",
        "colab_type": "code",
        "colab": {}
      },
      "source": [
        "files.download('mnist.csv')"
      ],
      "execution_count": 0,
      "outputs": []
    },
    {
      "cell_type": "code",
      "metadata": {
        "id": "A1ebGHswPXM3",
        "colab_type": "code",
        "colab": {}
      },
      "source": [
        "preds = model.predict(testX)"
      ],
      "execution_count": 0,
      "outputs": []
    },
    {
      "cell_type": "code",
      "metadata": {
        "id": "UaFP_A1rInim",
        "colab_type": "code",
        "colab": {
          "base_uri": "https://localhost:8080/",
          "height": 527
        },
        "outputId": "5ed1aae0-5782-456c-b180-e453d5de8017"
      },
      "source": [
        "def plot_confusion_matrix(y_true, y_pred, classes,\n",
        "                          normalize=False,\n",
        "                          title=None,\n",
        "                          cmap=plt.cm.Blues):\n",
        "    \"\"\"\n",
        "    This function prints and plots the confusion matrix.\n",
        "    Normalization can be applied by setting `normalize=True`.\n",
        "    \"\"\"\n",
        "    if not title:\n",
        "        if normalize:\n",
        "            title = 'Normalized confusion matrix'\n",
        "        else:\n",
        "            title = 'Confusion matrix, without normalization'\n",
        "\n",
        "    # Compute confusion matrix\n",
        "    cm = confusion_matrix(y_true, y_pred)\n",
        "    # Only use the labels that appear in the data\n",
        "    #classes = classes[unique_labels(y_true, y_pred)]\n",
        "    if normalize:\n",
        "        cm = cm.astype('float') / cm.sum(axis=1)[:, np.newaxis]\n",
        "        print(\"Normalized confusion matrix\")\n",
        "    else:\n",
        "        print('Confusion matrix, without normalization')\n",
        "\n",
        "    print(cm)\n",
        "\n",
        "    fig, ax = plt.subplots()\n",
        "    im = ax.imshow(cm, interpolation='nearest', cmap=cmap)\n",
        "    ax.figure.colorbar(im, ax=ax)\n",
        "    # We want to show all ticks...\n",
        "    ax.set(xticks=np.arange(cm.shape[1]),\n",
        "           yticks=np.arange(cm.shape[0]),\n",
        "           # ... and label them with the respective list entries\n",
        "           xticklabels=classes, yticklabels=classes,\n",
        "           title=title,\n",
        "           ylabel='True label',\n",
        "           xlabel='Predicted label')\n",
        "\n",
        "    # Rotate the tick labels and set their alignment.\n",
        "    plt.setp(ax.get_xticklabels(), rotation=45, ha=\"right\",\n",
        "             rotation_mode=\"anchor\")\n",
        "\n",
        "    # Loop over data dimensions and create text annotations.\n",
        "    fmt = '.2f' if normalize else 'd'\n",
        "    thresh = cm.max() / 2.\n",
        "    for i in range(cm.shape[0]):\n",
        "        for j in range(cm.shape[1]):\n",
        "            ax.text(j, i, format(cm[i, j], fmt),\n",
        "                    ha=\"center\", va=\"center\",\n",
        "                    color=\"white\" if cm[i, j] > thresh else \"black\")\n",
        "    fig.tight_layout()\n",
        "    return ax\n",
        "\n",
        "# Plot non-normalized confusion matrix\n",
        "plot_confusion_matrix(testY, preds, classes=[x for x in range(10)],\n",
        "                      title='Confusion matrix')"
      ],
      "execution_count": 150,
      "outputs": [
        {
          "output_type": "stream",
          "text": [
            "Confusion matrix, without normalization\n",
            "[[ 978    0    0    0    0    0    1    1    0    0]\n",
            " [   0 1129    1    1    0    0    1    0    3    0]\n",
            " [   1    0 1021    0    4    0    0    4    2    0]\n",
            " [   0    0    0 1004    0    5    0    0    1    0]\n",
            " [   0    0    0    0  979    0    0    0    0    3]\n",
            " [   2    0    0    2    0  884    1    1    1    1]\n",
            " [   2    1    0    0    1    1  953    0    0    0]\n",
            " [   0    3    4    0    1    0    0 1014    5    1]\n",
            " [   3    0    0    0    0    0    1    1  967    2]\n",
            " [   1    0    0    0   12    1    0    0   10  985]]\n"
          ],
          "name": "stdout"
        },
        {
          "output_type": "execute_result",
          "data": {
            "text/plain": [
              "<matplotlib.axes._subplots.AxesSubplot at 0x7f016b6612e8>"
            ]
          },
          "metadata": {
            "tags": []
          },
          "execution_count": 150
        },
        {
          "output_type": "display_data",
          "data": {
            "text/plain": [
              "<Figure size 864x864 with 0 Axes>"
            ]
          },
          "metadata": {
            "tags": []
          }
        },
        {
          "output_type": "display_data",
          "data": {
            "image/png": "[encoded data removed]",
            "text/plain": [
              "<Figure size 432x288 with 2 Axes>"
            ]
          },
          "metadata": {
            "tags": []
          }
        }
      ]
    },
    {
      "cell_type": "code",
      "metadata": {
        "id": "LK3dkHC6Jw7X",
        "colab_type": "code",
        "colab": {
          "base_uri": "https://localhost:8080/",
          "height": 34
        },
        "outputId": "e6f0ae9f-81f9-415a-f9a7-02a02252e17e"
      },
      "source": [
        "accuracy_score(testY,preds)"
      ],
      "execution_count": 152,
      "outputs": [
        {
          "output_type": "execute_result",
          "data": {
            "text/plain": [
              "0.9914"
            ]
          },
          "metadata": {
            "tags": []
          },
          "execution_count": 152
        }
      ]
    },
    {
      "cell_type": "code",
      "metadata": {
        "id": "xLGdxxAzJWul",
        "colab_type": "code",
        "colab": {
          "base_uri": "https://localhost:8080/",
          "height": 87
        },
        "outputId": "a4632588-2ad4-435f-849b-9575c12b37a2"
      },
      "source": [
        "precision_recall_fscore_support(testY,preds)"
      ],
      "execution_count": 153,
      "outputs": [
        {
          "output_type": "execute_result",
          "data": {
            "text/plain": [
              "(array([0.99, 1.  , 1.  , 1.  , 0.98, 0.99, 1.  , 0.99, 0.98, 0.99]),\n",
              " array([1.  , 0.99, 0.99, 0.99, 1.  , 0.99, 0.99, 0.99, 0.99, 0.98]),\n",
              " array([0.99, 1.  , 0.99, 1.  , 0.99, 0.99, 1.  , 0.99, 0.99, 0.98]),\n",
              " array([ 980, 1135, 1032, 1010,  982,  892,  958, 1028,  974, 1009]))"
            ]
          },
          "metadata": {
            "tags": []
          },
          "execution_count": 153
        }
      ]
    },
    {
      "cell_type": "code",
      "metadata": {
        "id": "AuOHEav0KFAK",
        "colab_type": "code",
        "colab": {}
      },
      "source": [
        ""
      ],
      "execution_count": 0,
      "outputs": []
    }
  ]
}