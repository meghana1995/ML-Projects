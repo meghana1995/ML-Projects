{
 "cells": [
  {
   "cell_type": "markdown",
   "metadata": {
    "hideCode": true,
    "hidePrompt": true
   },
   "source": [
    "Name: Rachit Shah <br>\n",
    "UnityID: rshah25@ncsu.edu"
   ]
  },
  {
   "cell_type": "markdown",
   "metadata": {
    "hideCode": true,
    "hidePrompt": true
   },
   "source": [
    "## Project: Data Wrangling using Pandas and Regex\n",
    "\n",
    "In this project you are asked __to implement__ and __perform a unit testing__ for a series of Python functions (Q1-Q13) that are typically required during the ***data wrangling*** phase of the end-to-end data science pipeline. A subset of unit testing functions is provided for you. You are expected to write unit testing for all the remaining functions.\n",
    "\n",
    "__Data Wrangling consists of the following main steps:__\n",
    "\n",
    "* Data Acquisition\n",
    "* Data Cleansing\n",
    "* Data Understanding: Basics\n",
    "* Data Manipulation\n",
    "  \n",
    "  \n",
    "__1. Data Acquisition Objectives__\n",
    "\n",
    "* Question 1: How to import multiples files for storage and access? (store filenames in array)\n",
    "* Question 2: How to import data in different formats? (read_excel, read_csv)\n",
    "* Question 2: How are they read into by pandas? (DataFrame)\n",
    "* Question 4: How to have a peek at the data after import? (head/tail)\n",
    "\n",
    "__2. Data Cleansing Objectives__\n",
    "\n",
    "* Question 5: Check attributes of each file\n",
    "* Question 5: Identify data types\n",
    "* Question 5: Apply coercion if applicable\n",
    "* Question 5: Check for NA/missing data\n",
    "* Question 6: Remove/replace corrupt data\n",
    "* Question 6: Identify duplicate data\n",
    "* Question 6: Check for corrupt/incorrect data  \n",
    "\n",
    "* Check for data consistency (e.g. GPA cannot be less than 0)\n",
    "* Identifying and removing outliers\n",
    "\n",
    "__3. Data Understanding Objectives__\n",
    "\n",
    "* Question 7: Basic Summary Statistics\n",
    "* Question 9: Dimensionality\n",
    "\n",
    "__4. Data Manipulation Objectives__\n",
    "\n",
    "* Question 11: Merge/Concatenate DataFrame\n",
    "* Question 11: Mapping to create a new attribute\n",
    "* Question 11: Incorporate the use of multiple functions\n",
    "* Question 12: Filter to subset the data\n",
    "* Question 13: Discretize data \n",
    "  \n",
    "  \n",
    "__Regular Expressions:__ *Regular expressions are used in conjunction with other preprocessing steps for matching/parsing patterns.*\n",
    "\n",
    "* Questions 2/5/6: Filter to subset the dataUse regular expressions to find/match specific content\n",
    "* Question 6: Filter to subset the dataString manipulation via. substring and replace methods"
   ]
  },
  {
   "cell_type": "markdown",
   "metadata": {
    "hideCode": true,
    "hidePrompt": true
   },
   "source": [
    "## Install Required Packages\n",
    "\n",
    "If you do not have Anaconda installed, then you may need to install the following packages using the following commands (Note: If you have Anaconda installed, then you already have Pandas and `regex`):\n",
    "\n",
    "> pip3 install pandas  \n",
    "  \n",
    "> pip3 install regex\n",
    "\n",
    "## INSTRUCTIONS: In all the functions, remove the `pass` statement and write your code."
   ]
  },
  {
   "cell_type": "code",
   "execution_count": 1,
   "metadata": {
    "hideCode": false,
    "hidePrompt": true
   },
   "outputs": [],
   "source": [
    "import pandas as pd\n",
    "import re\n",
    "import glob\n",
    "import copy\n",
    "import numpy as np\n",
    "\n",
    "%matplotlib inline\n",
    "import matplotlib.pyplot as plt"
   ]
  },
  {
   "cell_type": "markdown",
   "metadata": {
    "hideCode": false,
    "hidePrompt": true
   },
   "source": [
    "### __Question 1: Write a function to import all excel file names into a list.__\n",
    "\n",
    "_Hint: Use the glob module._"
   ]
  },
  {
   "cell_type": "code",
   "execution_count": 2,
   "metadata": {
    "hideCode": false,
    "hidePrompt": true
   },
   "outputs": [
    {
     "name": "stdout",
     "output_type": "stream",
     "text": [
      "['Python-QUIZ Coercion (6 min.)-grades.xlsx', 'Python-QUIZ Conditionals (6 min.)-grades.xlsx', 'Python-QUIZ Dictionaries (10 min.)-grades.xlsx', 'Python-QUIZ Exceptions (10 min.)-grades.xlsx', 'Python-QUIZ Functions (18 min.)-grades.xlsx', 'Python-QUIZ Iterations (6 min.)-grades.xlsx', 'Python-QUIZ Lists (10 min.)-grades.xlsx', 'Python-QUIZ Sets (7 min)-grades.xlsx', 'Python-QUIZ Strings (5 min.)-grades.xlsx', 'Python-QUIZ Taxonomy of Python Data Structures (12 min.)-grades.xlsx', 'Python-QUIZ Tuples (10 min.)-grades.xlsx']\n"
     ]
    }
   ],
   "source": [
    "def Q1_function():\n",
    "    \"\"\"\n",
    "    :type : None\n",
    "    :rtype: List[String]\n",
    "    \"\"\"\n",
    "    return [x.split(\"\\\\\")[1] for x in glob.glob(\"data_raw/*.xlsx\")]\n",
    "\n",
    "\n",
    "# Call the function and print the result. This result is used in subsequent questions.\n",
    "filenames = Q1_function()\n",
    "print(filenames)"
   ]
  },
  {
   "cell_type": "markdown",
   "metadata": {
    "hideCode": false,
    "hidePrompt": true
   },
   "source": [
    "### __Question 2: Write a function to return the name of the excel file based on a given string. *(The string is defined for you)*__  \n",
    "*Hints: Use the following.*\n",
    "* Regex 're.search' function.\n",
    "* Pandas function 'read_excel'"
   ]
  },
  {
   "cell_type": "code",
   "execution_count": 3,
   "metadata": {
    "hideCode": false,
    "hidePrompt": true
   },
   "outputs": [
    {
     "name": "stdout",
     "output_type": "stream",
     "text": [
      "Python-QUIZ Dictionaries (10 min.)-grades.xlsx\n"
     ]
    }
   ],
   "source": [
    "def Q2_function(files, s):\n",
    "    \"\"\"\n",
    "    :type : List[String], String\n",
    "    :rtype: String\n",
    "    \"\"\"\n",
    "    check_existence = [True if x is not None else False for x in [re.search(s,y) for y in filenames]]\n",
    "    try:\n",
    "        index = check_existence.index(True)\n",
    "    except:\n",
    "        return \"\"\n",
    "    return filenames[index]\n",
    "\n",
    "# Call the function and print the result. Use this to check the correctness of your code and for debugging.\n",
    "file = Q2_function(filenames, s = \"Dictionaries\")\n",
    "print(file)"
   ]
  },
  {
   "cell_type": "markdown",
   "metadata": {
    "hideCode": false,
    "hidePrompt": true
   },
   "source": [
    "### __Question 3: Write a function to load the \"Functions\" excel file into a Pandas DataFrame.__  \n",
    "*Hint: Remember you have executed functions in Questions 1 and 2. Try using them here. You can save some coding time!*  \n",
    "* Use the result from Question 1.\n",
    "* Use the function written in Question 2.\n",
    "* Use the Pandas function 'read_excel' to import an excel file."
   ]
  },
  {
   "cell_type": "code",
   "execution_count": 4,
   "metadata": {
    "hideCode": false,
    "hidePrompt": true
   },
   "outputs": [
    {
     "name": "stdout",
     "output_type": "stream",
     "text": [
      "       State                  Started on                   Completed  \\\n",
      "0   Finished    February 5 2018  3:19 PM    February 5 2018  3:34 PM   \n",
      "1   Finished    February 4 2018  4:01 PM    February 4 2018  4:19 PM   \n",
      "12  Finished    February 6 2018  3:57 PM    February 6 2018  4:12 PM   \n",
      "2   Finished   February 10 2018  4:05 PM   February 10 2018  4:23 PM   \n",
      "3   Finished    February 4 2018  4:59 PM    February 4 2018  5:16 PM   \n",
      "4   Finished    February 5 2018  5:20 PM    February 5 2018  5:38 PM   \n",
      "5   Finished   February 10 2018  9:49 PM  February 10 2018  10:07 PM   \n",
      "6   Finished    February 5 2018  8:30 PM    February 5 2018  8:48 PM   \n",
      "7   Finished   February 13 2018  4:17 AM   February 13 2018  4:35 AM   \n",
      "8   Finished   February 12 2018  2:19 PM   February 12 2018  2:35 PM   \n",
      "9   Finished  February 13 2018  10:45 AM  February 13 2018  11:03 AM   \n",
      "10  Finished   February 11 2018  1:48 AM   February 11 2018  2:06 AM   \n",
      "4   Finished    February 5 2018  5:20 PM    February 5 2018  5:38 PM   \n",
      "5   Finished   February 10 2018  9:49 PM  February 10 2018  10:07 PM   \n",
      "11  Finished   February 13 2018  7:07 PM   February 13 2018  7:20 PM   \n",
      "12  Finished    February 6 2018  3:57 PM    February 6 2018  4:12 PM   \n",
      "13  Finished    February 5 2018  6:52 PM    February 5 2018  7:10 PM   \n",
      "14  Finished  February 13 2018  11:33 AM  February 13 2018  11:51 AM   \n",
      "15  Finished   February 11 2018  3:39 PM   February 11 2018  3:57 PM   \n",
      "6   Finished    February 5 2018  8:30 PM    February 5 2018  8:48 PM   \n",
      "16  Finished   February 6 2018  10:41 AM   February 6 2018  11:30 AM   \n",
      "17  Finished   February 11 2018  4:20 PM   February 11 2018  4:38 PM   \n",
      "18  Finished   February 12 2018  7:52 PM   February 12 2018  8:07 PM   \n",
      "8   Finished   February 12 2018  2:19 PM   February 12 2018  2:35 PM   \n",
      "\n",
      "         Time taken  Grade/45.00  Q. 1 /5.00  Q. 2 /10.00  Q. 3 /6.00  \\\n",
      "0   14 mins 16 secs           32           5            6           6   \n",
      "1   17 mins 54 secs           31           5            8           6   \n",
      "12  15 mins 44 secs           20           3            4           3   \n",
      "2           18 mins           30           5            6           6   \n",
      "3   17 mins 31 secs           26           5            6           6   \n",
      "4   17 mins 59 secs           25           5            6           6   \n",
      "5           18 mins           24           5            6           6   \n",
      "6           18 mins           23           5            6           0   \n",
      "7     18 mins 1 sec           23           4            4           6   \n",
      "8   16 mins 44 secs           22           4            4           6   \n",
      "9     18 mins 1 sec           22           5            8           6   \n",
      "10          18 mins           21           5           10           6   \n",
      "4   17 mins 59 secs           25           5            6           6   \n",
      "5           18 mins           24           5            6           6   \n",
      "11  12 mins 59 secs           21           4            4           3   \n",
      "12  15 mins 44 secs           20           3            4           3   \n",
      "13    18 mins 1 sec           17           4            4           6   \n",
      "14          18 mins           17           5            4           3   \n",
      "15    18 mins 1 sec           16           3            6           3   \n",
      "6           18 mins           23           5            6           0   \n",
      "16  48 mins 39 secs           15           4            2           3   \n",
      "17    18 mins 1 sec           13           3            4           6   \n",
      "18  14 mins 31 secs           13           3            4           6   \n",
      "8   16 mins 44 secs           22           4            4           6   \n",
      "\n",
      "   Q. 4 /6.00 Q. 5 /12.00 Q. 6 /6.00  id  \n",
      "0        3.00       12.00       0.00   0  \n",
      "1           -       12.00       0.00   1  \n",
      "12          -       10.00       0.00  12  \n",
      "2        3.00       10.00          -   2  \n",
      "3        3.00        6.00       0.00   3  \n",
      "4        6.00        2.00       0.00   4  \n",
      "5        3.00        4.00          -   5  \n",
      "6        0.00        6.00       6.00   6  \n",
      "7        3.00        6.00       0.00   7  \n",
      "8        0.00        8.00       0.00   8  \n",
      "9        3.00           -          -   9  \n",
      "10          -           -          -  10  \n",
      "4        6.00        2.00       0.00   4  \n",
      "5        3.00        4.00          -   5  \n",
      "11       0.00        4.00       6.00  11  \n",
      "12          -       10.00       0.00  12  \n",
      "13       3.00        0.00          -  13  \n",
      "14       3.00        2.00       0.00  14  \n",
      "15       0.00        4.00          -  15  \n",
      "6        0.00        6.00       6.00   6  \n",
      "16       0.00        6.00       0.00  16  \n",
      "17          -           -          -  17  \n",
      "18       0.00        0.00       0.00  18  \n",
      "8        0.00        8.00       0.00   8  \n"
     ]
    }
   ],
   "source": [
    "def Q3_function(files, s):\n",
    "    \"\"\"\n",
    "    :type : List[String], String\n",
    "    :rtype: Pandas DataFrame\n",
    "    \"\"\"\n",
    "    return pd.read_excel(\"data_raw\\\\\"+Q2_function(files,s))\n",
    "\n",
    "\n",
    "# Call the function and print the result. This result is used in subsequent questions.\n",
    "functions_df = Q3_function(filenames, s = \"Functions\")\n",
    "print(functions_df)\n",
    "# functions_df.head(3)"
   ]
  },
  {
   "cell_type": "markdown",
   "metadata": {
    "hideCode": false,
    "hidePrompt": true
   },
   "source": [
    "### __Question 4: Using the output obtained in Question 3 as input for the current question, write a function to do the following.__  \n",
    "* Find all the names of the columns and return as a list.\n",
    "* Find the subset of the DataFrame (use `df.loc`) and return the new DataFrame. Include the following columns:   \n",
    "_\"id\", \"Time taken\", \"Grade/45.00\", \"Q. 1 /5.00\", \"Q. 2 /10.00\", \"Q. 3 /6.00\", \"Q. 4 /6.00\", \"Q. 5 /12.00\", \"Q. 6 /6.00\"_\n",
    "* Return the top 10 rows (use `df.head function`).\n",
    "\n",
    "Learn about returning multiple values in Python."
   ]
  },
  {
   "cell_type": "code",
   "execution_count": 5,
   "metadata": {
    "hideCode": false,
    "hidePrompt": true
   },
   "outputs": [
    {
     "name": "stdout",
     "output_type": "stream",
     "text": [
      "Column Names\n",
      "Index(['State', 'Started on', 'Completed', 'Time taken', 'Grade/45.00',\n",
      "       'Q. 1 /5.00', 'Q. 2 /10.00', 'Q. 3 /6.00', 'Q. 4 /6.00', 'Q. 5 /12.00',\n",
      "       'Q. 6 /6.00', 'id'],\n",
      "      dtype='object')\n",
      "\n",
      "Subsetted Data\n",
      "    id       Time taken  Grade/45.00  Q. 1 /5.00  Q. 2 /10.00  Q. 3 /6.00  \\\n",
      "0    0  14 mins 16 secs           32           5            6           6   \n",
      "1    1  17 mins 54 secs           31           5            8           6   \n",
      "12  12  15 mins 44 secs           20           3            4           3   \n",
      "2    2          18 mins           30           5            6           6   \n",
      "3    3  17 mins 31 secs           26           5            6           6   \n",
      "4    4  17 mins 59 secs           25           5            6           6   \n",
      "5    5          18 mins           24           5            6           6   \n",
      "6    6          18 mins           23           5            6           0   \n",
      "7    7    18 mins 1 sec           23           4            4           6   \n",
      "8    8  16 mins 44 secs           22           4            4           6   \n",
      "9    9    18 mins 1 sec           22           5            8           6   \n",
      "10  10          18 mins           21           5           10           6   \n",
      "4    4  17 mins 59 secs           25           5            6           6   \n",
      "5    5          18 mins           24           5            6           6   \n",
      "11  11  12 mins 59 secs           21           4            4           3   \n",
      "12  12  15 mins 44 secs           20           3            4           3   \n",
      "13  13    18 mins 1 sec           17           4            4           6   \n",
      "14  14          18 mins           17           5            4           3   \n",
      "15  15    18 mins 1 sec           16           3            6           3   \n",
      "6    6          18 mins           23           5            6           0   \n",
      "16  16  48 mins 39 secs           15           4            2           3   \n",
      "17  17    18 mins 1 sec           13           3            4           6   \n",
      "18  18  14 mins 31 secs           13           3            4           6   \n",
      "8    8  16 mins 44 secs           22           4            4           6   \n",
      "\n",
      "   Q. 4 /6.00 Q. 5 /12.00 Q. 6 /6.00  \n",
      "0        3.00       12.00       0.00  \n",
      "1           -       12.00       0.00  \n",
      "12          -       10.00       0.00  \n",
      "2        3.00       10.00          -  \n",
      "3        3.00        6.00       0.00  \n",
      "4        6.00        2.00       0.00  \n",
      "5        3.00        4.00          -  \n",
      "6        0.00        6.00       6.00  \n",
      "7        3.00        6.00       0.00  \n",
      "8        0.00        8.00       0.00  \n",
      "9        3.00           -          -  \n",
      "10          -           -          -  \n",
      "4        6.00        2.00       0.00  \n",
      "5        3.00        4.00          -  \n",
      "11       0.00        4.00       6.00  \n",
      "12          -       10.00       0.00  \n",
      "13       3.00        0.00          -  \n",
      "14       3.00        2.00       0.00  \n",
      "15       0.00        4.00          -  \n",
      "6        0.00        6.00       6.00  \n",
      "16       0.00        6.00       0.00  \n",
      "17          -           -          -  \n",
      "18       0.00        0.00       0.00  \n",
      "8        0.00        8.00       0.00  \n",
      "\n",
      "Top 10 Rows\n",
      "    id       Time taken  Grade/45.00  Q. 1 /5.00  Q. 2 /10.00  Q. 3 /6.00  \\\n",
      "0    0  14 mins 16 secs           32           5            6           6   \n",
      "1    1  17 mins 54 secs           31           5            8           6   \n",
      "12  12  15 mins 44 secs           20           3            4           3   \n",
      "2    2          18 mins           30           5            6           6   \n",
      "3    3  17 mins 31 secs           26           5            6           6   \n",
      "4    4  17 mins 59 secs           25           5            6           6   \n",
      "5    5          18 mins           24           5            6           6   \n",
      "6    6          18 mins           23           5            6           0   \n",
      "7    7    18 mins 1 sec           23           4            4           6   \n",
      "8    8  16 mins 44 secs           22           4            4           6   \n",
      "\n",
      "   Q. 4 /6.00 Q. 5 /12.00 Q. 6 /6.00  \n",
      "0        3.00       12.00       0.00  \n",
      "1           -       12.00       0.00  \n",
      "12          -       10.00       0.00  \n",
      "2        3.00       10.00          -  \n",
      "3        3.00        6.00       0.00  \n",
      "4        6.00        2.00       0.00  \n",
      "5        3.00        4.00          -  \n",
      "6        0.00        6.00       6.00  \n",
      "7        3.00        6.00       0.00  \n",
      "8        0.00        8.00       0.00  \n"
     ]
    }
   ],
   "source": [
    "def Q4_function(dataframe):\n",
    "    \"\"\"\n",
    "    :type : DataFrame\n",
    "    :rtype: [String], DataFrame, DataFrame\n",
    "    \"\"\"\n",
    "    df = dataframe.loc[:,dataframe.columns.drop([\"State\",\"Started on\",\"Completed\"])]\n",
    "    temp = df['id']\n",
    "    df = df.drop('id',axis=1)\n",
    "    df.insert(0,'id',temp)\n",
    "    return dataframe.columns, df , df.head(10)\n",
    "\n",
    "\n",
    "# Call the function and print the results. These results are used in subsequent questions.\n",
    "names, df_subset, top_10 = Q4_function(functions_df)\n",
    "\n",
    "print(\"Column Names\")\n",
    "print(names)\n",
    "print()\n",
    "print(\"Subsetted Data\")\n",
    "print(df_subset)\n",
    "print()\n",
    "print(\"Top 10 Rows\")\n",
    "print(top_10)"
   ]
  },
  {
   "cell_type": "markdown",
   "metadata": {
    "hideCode": false,
    "hidePrompt": true
   },
   "source": [
    "### Question 5: Using the subsetted DataFrame from the previous question, complete the following tasks.\n",
    "\n",
    "* Identify the data type of every column. Return as a list. *(read about dtypes)*\n",
    "* Strip all white spaces from the columns. \n",
    "    + try using list comprehension along with the 'sub' function in 're' module\n",
    "* Check if 'Time taken' column has NA or empty values:\n",
    "    + use `df.isnull().any()`. \n",
    "    + If YES, replace with 0: use `df.fillna()`.\n",
    "* Using `regex` (`re.search`), convert the 'Time taken' column into seconds (int) and store in a new column called 'time' (e.g., convert __2 mins 10 secs__ into __130__. Note that to get 130, you need to do some math. Use coersion to convert str to int.\n",
    "* Return the DataFrame with 'Time taken' column dropped."
   ]
  },
  {
   "cell_type": "code",
   "execution_count": 24,
   "metadata": {
    "hideCode": false,
    "hidePrompt": true
   },
   "outputs": [
    {
     "name": "stdout",
     "output_type": "stream",
     "text": [
      "Column Datatypes\n",
      "[dtype('int64'), dtype('O'), dtype('int64'), dtype('int64'), dtype('int64'), dtype('int64'), dtype('O'), dtype('O'), dtype('O'), dtype('int64')]\n",
      "\n",
      "New Update DataFrame\n",
      "    id  Grade/45.00  Q.1/5.00  Q.2/10.00  Q.3/6.00 Q.4/6.00 Q.5/12.00  \\\n",
      "0    0           32         5          6         6     3.00     12.00   \n",
      "1    1           31         5          8         6        -     12.00   \n",
      "12  12           20         3          4         3        -     10.00   \n",
      "2    2           30         5          6         6     3.00     10.00   \n",
      "3    3           26         5          6         6     3.00      6.00   \n",
      "4    4           25         5          6         6     6.00      2.00   \n",
      "5    5           24         5          6         6     3.00      4.00   \n",
      "6    6           23         5          6         0     0.00      6.00   \n",
      "7    7           23         4          4         6     3.00      6.00   \n",
      "8    8           22         4          4         6     0.00      8.00   \n",
      "9    9           22         5          8         6     3.00         -   \n",
      "10  10           21         5         10         6        -         -   \n",
      "4    4           25         5          6         6     6.00      2.00   \n",
      "5    5           24         5          6         6     3.00      4.00   \n",
      "11  11           21         4          4         3     0.00      4.00   \n",
      "12  12           20         3          4         3        -     10.00   \n",
      "13  13           17         4          4         6     3.00      0.00   \n",
      "14  14           17         5          4         3     3.00      2.00   \n",
      "15  15           16         3          6         3     0.00      4.00   \n",
      "6    6           23         5          6         0     0.00      6.00   \n",
      "16  16           15         4          2         3     0.00      6.00   \n",
      "17  17           13         3          4         6        -         -   \n",
      "18  18           13         3          4         6     0.00      0.00   \n",
      "8    8           22         4          4         6     0.00      8.00   \n",
      "\n",
      "   Q.6/6.00  time  \n",
      "0      0.00   856  \n",
      "1      0.00  1074  \n",
      "12     0.00   944  \n",
      "2         -  1080  \n",
      "3      0.00  1051  \n",
      "4      0.00  1079  \n",
      "5         -  1080  \n",
      "6      6.00  1080  \n",
      "7      0.00  1080  \n",
      "8      0.00  1004  \n",
      "9         -  1080  \n",
      "10        -  1080  \n",
      "4      0.00  1079  \n",
      "5         -  1080  \n",
      "11     6.00   779  \n",
      "12     0.00   944  \n",
      "13        -  1080  \n",
      "14     0.00  1080  \n",
      "15        -  1080  \n",
      "6      6.00  1080  \n",
      "16     0.00  2919  \n",
      "17        -  1080  \n",
      "18     0.00   871  \n",
      "8      0.00  1004  \n"
     ]
    }
   ],
   "source": [
    "def Q5_function(df):\n",
    "    \n",
    "    \"\"\"\n",
    "    :type : DataFrame\n",
    "    :rtype: [String], DataFrame\n",
    "    \"\"\"\n",
    "    \n",
    "    col_types = [df[x].dtype for x in df.columns]\n",
    "    #Strip all white spaces from the columns.\n",
    "    df.columns = [re.sub(r\"\\s+\",\"\",x) for x in df.columns]\n",
    "    \n",
    "    #Check if 'Time taken' column has NA or empty values\n",
    "    if df['Timetaken'].isnull().any():\n",
    "        df['Timetaken'] = df['Timetaken'].fillna(0)\n",
    "        \n",
    "    #Using regex (re.search), convert the 'Time taken' column into seconds (int) and store in a new column called 'time' \n",
    "    newtime = []\n",
    "    for q in df['Timetaken']:\n",
    "        match = re.search(r\" mins\",q)\n",
    "        mins = int(q[:match.start()] if match is not None else 0)\n",
    "        secs = int(q[match.end()+1:re.search(r\" secs\",q).start()] if re.search(r\" secs\",q) is not None else 0)\n",
    "        newtime.append(mins*60 + secs)\n",
    "    df['time'] = newtime\n",
    "    df = df.drop(\"Timetaken\",axis=1)\n",
    "    #Identify the data type of every column.\n",
    "    #Return the DataFrame with 'Time taken' column dropped\n",
    "    return col_types, df\n",
    "\n",
    "# Call the function and print the results. These results are used in subsequent questions.\n",
    "column_types, Q5_df = Q5_function(df_subset)\n",
    "print(\"Column Datatypes\")\n",
    "print(column_types)\n",
    "print()\n",
    "print(\"New Update DataFrame\")\n",
    "print(Q5_df)\n",
    "\n",
    "Q5_df_copy = Q5_df.copy()"
   ]
  },
  {
   "cell_type": "markdown",
   "metadata": {
    "hideCode": false,
    "hidePrompt": true
   },
   "source": [
    "### Question 6: Using the returned DataFrame from the previous question, complete the following tasks.\n",
    "\n",
    "* Some columns might need to be converted to integer for the subsequent tasks. Identify which columns and convert them to int/float.\n",
    "* Are there any duplicate rows? Remove them from the DataFrame.\n",
    "* Data collected might be corrupt. Check whether data is missing or corrupt. Data is missing if there is a '-'. If missing data exists, replace with the mean of other values.\n",
    "* With the above point in mind, find the mean values of all columns except 'id'. Append these as a row to your dataframe and return\n",
    "\n",
    "*Hint: Note that the maximum marks for each column is different. Make sure you parse the information from the column name.*"
   ]
  },
  {
   "cell_type": "code",
   "execution_count": 25,
   "metadata": {
    "hideCode": false,
    "hidePrompt": true
   },
   "outputs": [
    {
     "name": "stdout",
     "output_type": "stream",
     "text": [
      "      id  Grade/45.00  Q.1/5.00  Q.2/10.00  Q.3/6.00  Q.4/6.00  Q.5/12.00  \\\n",
      "0    0.0    32.000000  5.000000   6.000000  6.000000       3.0      12.00   \n",
      "1    1.0    31.000000  5.000000   8.000000  6.000000       2.0      12.00   \n",
      "12  12.0    20.000000  3.000000   4.000000  3.000000       2.0      10.00   \n",
      "2    2.0    30.000000  5.000000   6.000000  6.000000       3.0      10.00   \n",
      "3    3.0    26.000000  5.000000   6.000000  6.000000       3.0       6.00   \n",
      "4    4.0    25.000000  5.000000   6.000000  6.000000       6.0       2.00   \n",
      "5    5.0    24.000000  5.000000   6.000000  6.000000       3.0       4.00   \n",
      "6    6.0    23.000000  5.000000   6.000000  0.000000       0.0       6.00   \n",
      "7    7.0    23.000000  4.000000   4.000000  6.000000       3.0       6.00   \n",
      "8    8.0    22.000000  4.000000   4.000000  6.000000       0.0       8.00   \n",
      "9    9.0    22.000000  5.000000   8.000000  6.000000       3.0       5.75   \n",
      "10  10.0    21.000000  5.000000  10.000000  6.000000       2.0       5.75   \n",
      "11  11.0    21.000000  4.000000   4.000000  3.000000       0.0       4.00   \n",
      "13  13.0    17.000000  4.000000   4.000000  6.000000       3.0       0.00   \n",
      "14  14.0    17.000000  5.000000   4.000000  3.000000       3.0       2.00   \n",
      "15  15.0    16.000000  3.000000   6.000000  3.000000       0.0       4.00   \n",
      "16  16.0    15.000000  4.000000   2.000000  3.000000       0.0       6.00   \n",
      "17  17.0    13.000000  3.000000   4.000000  6.000000       2.0       5.75   \n",
      "18  18.0    13.000000  3.000000   4.000000  6.000000       0.0       0.00   \n",
      "19  19.0    21.631579  4.315789   5.368421  4.894737       2.0       5.75   \n",
      "\n",
      "    Q.6/6.00         time  \n",
      "0        0.0   856.000000  \n",
      "1        0.0  1074.000000  \n",
      "12       0.0   944.000000  \n",
      "2        1.0  1080.000000  \n",
      "3        0.0  1051.000000  \n",
      "4        0.0  1079.000000  \n",
      "5        1.0  1080.000000  \n",
      "6        6.0  1080.000000  \n",
      "7        0.0  1080.000000  \n",
      "8        0.0  1004.000000  \n",
      "9        1.0  1080.000000  \n",
      "10       1.0  1080.000000  \n",
      "11       6.0   779.000000  \n",
      "13       1.0  1080.000000  \n",
      "14       0.0  1080.000000  \n",
      "15       1.0  1080.000000  \n",
      "16       0.0  2919.000000  \n",
      "17       1.0  1080.000000  \n",
      "18       0.0   871.000000  \n",
      "19       1.0  1125.105263  \n"
     ]
    }
   ],
   "source": [
    "def Q6_function(df):\n",
    "    \n",
    "    \"\"\"\n",
    "    :type : DataFrame\n",
    "    :rtype: DataFrame\n",
    "    \"\"\"\n",
    "    #Some columns might need to be converted to integer for the subsequent tasks. \n",
    "    #Identify which columns and convert them to int/float.\n",
    "    cols = [y for y in [x if str(df[x].dtype) != \"dtype('int64')\" else None for x in df.columns] if y is not None]\n",
    "    for x in cols:\n",
    "        df[x] = pd.to_numeric(df[x], errors='coerce') \n",
    "          \n",
    "    #Are there any duplicate rows? Remove them from the DataFrame.\n",
    "    df.drop_duplicates(inplace=True)\n",
    "\n",
    "    #If missing data exists, replace with the mean of other values.\n",
    "    if df.isna().any().any():\n",
    "        df[cols] = df[cols].fillna(df.mean())\n",
    "\n",
    "    #find the mean values of all columns except 'id'. Append these as a row to your dataframe\n",
    "    newrow = [max(df['id'])+1]\n",
    "    for x in df.columns.drop('id'):\n",
    "        newrow.append(df[x].mean())\n",
    "    df.loc[df.index.max()+1] = newrow\n",
    "    \n",
    "    return df\n",
    "\n",
    "\n",
    "# Call the function and print the results.\n",
    "Q6_df = Q6_function(Q5_df)\n",
    "print(Q6_df)"
   ]
  },
  {
   "cell_type": "markdown",
   "metadata": {
    "hideCode": false,
    "hidePrompt": true
   },
   "source": [
    "### Question 7: Use previously created functions to load the 'Exceptions' dataset as a dataframe\n",
    "\n",
    "* Calculate the mean of the total grade obtained by the students.\n",
    "* Calculate the standard deviation of the total grade obtained by the students.\n",
    "* Calculate Q1,Q2 and Q3 (quantiles) for the total grade.\n",
    "* Find the maximum and minimum values for the total grade\n",
    "\n",
    "* Return all values rounded to 2 decimal places\n",
    "\n",
    "*Hint: Use the df.describe function*"
   ]
  },
  {
   "cell_type": "code",
   "execution_count": null,
   "metadata": {
    "hideCode": false,
    "hidePrompt": true
   },
   "outputs": [],
   "source": [
    "def Q7_function(file):\n",
    "    \"\"\"\n",
    "    :type : String\n",
    "    :rtype: Float\n",
    "    \"\"\"\n",
    "    df=Q3_function(filenames,file)\n",
    "    _ , df, _ = Q4_function(df)\n",
    "    _ , df=Q5_function(df)\n",
    "    df = Q6_function(df)\n",
    "    df.drop(df.index.max(),inplace=True)\n",
    "    return round(df['Grade/21.00'].mean(),2),\\\n",
    "            round(df['Grade/21.00'].std(),2),\\\n",
    "            round(df['Grade/21.00'].quantile(0.25),2),\\\n",
    "            round(df['Grade/21.00'].quantile(0.5),2),\\\n",
    "            round(df['Grade/21.00'].quantile(0.75),2),\\\n",
    "            round(df['Grade/21.00'].max(),2),\\\n",
    "            round(df['Grade/21.00'].min(),2)\n",
    "\n",
    "# Call the function and print the results.\n",
    "mean_,std_,q1,q2,q3,max_,min_ = Q7_function(file=\"Exceptions\")\n",
    "print(\"Mean:\", mean_)\n",
    "print(\"Std. Dev.:\", std_)\n",
    "print(\"First Quantile\", q1)\n",
    "print(\"Second Quantile\", q2)\n",
    "print(\"Third Quantile\", q3)\n",
    "print(\"Max:\", max_)\n",
    "print(\"Min:\", min_)"
   ]
  },
  {
   "cell_type": "markdown",
   "metadata": {
    "hideCode": false,
    "hidePrompt": true
   },
   "source": [
    "### Question 8: Create a boxplot of the grade distribution in the 'Exceptions' dataset.\n",
    "\n",
    "* Compare the plot lines to the values calculated in the previous question.\n",
    "* Use df.plot.box function."
   ]
  },
  {
   "cell_type": "code",
   "execution_count": null,
   "metadata": {
    "hideCode": false,
    "hidePrompt": true,
    "scrolled": true
   },
   "outputs": [],
   "source": [
    "def Q8_function(file):\n",
    "    \n",
    "    \"\"\"\n",
    "    :type : String\n",
    "    :rtype: Plot\n",
    "    \"\"\"\n",
    "    \n",
    "    df = Q3_function(filenames, file)\n",
    "    Q8_plot = df[['Grade/21.00']].plot.box(return_type='axes')\n",
    "    \n",
    "    return Q8_plot\n",
    "\n",
    "\n",
    "# Call the function. Plot will display.\n",
    "Q8_function(file='Exceptions')"
   ]
  },
  {
   "cell_type": "markdown",
   "metadata": {},
   "source": [
    "Mean: ~14.5 (assuming normal distribution equal to median) <br>\n",
    "Standard Deviation: ~2.66 (sd = (Q3-Q2)/0.75) (assuming normal) <br>\n",
    "Q1: ~13.5  (the lower line of the box/rectangle) <br>\n",
    "Q2: ~14.5 (The median - green line in the box) <br>\n",
    "Q3: ~16.5 (The upper line of the box/rectangle) <br>\n",
    "Min: ~11 (the bottom most horizontal line) <br>\n",
    "Max: ~18.5 (the top most horizontal line) <br>\n",
    "Hence, we can infer all these statistics from the boxplot graph at a quick glance and in a intuitive way."
   ]
  },
  {
   "cell_type": "markdown",
   "metadata": {
    "hideCode": false,
    "hidePrompt": true
   },
   "source": [
    "### Question 9: Return the number of rows and columns present in the 'Strings' dataset\n",
    "\n",
    "* Use the `df.shape` attribute."
   ]
  },
  {
   "cell_type": "code",
   "execution_count": null,
   "metadata": {
    "hideCode": false,
    "hidePrompt": true
   },
   "outputs": [],
   "source": [
    "def Q9_function(file):\n",
    "    \n",
    "    \"\"\"\n",
    "    :type : String\n",
    "    :rtype: list\n",
    "    \"\"\" \n",
    "    df = Q3_function(filenames,file)\n",
    "    return df.shape[0],df.shape[1]\n",
    "\n",
    "\n",
    "# Call the function and print the results\n",
    "rows, columns = Q9_function (file='Strings')\n",
    "print(\"Rows:\",rows)\n",
    "print(\"Columns:\",columns)"
   ]
  },
  {
   "cell_type": "markdown",
   "metadata": {
    "hideCode": false,
    "hidePrompt": true
   },
   "source": [
    "### Question 10: Use the output from Question 5. Group the students based on their score in 'Q. 5 /12.00' column\n",
    "\n",
    "* Which students scored 0 \n",
    "* How many students achieved the maximum possible score\n",
    "* Consider NA/missing values as 0\n",
    "\n",
    "*Hint : Use groupby function.*\n"
   ]
  },
  {
   "cell_type": "code",
   "execution_count": null,
   "metadata": {
    "hideCode": false,
    "hidePrompt": true
   },
   "outputs": [],
   "source": [
    "def Q10_function(df):\n",
    "    \n",
    "    \"\"\"\n",
    "    :type : DataFrame\n",
    "    :rtype: list, int\n",
    "    \"\"\" \n",
    "    df = Q5_df_copy\n",
    "    cols = [y for y in [x if df[x].dtype != np.dtype('int64') else None for x in df.columns] if y is not None]\n",
    "    df[cols] = df[cols].replace(\"-\",0)\n",
    "    for x in cols:\n",
    "        df[x] = df[x].astype(float)\n",
    "        df[x] = df[x].astype(int)\n",
    "    grouped  = df.groupby(\"Q.5/12.00\")\n",
    "    return grouped.groups[0].values.tolist() , len(grouped.groups[max(grouped.groups)])\n",
    "\n",
    "\n",
    "# Call the function and print the results\n",
    "zero, maximum = Q10_function(Q5_df_copy)\n",
    "print(\"Students scoring zero :\",zero)\n",
    "print(\"Number of students with maximum score :\",maximum)"
   ]
  },
  {
   "cell_type": "markdown",
   "metadata": {
    "hideCode": false,
    "hidePrompt": true
   },
   "source": [
    "### Question 11: Find out who ('id') has scored the maximum combined score in the 'Tuples' and 'Taxonomy' quiz.\n",
    "\n",
    "* Use the `pd.merge()` function.\n",
    "* Call the function you wrote for Question 5 to convert time and remove spaces in columns (will be used in later questions).\n",
    "* Create a new column 'Total_score' which is the sum of the scores of the two quizzes."
   ]
  },
  {
   "cell_type": "code",
   "execution_count": null,
   "metadata": {
    "hideCode": false,
    "hidePrompt": true
   },
   "outputs": [],
   "source": [
    "def Q11_function():\n",
    "    \n",
    "    \"\"\"\n",
    "    :type : None\n",
    "    :rtype: Dataframe, int\n",
    "    \"\"\" \n",
    "    df1 = Q3_function(filenames,\"Tuples\")\n",
    "    _ ,df1 = Q5_function(df1)\n",
    "    df2 = Q3_function(filenames,\"Taxonomy\")\n",
    "    _,df2 = Q5_function(df2)\n",
    "    df = df1.merge(df2,on=\"id\")\n",
    "    df['Total_score'] = df['Grade/20.00'] + df['Grade/21.00']\n",
    "    \n",
    "    return df,df['id'].iloc[df['Total_score'].idxmax()]\n",
    "\n",
    "\n",
    "# Call the function and print the results. The DataFrame will be used in subsequent questions\n",
    "Q11_df,max_scorer = Q11_function()\n",
    "print(\"Max scorer :\",max_scorer)"
   ]
  },
  {
   "cell_type": "markdown",
   "metadata": {
    "hideCode": false,
    "hidePrompt": true
   },
   "source": [
    "### Question 12: Use the DataFrame generated in Question 11 and return the list of ids whose total time for both quizzes is less than than 20 minutes.\n",
    "\n",
    "* Sort the list before returning.\n",
    "* Can you code it in one line?"
   ]
  },
  {
   "cell_type": "code",
   "execution_count": null,
   "metadata": {
    "hideCode": false,
    "hidePrompt": true
   },
   "outputs": [],
   "source": [
    "def Q12_function(df):\n",
    "    \n",
    "    \"\"\"\n",
    "    :type : DataFrame\n",
    "    :rtype: list(int)\n",
    "    \"\"\" \n",
    "    return sorted([df['id'][x] for x in df.index if df['time_x'][x]+df['time_y'][x] < 1200 ])\n",
    "\n",
    "\n",
    "# Call the function and print the results.\n",
    "ids = Q12_function(Q11_df)\n",
    "print(\"ID of students :\",ids)"
   ]
  },
  {
   "cell_type": "markdown",
   "metadata": {
    "hideCode": false,
    "hidePrompt": true
   },
   "source": [
    "### Question 13: Discretize the column 'Grade/45.00' for the DataFrame generated in Question 6 and create a new column. Find the number of people (id) per bin. Return a DataFrame with only the bins and count per bin.\n",
    "\n",
    "*Hints:* \n",
    "* _Use 'cut' and 'groupby'._\n",
    "* _Include the overall average in the groupings._\n",
    "* _You won't need to use 'drop' to drop columns. Use groupby and check the result._\n",
    "* _Use 5 bins_\n",
    "* Don't consider 'Overall Average' row."
   ]
  },
  {
   "cell_type": "code",
   "execution_count": null,
   "metadata": {
    "hideCode": false,
    "hidePrompt": true
   },
   "outputs": [],
   "source": [
    "def Q13_function(df):\n",
    "    \n",
    "    \"\"\"\n",
    "    :type : DataFrame\n",
    "    :rtype: DataFrame\n",
    "    \"\"\"    \n",
    "    l = [x.values.tolist() for x in df.groupby(pd.cut(df['Grade/45.00'],5)).groups.values()]\n",
    "    overall_average_index = df.index.max()\n",
    "    for x in l:\n",
    "        if  overall_average_index in x:\n",
    "            x.remove(overall_average_index)\n",
    "    return pd.Series(l)\n",
    "\n",
    "\n",
    "# Call the function and print the results.\n",
    "Q13_df = Q13_function(Q6_df)\n",
    "print(Q13_df)"
   ]
  },
  {
   "cell_type": "markdown",
   "metadata": {
    "hideCode": false,
    "hidePrompt": true
   },
   "source": [
    "### INSTRUCTIONS: Complete unit testing for the remaining functions to check correctness of your code."
   ]
  },
  {
   "cell_type": "code",
   "execution_count": 29,
   "metadata": {
    "hideCode": false,
    "hidePrompt": true
   },
   "outputs": [
    {
     "name": "stderr",
     "output_type": "stream",
     "text": [
      "test_Q01_function (__main__.TestNotebook) ... ok\n",
      "test_Q02_function (__main__.TestNotebook) ... ok\n",
      "test_Q03_function (__main__.TestNotebook) ... C:\\Users\\rachi\\Anaconda3\\lib\\site-packages\\defusedxml\\ElementTree.py:68: DeprecationWarning: The html argument of XMLParser() is deprecated\n",
      "  _XMLParser.__init__(self, html, target, encoding)\n",
      "C:\\Users\\rachi\\Anaconda3\\lib\\site-packages\\xlrd\\xlsx.py:266: PendingDeprecationWarning: This method will be removed in future versions.  Use 'tree.iter()' or 'list(tree.iter())' instead.\n",
      "  for elem in self.tree.iter() if Element_has_iter else self.tree.getiterator():\n",
      "C:\\Users\\rachi\\Anaconda3\\lib\\site-packages\\xlrd\\xlsx.py:312: PendingDeprecationWarning: This method will be removed in future versions.  Use 'tree.iter()' or 'list(tree.iter())' instead.\n",
      "  for elem in self.tree.iter() if Element_has_iter else self.tree.getiterator():\n",
      "ok\n",
      "test_Q04_function (__main__.TestNotebook) ... ok\n",
      "test_Q05_function (__main__.TestNotebook) ... FAIL\n",
      "test_Q06_function (__main__.TestNotebook) ... ok\n",
      "test_Q07_function (__main__.TestNotebook) ... ERROR\n",
      "test_Q09_function (__main__.TestNotebook) ... ERROR\n",
      "test_Q10_function (__main__.TestNotebook) ... ERROR\n",
      "test_Q11_function (__main__.TestNotebook) ... ERROR\n",
      "test_Q12_function (__main__.TestNotebook) ... ERROR\n",
      "test_Q13_function (__main__.TestNotebook) ... "
     ]
    },
    {
     "name": "stdout",
     "output_type": "stream",
     "text": [
      "['int64', 'object', 'int64', 'int64', 'int64', 'int64', 'object', 'object', 'object', 'int64']\n"
     ]
    },
    {
     "name": "stderr",
     "output_type": "stream",
     "text": [
      "ERROR\n",
      "\n",
      "======================================================================\n",
      "ERROR: test_Q07_function (__main__.TestNotebook)\n",
      "----------------------------------------------------------------------\n",
      "Traceback (most recent call last):\n",
      "  File \"<ipython-input-29-0e3da6e11c0d>\", line 65, in test_Q07_function\n",
      "    result=Q7_function(file=\"Exceptions\")\n",
      "NameError: name 'Q7_function' is not defined\n",
      "\n",
      "======================================================================\n",
      "ERROR: test_Q09_function (__main__.TestNotebook)\n",
      "----------------------------------------------------------------------\n",
      "Traceback (most recent call last):\n",
      "  File \"<ipython-input-29-0e3da6e11c0d>\", line 72, in test_Q09_function\n",
      "    row_res, col_res =Q9_function(file='Strings')\n",
      "NameError: name 'Q9_function' is not defined\n",
      "\n",
      "======================================================================\n",
      "ERROR: test_Q10_function (__main__.TestNotebook)\n",
      "----------------------------------------------------------------------\n",
      "Traceback (most recent call last):\n",
      "  File \"<ipython-input-29-0e3da6e11c0d>\", line 81, in test_Q10_function\n",
      "    zero_res, max_res =Q10_function(Q5_df_copy)\n",
      "NameError: name 'Q10_function' is not defined\n",
      "\n",
      "======================================================================\n",
      "ERROR: test_Q11_function (__main__.TestNotebook)\n",
      "----------------------------------------------------------------------\n",
      "Traceback (most recent call last):\n",
      "  File \"<ipython-input-29-0e3da6e11c0d>\", line 91, in test_Q11_function\n",
      "    df_res , max_res = Q11_function()\n",
      "NameError: name 'Q11_function' is not defined\n",
      "\n",
      "======================================================================\n",
      "ERROR: test_Q12_function (__main__.TestNotebook)\n",
      "----------------------------------------------------------------------\n",
      "Traceback (most recent call last):\n",
      "  File \"<ipython-input-29-0e3da6e11c0d>\", line 97, in test_Q12_function\n",
      "    result=Q12_function(Q11_df)\n",
      "NameError: name 'Q12_function' is not defined\n",
      "\n",
      "======================================================================\n",
      "ERROR: test_Q13_function (__main__.TestNotebook)\n",
      "----------------------------------------------------------------------\n",
      "Traceback (most recent call last):\n",
      "  File \"<ipython-input-29-0e3da6e11c0d>\", line 102, in test_Q13_function\n",
      "    temp = Q13_function(Q6_df)\n",
      "NameError: name 'Q13_function' is not defined\n",
      "\n",
      "======================================================================\n",
      "FAIL: test_Q05_function (__main__.TestNotebook)\n",
      "----------------------------------------------------------------------\n",
      "Traceback (most recent call last):\n",
      "  File \"<ipython-input-29-0e3da6e11c0d>\", line 52, in test_Q05_function\n",
      "    self.assertEqual(cols_ans,cols_result)\n",
      "AssertionError: Lists differ: [\"dtype('int64')\", \"dtype('O')\", \"dtype('i[117 chars]4')\"] != ['int64', 'object', 'int64', 'int64', 'int[47 chars]t64']\n",
      "\n",
      "First differing element 0:\n",
      "\"dtype('int64')\"\n",
      "'int64'\n",
      "\n",
      "- [\"dtype('int64')\",\n",
      "-  \"dtype('O')\",\n",
      "-  \"dtype('int64')\",\n",
      "-  \"dtype('int64')\",\n",
      "-  \"dtype('int64')\",\n",
      "-  \"dtype('int64')\",\n",
      "-  \"dtype('O')\",\n",
      "-  \"dtype('O')\",\n",
      "-  \"dtype('O')\",\n",
      "-  \"dtype('int64')\"]\n",
      "+ ['int64',\n",
      "+  'object',\n",
      "+  'int64',\n",
      "+  'int64',\n",
      "+  'int64',\n",
      "+  'int64',\n",
      "+  'object',\n",
      "+  'object',\n",
      "+  'object',\n",
      "+  'int64']\n",
      "\n",
      "----------------------------------------------------------------------\n",
      "Ran 12 tests in 0.043s\n",
      "\n",
      "FAILED (failures=1, errors=6)\n"
     ]
    },
    {
     "data": {
      "text/plain": [
       "<unittest.main.TestProgram at 0x1ba92e8f2e8>"
      ]
     },
     "execution_count": 29,
     "metadata": {},
     "output_type": "execute_result"
    }
   ],
   "source": [
    "import unittest\n",
    "\n",
    "class TestNotebook(unittest.TestCase):\n",
    "\n",
    "    def test_Q01_function(self):\n",
    "        \n",
    "        ans=['Python-QUIZ Coercion (6 min.)-grades.xlsx', 'Python-QUIZ Conditionals (6 min.)-grades.xlsx', 'Python-QUIZ Dictionaries (10 min.)-grades.xlsx', 'Python-QUIZ Exceptions (10 min.)-grades.xlsx', 'Python-QUIZ Functions (18 min.)-grades.xlsx', 'Python-QUIZ Iterations (6 min.)-grades.xlsx', 'Python-QUIZ Lists (10 min.)-grades.xlsx', 'Python-QUIZ Sets (7 min)-grades.xlsx', 'Python-QUIZ Strings (5 min.)-grades.xlsx', 'Python-QUIZ Taxonomy of Python Data Structures (12 min.)-grades.xlsx', 'Python-QUIZ Tuples (10 min.)-grades.xlsx']\n",
    "        \n",
    "        result=Q1_function()\n",
    "\n",
    "        self.assertEqual(ans,result)\n",
    "        \n",
    "    def test_Q02_function(self):\n",
    "        \n",
    "        ans='Python-QUIZ Lists (10 min.)-grades.xlsx'\n",
    "        \n",
    "        result=Q2_function(filenames, s = \"Lists\")\n",
    "        \n",
    "        #Handling removal of the path to check only filename\n",
    "        self.assertEqual(ans,result.split(\"/\")[-1].split(\"\\\\\")[-1])\n",
    "\n",
    "    def test_Q03_function(self):\n",
    "        \n",
    "        ans = ['State', 'Started on', 'Completed', 'Time taken', 'Grade/45.00',\\\n",
    "       'Q. 1 /5.00', 'Q. 2 /10.00', 'Q. 3 /6.00', 'Q. 4 /6.00', 'Q. 5 /12.00',\\\n",
    "       'Q. 6 /6.00', 'id']\n",
    "        result=Q3_function(filenames, s = \"Functions\")\n",
    "\n",
    "        self.assertEqual(ans,result.columns.tolist())\n",
    "        \n",
    "    def test_Q04_function(self):\n",
    "        \n",
    "        cols_ans=['State', 'Started on', 'Completed', 'Time taken', 'Grade/45.00', 'Q. 1 /5.00', 'Q. 2 /10.00', 'Q. 3 /6.00', 'Q. 4 /6.00', 'Q. 5 /12.00', 'Q. 6 /6.00',  'id']\n",
    "        subset_cols_ans= [\"id\", \"Time taken\", \"Grade/45.00\", \"Q. 1 /5.00\", \"Q. 2 /10.00\", \"Q. 3 /6.00\", \"Q. 4 /6.00\", \"Q. 5 /12.00\", \"Q. 6 /6.00\"]\n",
    "        top_ans=10\n",
    "        \n",
    "        cols_result,subset_result,top_result=Q4_function(functions_df)\n",
    "\n",
    "        self.assertEqual(cols_ans,list(cols_result))\n",
    "        self.assertEqual(subset_cols_ans,list(subset_result.columns))\n",
    "        self.assertEqual(top_ans,len(top_result))\n",
    "        \n",
    "    def test_Q05_function(self):\n",
    "        \n",
    "        cols_ans = [\"int64\", \"dt'O')\", \"dtype('int64')\", \"dtype('int64')\",\\\n",
    "                    \"dtype('int64')\", \"dtype('int64')\", \"dtype('O')\", \"dtype('O')\", \"dtype('O')\", \"dtype('int64')\"]\n",
    "        subset_ans = ['id','Grade/45.00','Q.1/5.00','Q.2/10.00','Q.3/6.00','Q.4/6.00','Q.5/12.00','Q.6/6.00','time']\n",
    "        \n",
    "        cols_result,subset_result=Q5_function(df_subset)\n",
    "        cols_result = [str(x) for x in cols_result]\n",
    "        print(cols_result)\n",
    "        self.assertEqual(cols_ans,cols_result)\n",
    "        self.assertEqual(subset_ans,list(subset_result.columns))\n",
    "        \n",
    "    def test_Q06_function(self):\n",
    "        \n",
    "        ans=['id','Grade/45.00', 'Q.1/5.00', 'Q.2/10.00', 'Q.3/6.00', 'Q.4/6.00', 'Q.5/12.00', 'Q.6/6.00', 'time']\n",
    "        result=Q6_function(Q5_df.copy()).columns.tolist()\n",
    "        self.assertEqual(ans, result)\n",
    "    \n",
    "    \n",
    "    def test_Q07_function(self):\n",
    "        \n",
    "        ans=(14.83,2.19,13.46,14.66,16.62,18.5,10.83) \n",
    "        result=Q7_function(file=\"Exceptions\")\n",
    "        self.assertEqual(ans, result)\n",
    "    \n",
    "    def test_Q09_function(self):\n",
    "        \n",
    "        row_ans = 17\n",
    "        col_ans = 7\n",
    "        row_res, col_res =Q9_function(file='Strings')\n",
    "        self.assertEqual(row_ans, row_res)\n",
    "        self.assertEqual(col_ans, col_res)\n",
    "\n",
    "        \n",
    "    def test_Q10_function(self):\n",
    "        \n",
    "        zero_ans = [9, 10, 13, 17, 18]\n",
    "        max_ans = 2\n",
    "        zero_res, max_res =Q10_function(Q5_df_copy)\n",
    "        self.assertEqual(zero_ans, zero_res)\n",
    "        self.assertEqual(max_ans, max_res)\n",
    "        \n",
    "    def test_Q11_function(self):\n",
    "        \n",
    "        max_ans=10\n",
    "        df_cols_ans = ['State_x','Startedon_x','Completed_x','Grade/20.00','Q.1/10.00','Q.2/10.00_x','id','time_x',\\\n",
    "                       'State_y','Startedon_y','Completed_y','Grade/21.00','Q.1/5.00','Q.2/10.00_y','Q.3/6.00',\\\n",
    "                       'time_y','Total_score']\n",
    "        df_res , max_res = Q11_function()\n",
    "        self.assertEqual(max_ans, max_res)\n",
    "        self.assertEqual(df_cols_ans, df_res.columns.tolist())\n",
    "   \n",
    "    def test_Q12_function(self):\n",
    "        ans=[3, 4, 7, 8, 12, 18]   \n",
    "        result=Q12_function(Q11_df)\n",
    "        self.assertEqual(ans, result)\n",
    "        \n",
    "    def test_Q13_function(self):\n",
    "        ans = [[15, 16, 17, 18], [12, 13, 14], [5, 6, 7, 8, 9, 10, 11], [3, 4], [0, 1, 2]]\n",
    "        temp = Q13_function(Q6_df)\n",
    "        result = [temp.iloc[x] for x in range(len(temp))]\n",
    "        for x in range(len(ans)):\n",
    "            self.assertEqual(sum(result[x]), sum(ans[x]))\n",
    "\n",
    "        \n",
    "unittest.main(argv=[''], verbosity=2, exit=False)"
   ]
  },
  {
   "cell_type": "code",
   "execution_count": null,
   "metadata": {},
   "outputs": [],
   "source": []
  }
 ],
 "metadata": {
  "celltoolbar": "Hide code",
  "hide_code_all_hidden": true,
  "kernelspec": {
   "display_name": "Python 3",
   "language": "python",
   "name": "python3"
  },
  "language_info": {
   "codemirror_mode": {
    "name": "ipython",
    "version": 3
   },
   "file_extension": ".py",
   "mimetype": "text/x-python",
   "name": "python",
   "nbconvert_exporter": "python",
   "pygments_lexer": "ipython3",
   "version": "3.7.2"
  }
 },
 "nbformat": 4,
 "nbformat_minor": 2
}
